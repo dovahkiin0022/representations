{
 "cells": [
  {
   "cell_type": "code",
   "execution_count": 1,
   "metadata": {},
   "outputs": [],
   "source": [
    "import os\n",
    "import sys\n",
    "module_path = os.path.abspath(os.path.join('..'))\n",
    "if module_path not in sys.path:\n",
    "    sys.path.append(module_path)\n",
    "os.chdir('..')"
   ]
  },
  {
   "cell_type": "code",
   "execution_count": 2,
   "metadata": {},
   "outputs": [],
   "source": [
    "import warnings\n",
    "warnings.filterwarnings('ignore')"
   ]
  },
  {
   "cell_type": "code",
   "execution_count": 3,
   "metadata": {},
   "outputs": [],
   "source": [
    "import pandas as pd\n",
    "from modules.representation_schemes import enc1d_features, get_PTR_features\n",
    "from modules.function import get_metrics, pymatgen_comp, get_elem_count, data_generator_vec\n",
    "from sklearn.decomposition import PCA\n",
    "import matplotlib.pyplot as plt\n",
    "import numpy as np\n",
    "import pandas as pd\n",
    "from sklearn.ensemble import RandomForestRegressor\n",
    "from modules.model_select import rmse, corr\n",
    "from sklearn.model_selection import KFold, train_test_split\n",
    "from sklearn import metrics\n",
    "import json\n",
    "import pickle\n",
    "import torch\n",
    "from uncertainties import ufloat\n",
    "from sklearn.pipeline import Pipeline\n",
    "from sklearn.preprocessing import StandardScaler"
   ]
  },
  {
   "cell_type": "code",
   "execution_count": 4,
   "metadata": {},
   "outputs": [],
   "source": [
    "hardness_df_loc = 'dataset/hardness.csv'\n",
    "hardness_df = pd.read_csv(hardness_df_loc)\n",
    "comps = hardness_df['Composition'].values\n",
    "y = hardness_df['HV'].values\n",
    "samples_per_bin, bins, = np.histogram(hardness_df['HV'], bins=np.arange(100,1000,100))    # Doane's method worked best for me\n",
    "min_bin_size = samples_per_bin.min()\n",
    "# compute the maximum batch size possible, using all samples from the bin with lowest population\n",
    "n_bins = len(samples_per_bin)\n",
    "hardness_df['bin_name'] = np.digitize(hardness_df['HV'].values,bins)\n",
    "pmg_comps = pymatgen_comp(comps)"
   ]
  },
  {
   "cell_type": "code",
   "execution_count": 5,
   "metadata": {},
   "outputs": [],
   "source": [
    "with open('misc/pca_results_hardness.pkl','rb') as fid: ##95% explained variance\n",
    "    pca_dict = pickle.load(fid)\n",
    "component_dict = pca_dict[0.95]"
   ]
  },
  {
   "cell_type": "markdown",
   "metadata": {},
   "source": [
    "## Random Subsampling"
   ]
  },
  {
   "cell_type": "code",
   "execution_count": 6,
   "metadata": {},
   "outputs": [
    {
     "name": "stdout",
     "output_type": "stream",
     "text": [
      "Split file written!\n"
     ]
    }
   ],
   "source": [
    "filename = 'misc/hea_hardness_random_subsampling_split.json'\n",
    "create_new = True\n",
    "if os.path.exists(filename) and not create_new:\n",
    "    with open(filename,'rb') as fid:\n",
    "        kfold_dict_random_subsampling = pickle.load(fid)\n",
    "        print('Split file loaded')\n",
    "else:\n",
    "    np.random.seed(0)\n",
    "    kfold_dict_random_subsampling = {}\n",
    "    for i in np.geomspace(0.01,0.99,10):\n",
    "        remove_inds_list = []\n",
    "        retain_inds_list = []\n",
    "        to_retain = int(len(comps)*i)\n",
    "        for j in range(10):\n",
    "            remaining_inds = np.random.choice(len(comps),to_retain, replace=False)\n",
    "            remove_inds = list(set(np.arange(len(comps))) - set(remaining_inds))\n",
    "            remove_inds_list.append(remove_inds)\n",
    "            retain_inds_list.append(remaining_inds)\n",
    "        kfold_dict_random_subsampling[np.round(i,2)] = {'remove':remove_inds_list,'retain':retain_inds_list}\n",
    "\n",
    "    with open(filename,'wb') as fid:\n",
    "        pickle.dump(kfold_dict_random_subsampling,fid)\n",
    "    print('Split file written!')"
   ]
  },
  {
   "cell_type": "code",
   "execution_count": 7,
   "metadata": {},
   "outputs": [
    {
     "name": "stdout",
     "output_type": "stream",
     "text": [
      "baseline\n",
      "dense\n",
      "atomic\n",
      "random\n",
      "random-tr\n",
      "pettifor\n",
      "mod_pettifor\n",
      "PTR\n"
     ]
    }
   ],
   "source": [
    "np.random.seed(0)\n",
    "dset = data_generator_vec(pymatgen_comp(comps))\n",
    "methods = ['baseline','dense','atomic','random','random-tr','pettifor','mod_pettifor','PTR']\n",
    "method_dict = {}\n",
    "for method in methods:\n",
    "    print(f'{method}')\n",
    "    if method == 'baseline':\n",
    "        features = dset.real_data\n",
    "    else:\n",
    "        if method == 'atomic':\n",
    "            extracted = enc1d_features(pmg_comps,'atomic')\n",
    "        elif method == 'random':\n",
    "            extracted = enc1d_features(pmg_comps,'random')\n",
    "        elif method == 'random-tr':\n",
    "            extracted = enc1d_features(pmg_comps,'random-tr')\n",
    "        elif method == 'pettifor':\n",
    "            extracted = enc1d_features(pmg_comps,'pettifor')\n",
    "        elif method == 'mod_pettifor':\n",
    "            extracted = enc1d_features(pmg_comps,'mod_pettifor')\n",
    "        elif method == 'PTR':\n",
    "            extracted = get_PTR_features(pmg_comps)\n",
    "        elif method =='dense':\n",
    "            extracted = enc1d_features(pmg_comps,'dense')\n",
    "        ind = component_dict[method]\n",
    "        pca = PCA(n_components=ind, whiten=True)\n",
    "        features = pca.fit_transform(extracted)\n",
    "    random_subsampling_dict = {}\n",
    "    for k in kfold_dict_random_subsampling.keys():\n",
    "        holdout_test = kfold_dict_random_subsampling[k]['remove']\n",
    "        retained = kfold_dict_random_subsampling[k]['retain']\n",
    "        rmse_list = []\n",
    "        r_list = []\n",
    "        baseline_model = Pipeline([('Scaler', StandardScaler()),('RF',RandomForestRegressor())])\n",
    "        for i, (train_inds, test_inds) in enumerate(zip(*[retained,holdout_test])):\n",
    "            train_features = features[train_inds]\n",
    "            train_y = y[train_inds]\n",
    "            baseline_model.fit(train_features,train_y)\n",
    "            yte_pred_holdout = baseline_model.predict(features[test_inds])\n",
    "            rmse_list.append(rmse(yte_pred_holdout,y[test_inds]))\n",
    "            r_list.append(corr(yte_pred_holdout,y[test_inds]))\n",
    "        random_subsampling_dict[k] = {'rmse': rmse_list , 'r': r_list}\n",
    "    method_dict[method] = random_subsampling_dict"
   ]
  },
  {
   "cell_type": "code",
   "execution_count": 24,
   "metadata": {},
   "outputs": [
    {
     "data": {
      "text/plain": [
       "<matplotlib.legend.Legend at 0x7f92dcba9ea0>"
      ]
     },
     "execution_count": 24,
     "metadata": {},
     "output_type": "execute_result"
    },
    {
     "data": {
      "image/png": "[encoded data removed]",
      "text/plain": [
       "<Figure size 864x432 with 2 Axes>"
      ]
     },
     "metadata": {
      "needs_background": "light"
     },
     "output_type": "display_data"
    }
   ],
   "source": [
    "fig,ax  = plt.subplots(1,2,figsize= (12,6), sharey = True)\n",
    "\n",
    "ax = ax.ravel()\n",
    "for j,c in enumerate([True,False]):\n",
    "    for method in method_dict.keys():\n",
    "        random_subsampling_dict = method_dict[method]\n",
    "        mean_list = []\n",
    "        std_list = []\n",
    "        for i in random_subsampling_dict.keys():\n",
    "            mean = np.mean(random_subsampling_dict[i]['rmse'])\n",
    "            std = np.std(random_subsampling_dict[i]['rmse'])\n",
    "            mean_list.append(mean)\n",
    "            std_list.append(std)\n",
    "        ax[j].errorbar(random_subsampling_dict.keys(),mean_list, yerr = std_list, label = method)\n",
    "        if c:\n",
    "                ax[j].set_xlabel('Percent used for training (log scale)')\n",
    "                ax[j].set_xscale('log')\n",
    "        else:\n",
    "                ax[j].set_xlabel('Percent used for training')\n",
    "        ax[j].set_ylabel('Average RMSE on holdout')\n",
    "fig.suptitle('hardness')\n",
    "plt.legend()"
   ]
  },
  {
   "cell_type": "markdown",
   "metadata": {},
   "source": [
    "## Individual elements as holdout set"
   ]
  },
  {
   "cell_type": "markdown",
   "metadata": {},
   "source": [
    "### making split for each individual elements"
   ]
  },
  {
   "cell_type": "code",
   "execution_count": 6,
   "metadata": {},
   "outputs": [
    {
     "name": "stdout",
     "output_type": "stream",
     "text": [
      "Split file loaded\n"
     ]
    }
   ],
   "source": [
    "selected_els = list(get_elem_count(comps).keys())\n",
    "filename = 'misc/hea_hardness_gen_splits.json'\n",
    "create_new = False\n",
    "if os.path.exists(filename) and not create_new:\n",
    "    with open(filename,'rb') as fid:\n",
    "        hea_hardness_gen_dict = json.load(fid)\n",
    "        print('Split file loaded')\n",
    "else:\n",
    "    hea_hardness_gen_dict = {}\n",
    "    for el in selected_els:\n",
    "        train_inds, test_inds,all_cv_train, all_cv_test = [],[],[],[]\n",
    "        for i,c in enumerate(pmg_comps):\n",
    "            if el in c.get_el_amt_dict().keys():\n",
    "                test_inds.append(i)\n",
    "            else:\n",
    "                train_inds.append(i)\n",
    "        X_train = np.array(pmg_comps)[train_inds]\n",
    "        try:\n",
    "            kf = KFold(n_splits=10, random_state=0,shuffle=True).split(X_train,y[train_inds])\n",
    "            for tr, ts in kf:\n",
    "                all_cv_train.append(tr.tolist())\n",
    "                all_cv_test.append(ts.tolist())\n",
    "            hea_hardness_gen_dict[el] = {'train':train_inds,'test':test_inds, 'cv_train':all_cv_train, 'cv_test':all_cv_test}\n",
    "        except:\n",
    "            pass\n",
    "    with open(filename,'w') as fid:\n",
    "        json.dump(hea_hardness_gen_dict, fid)\n",
    "        print('Split file written!')"
   ]
  },
  {
   "cell_type": "markdown",
   "metadata": {},
   "source": [
    "### training RFC models"
   ]
  },
  {
   "cell_type": "code",
   "execution_count": 7,
   "metadata": {},
   "outputs": [
    {
     "name": "stdout",
     "output_type": "stream",
     "text": [
      "baseline\n",
      "dense\n",
      "atomic\n",
      "random\n",
      "random-tr\n",
      "pettifor\n",
      "mod_pettifor\n",
      "PTR\n",
      "baseline\n",
      "dense\n",
      "atomic\n",
      "random\n",
      "random-tr\n",
      "pettifor\n",
      "mod_pettifor\n",
      "PTR\n",
      "baseline\n",
      "dense\n",
      "atomic\n",
      "random\n",
      "random-tr\n",
      "pettifor\n",
      "mod_pettifor\n",
      "PTR\n",
      "baseline\n",
      "dense\n",
      "atomic\n",
      "random\n",
      "random-tr\n",
      "pettifor\n",
      "mod_pettifor\n",
      "PTR\n",
      "baseline\n",
      "dense\n",
      "atomic\n",
      "random\n",
      "random-tr\n",
      "pettifor\n",
      "mod_pettifor\n",
      "PTR\n",
      "baseline\n",
      "dense\n",
      "atomic\n",
      "random\n",
      "random-tr\n",
      "pettifor\n",
      "mod_pettifor\n",
      "PTR\n",
      "baseline\n",
      "dense\n",
      "atomic\n",
      "random\n",
      "random-tr\n",
      "pettifor\n",
      "mod_pettifor\n",
      "PTR\n",
      "baseline\n",
      "dense\n",
      "atomic\n",
      "random\n",
      "random-tr\n",
      "pettifor\n",
      "mod_pettifor\n",
      "PTR\n",
      "baseline\n",
      "dense\n",
      "atomic\n",
      "random\n",
      "random-tr\n",
      "pettifor\n",
      "mod_pettifor\n",
      "PTR\n"
     ]
    }
   ],
   "source": [
    "methods = ['baseline','dense','atomic','random','random-tr','pettifor','mod_pettifor','PTR']\n",
    "dset = data_generator_vec(pymatgen_comp(comps))\n",
    "\n",
    "LOEO_dict = {}\n",
    "for k in hea_hardness_gen_dict.keys():\n",
    "    LOEO_dict[k] = {}\n",
    "    temp_dict = hea_hardness_gen_dict[k]\n",
    "    holdout_test = temp_dict['test']\n",
    "    cv_train, cv_test = temp_dict['cv_train'], temp_dict['cv_test']\n",
    "    temp_dict = {}\n",
    "    for i, method in enumerate(methods):\n",
    "        print(method)\n",
    "        if method == 'baseline':\n",
    "            features = dset.real_data\n",
    "        else:\n",
    "            if method == 'atomic':\n",
    "                extracted = enc1d_features(pmg_comps,'atomic')\n",
    "            elif method == 'random':\n",
    "                extracted = enc1d_features(pmg_comps,'random')\n",
    "            elif method == 'random-tr':\n",
    "                extracted = enc1d_features(pmg_comps,'random-tr')\n",
    "            elif method == 'pettifor':\n",
    "                extracted = enc1d_features(pmg_comps,'pettifor')\n",
    "            elif method == 'mod_pettifor':\n",
    "                extracted = enc1d_features(pmg_comps,'mod_pettifor')\n",
    "            elif method == 'PTR':\n",
    "                extracted = get_PTR_features(pmg_comps)\n",
    "            elif method =='dense':\n",
    "                extracted = enc1d_features(pmg_comps,'dense')\n",
    "            ind = component_dict[method]\n",
    "            pca = PCA(n_components=ind, whiten=True)\n",
    "            features = pca.fit_transform(extracted)\n",
    "        rmse_list = []\n",
    "        r_list = []\n",
    "        model = Pipeline([('Scaler', StandardScaler()),('RF',RandomForestRegressor(n_jobs=-1, random_state=0))])\n",
    "        temp_dict = {}\n",
    "        for i, (train_inds, test_inds) in enumerate(zip(*[cv_train,cv_test])):\n",
    "                train_features = features[train_inds]\n",
    "                train_y = y[train_inds]\n",
    "                model.fit(train_features,train_y)\n",
    "                #yte_pred= model.predict(features[test_inds])\n",
    "                yte_pred_holdout = model.predict(features[holdout_test])\n",
    "                rmse_list.append(rmse(yte_pred_holdout,y[holdout_test]))\n",
    "                r_list.append(corr(yte_pred_holdout,y[holdout_test]))\n",
    "        temp_dict[method] = {'rmse': rmse_list,'r':r_list}\n",
    "        #print(f'Element : {k}, Method : {method} , RMSE : {ufloat(np.mean(rmse_list),np.std(rmse_list))}')\n",
    "        if len(list(LOEO_dict[k].keys())) == 0:\n",
    "            LOEO_dict[k] = temp_dict\n",
    "        else:\n",
    "            LOEO_dict[k] = LOEO_dict[k]|temp_dict"
   ]
  },
  {
   "cell_type": "code",
   "execution_count": 8,
   "metadata": {},
   "outputs": [
    {
     "name": "stdout",
     "output_type": "stream",
     "text": [
      "Method : dense, Mean : 41.91179871285668, Std : 13.97853696216678\n",
      "Method : atomic, Mean : 21.673398587681426, Std : 11.028594547928073\n",
      "Method : random, Mean : 10.003592273988428, Std : 10.271222181323678\n",
      "Method : random-tr, Mean : 21.69060024076927, Std : 9.537641281060777\n",
      "Method : pettifor, Mean : 13.773442640909588, Std : 6.5723756124055575\n",
      "Method : mod_pettifor, Mean : 21.049983676380766, Std : 9.323804394324698\n",
      "Method : PTR, Mean : 22.97204825011493, Std : 8.605716527137586\n"
     ]
    }
   ],
   "source": [
    "methods = ['dense','atomic','random','random-tr','pettifor','mod_pettifor','PTR']\n",
    "for method in methods:\n",
    "    dev_list = []\n",
    "    for key in LOEO_dict.keys():\n",
    "        temp_dev = np.array(LOEO_dict[key][method]['rmse']) - np.array(LOEO_dict[key]['baseline']['rmse'])\n",
    "        dev_list.append(temp_dev)\n",
    "    dev_list = np.array(dev_list).flatten()\n",
    "    print(f'Method : {method}, Mean : {np.mean(temp_dev)}, Std : {np.std(temp_dev)}')"
   ]
  },
  {
   "cell_type": "code",
   "execution_count": 9,
   "metadata": {},
   "outputs": [
    {
     "data": {
      "text/html": [
       "<div>\n",
       "<style scoped>\n",
       "    .dataframe tbody tr th:only-of-type {\n",
       "        vertical-align: middle;\n",
       "    }\n",
       "\n",
       "    .dataframe tbody tr th {\n",
       "        vertical-align: top;\n",
       "    }\n",
       "\n",
       "    .dataframe thead th {\n",
       "        text-align: right;\n",
       "    }\n",
       "</style>\n",
       "<table border=\"1\" class=\"dataframe\">\n",
       "  <thead>\n",
       "    <tr style=\"text-align: right;\">\n",
       "      <th></th>\n",
       "      <th>baseline</th>\n",
       "      <th>dense</th>\n",
       "      <th>atomic</th>\n",
       "      <th>random</th>\n",
       "      <th>random-tr</th>\n",
       "      <th>pettifor</th>\n",
       "      <th>mod_pettifor</th>\n",
       "      <th>PTR</th>\n",
       "    </tr>\n",
       "  </thead>\n",
       "  <tbody>\n",
       "    <tr>\n",
       "      <th>Co</th>\n",
       "      <td>149+/-5</td>\n",
       "      <td>198+/-7</td>\n",
       "      <td>169+/-8</td>\n",
       "      <td>202+/-9</td>\n",
       "      <td>164+/-5</td>\n",
       "      <td>152+/-10</td>\n",
       "      <td>117.8+/-3.1</td>\n",
       "      <td>157+/-5</td>\n",
       "    </tr>\n",
       "    <tr>\n",
       "      <th>Cr</th>\n",
       "      <td>176+/-6</td>\n",
       "      <td>225.8+/-3.5</td>\n",
       "      <td>205+/-5</td>\n",
       "      <td>206+/-5</td>\n",
       "      <td>191+/-6</td>\n",
       "      <td>205+/-13</td>\n",
       "      <td>165+/-10</td>\n",
       "      <td>262+/-6</td>\n",
       "    </tr>\n",
       "    <tr>\n",
       "      <th>Ni</th>\n",
       "      <td>170+/-5</td>\n",
       "      <td>218+/-5</td>\n",
       "      <td>201+/-8</td>\n",
       "      <td>212+/-5</td>\n",
       "      <td>201+/-14</td>\n",
       "      <td>190+/-11</td>\n",
       "      <td>175+/-13</td>\n",
       "      <td>264+/-10</td>\n",
       "    </tr>\n",
       "    <tr>\n",
       "      <th>Mo</th>\n",
       "      <td>48+/-12</td>\n",
       "      <td>101+/-20</td>\n",
       "      <td>65+/-18</td>\n",
       "      <td>61+/-11</td>\n",
       "      <td>61+/-11</td>\n",
       "      <td>51+/-10</td>\n",
       "      <td>60+/-13</td>\n",
       "      <td>55+/-14</td>\n",
       "    </tr>\n",
       "    <tr>\n",
       "      <th>Al</th>\n",
       "      <td>130+/-4</td>\n",
       "      <td>178+/-7</td>\n",
       "      <td>164+/-8</td>\n",
       "      <td>180+/-5</td>\n",
       "      <td>142.1+/-3.4</td>\n",
       "      <td>153+/-7</td>\n",
       "      <td>113.3+/-3.1</td>\n",
       "      <td>145+/-5</td>\n",
       "    </tr>\n",
       "    <tr>\n",
       "      <th>Mn</th>\n",
       "      <td>43+/-6</td>\n",
       "      <td>77+/-17</td>\n",
       "      <td>55+/-10</td>\n",
       "      <td>52+/-10</td>\n",
       "      <td>61+/-8</td>\n",
       "      <td>58+/-10</td>\n",
       "      <td>44+/-6</td>\n",
       "      <td>56+/-10</td>\n",
       "    </tr>\n",
       "    <tr>\n",
       "      <th>V</th>\n",
       "      <td>61+/-11</td>\n",
       "      <td>111+/-19</td>\n",
       "      <td>63+/-10</td>\n",
       "      <td>57+/-8</td>\n",
       "      <td>72+/-13</td>\n",
       "      <td>66+/-6</td>\n",
       "      <td>44+/-6</td>\n",
       "      <td>59+/-8</td>\n",
       "    </tr>\n",
       "    <tr>\n",
       "      <th>Cu</th>\n",
       "      <td>123+/-4</td>\n",
       "      <td>143+/-7</td>\n",
       "      <td>129+/-6</td>\n",
       "      <td>110+/-5</td>\n",
       "      <td>123+/-4</td>\n",
       "      <td>100.2+/-3.5</td>\n",
       "      <td>103.3+/-2.5</td>\n",
       "      <td>108+/-9</td>\n",
       "    </tr>\n",
       "    <tr>\n",
       "      <th>Ti</th>\n",
       "      <td>59+/-8</td>\n",
       "      <td>101+/-12</td>\n",
       "      <td>81+/-7</td>\n",
       "      <td>70+/-8</td>\n",
       "      <td>81+/-7</td>\n",
       "      <td>73+/-4</td>\n",
       "      <td>81+/-6</td>\n",
       "      <td>82+/-6</td>\n",
       "    </tr>\n",
       "  </tbody>\n",
       "</table>\n",
       "</div>"
      ],
      "text/plain": [
       "   baseline        dense   atomic   random    random-tr     pettifor  \\\n",
       "Co  149+/-5      198+/-7  169+/-8  202+/-9      164+/-5     152+/-10   \n",
       "Cr  176+/-6  225.8+/-3.5  205+/-5  206+/-5      191+/-6     205+/-13   \n",
       "Ni  170+/-5      218+/-5  201+/-8  212+/-5     201+/-14     190+/-11   \n",
       "Mo  48+/-12     101+/-20  65+/-18  61+/-11      61+/-11      51+/-10   \n",
       "Al  130+/-4      178+/-7  164+/-8  180+/-5  142.1+/-3.4      153+/-7   \n",
       "Mn   43+/-6      77+/-17  55+/-10  52+/-10       61+/-8      58+/-10   \n",
       "V   61+/-11     111+/-19  63+/-10   57+/-8      72+/-13       66+/-6   \n",
       "Cu  123+/-4      143+/-7  129+/-6  110+/-5      123+/-4  100.2+/-3.5   \n",
       "Ti   59+/-8     101+/-12   81+/-7   70+/-8       81+/-7       73+/-4   \n",
       "\n",
       "   mod_pettifor       PTR  \n",
       "Co  117.8+/-3.1   157+/-5  \n",
       "Cr     165+/-10   262+/-6  \n",
       "Ni     175+/-13  264+/-10  \n",
       "Mo      60+/-13   55+/-14  \n",
       "Al  113.3+/-3.1   145+/-5  \n",
       "Mn       44+/-6   56+/-10  \n",
       "V        44+/-6    59+/-8  \n",
       "Cu  103.3+/-2.5   108+/-9  \n",
       "Ti       81+/-6    82+/-6  "
      ]
     },
     "execution_count": 9,
     "metadata": {},
     "output_type": "execute_result"
    }
   ],
   "source": [
    "test_df = pd.DataFrame.from_dict(LOEO_dict,orient='index')\n",
    "def alternate_text(x):\n",
    "    mean = np.round(np.mean(x['rmse']),3)\n",
    "    std = np.round(np.std(x['rmse']),3)\n",
    "    return ufloat(mean,std)\n",
    "\n",
    "test_df = test_df.applymap(alternate_text)\n",
    "test_df"
   ]
  }
 ],
 "metadata": {
  "kernelspec": {
   "display_name": "Python 3.10.4 ('representations': conda)",
   "language": "python",
   "name": "python3"
  },
  "language_info": {
   "codemirror_mode": {
    "name": "ipython",
    "version": 3
   },
   "file_extension": ".py",
   "mimetype": "text/x-python",
   "name": "python",
   "nbconvert_exporter": "python",
   "pygments_lexer": "ipython3",
   "version": "3.10.4"
  },
  "orig_nbformat": 4,
  "vscode": {
   "interpreter": {
    "hash": "5d6d4f329abd04bfe6379b099819ba9ed35c0bee691259b7aa14222222f8ecb9"
   }
  }
 },
 "nbformat": 4,
 "nbformat_minor": 2
}
