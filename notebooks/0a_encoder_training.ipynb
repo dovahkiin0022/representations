{
 "cells": [
  {
   "cell_type": "code",
   "execution_count": 1,
   "metadata": {},
   "outputs": [],
   "source": [
    "import os\n",
    "import sys\n",
    "module_path = os.path.abspath(os.path.join('..'))\n",
    "if module_path not in sys.path:\n",
    "    sys.path.append(module_path)\n",
    "os.chdir('..')"
   ]
  },
  {
   "cell_type": "code",
   "execution_count": 2,
   "metadata": {},
   "outputs": [],
   "source": [
    "import pickle\n",
    "import re\n",
    "import numpy as np\n",
    "import pandas as pd\n",
    "import random\n",
    "import torch\n",
    "import torch.optim as optim\n",
    "from sklearn.model_selection import train_test_split\n",
    "from torch.utils.data import DataLoader\n",
    "import tqdm\n",
    "import joblib\n",
    "import os\n",
    "from sklearn.metrics import classification_report\n",
    "import matplotlib.pyplot as plt\n",
    "import seaborn as sns\n",
    "import json\n",
    "from uncertainties import ufloat\n",
    "from modules.function import PTR, special_formatting, check_cuda, PTR_modified, image_modified, get_metrics\n",
    "from modules.representation_schemes import get_PTR_features\n",
    "from modules.encoder import Encoder, Identity, Encoder1D, EncoderDNN, count_parameters"
   ]
  },
  {
   "cell_type": "code",
   "execution_count": 3,
   "metadata": {},
   "outputs": [
    {
     "name": "stdout",
     "output_type": "stream",
     "text": [
      "Enabling notebook extension jupyter-js-widgets/extension...\n",
      "      - Validating: \u001b[32mOK\u001b[0m\n"
     ]
    }
   ],
   "source": [
    "!jupyter nbextension enable --py widgetsnbextension"
   ]
  },
  {
   "cell_type": "code",
   "execution_count": 4,
   "metadata": {},
   "outputs": [
    {
     "data": {
      "text/plain": [
       "<torch._C.Generator at 0x7f073670cc30>"
      ]
     },
     "execution_count": 4,
     "metadata": {},
     "output_type": "execute_result"
    }
   ],
   "source": [
    "random.seed(0)\n",
    "torch.manual_seed(0)"
   ]
  },
  {
   "cell_type": "code",
   "execution_count": 5,
   "metadata": {},
   "outputs": [],
   "source": [
    "gfa_dataset_file = 'gfa_dataset.txt'\n",
    "common_path = \"Files_from_GTDL_paper/{}\" \n",
    "gfa_dataset = pickle.load(open(common_path.format(gfa_dataset_file), 'rb'))  "
   ]
  },
  {
   "cell_type": "code",
   "execution_count": 6,
   "metadata": {},
   "outputs": [],
   "source": [
    "gfa_i=[]\n",
    "gfa_a=[]\n",
    "gfa_b=[]\n",
    "gfa_c=[]\n",
    "to_discard = ['Rf','Db','Sg','Bh','Hs']\n",
    "for i in  gfa_dataset:\n",
    "    tx_gfa=re.findall('\\[[a-c]?\\]', i)\n",
    "    tx1_element=re.findall('[A-Z][a-z]?', i)#[B, Fe, P,No]\n",
    "    if len(set(tx1_element).intersection(set(to_discard))) == 0:      \n",
    "        gfa_i.extend(tx_gfa)\n",
    "        if tx_gfa[0]=='[a]':\n",
    "            gfa_a.append(gfa_dataset.index(i))\n",
    "        elif tx_gfa[0]=='[b]':\n",
    "            gfa_b.append(gfa_dataset.index(i)) \n",
    "        else:\n",
    "            gfa_c.append(gfa_dataset.index(i))\n",
    "        \n",
    "gfa_data_form=[]\n",
    "gfa_data_form_p = []\n",
    "gfa_data_form_b=[]\n",
    "\n",
    "#------------------------------------------------------------------------------\n",
    "#map raw data to 2-D image using PTR\n",
    "for i in gfa_a:\n",
    "    x,p,y = PTR(gfa_dataset[i])\n",
    "    gfa_data_form=gfa_data_form+x\n",
    "    gfa_data_form_p = gfa_data_form_p+p\n",
    "    gfa_data_form_b=gfa_data_form_b+y\n",
    "for i in gfa_c:\n",
    "    x,p,y = PTR(gfa_dataset[i])\n",
    "    gfa_data_form=gfa_data_form+x\n",
    "    gfa_data_form_p = gfa_data_form_p+p\n",
    "    gfa_data_form_b=gfa_data_form_b+y \n",
    "for i in gfa_b:\n",
    "    x,p,y = PTR(gfa_dataset[i])\n",
    "    gfa_data_form=gfa_data_form+x\n",
    "    gfa_data_form_p = gfa_data_form_p+p\n",
    "    gfa_data_form_b=gfa_data_form_b+y\n",
    "\n",
    "X_all = np.array(gfa_data_form).reshape(-1, 1,9, 18).astype('float32') \n",
    "y_all = np.array(gfa_data_form_b).reshape(-1,1).astype('float32')\n",
    "p_all = np.array(gfa_data_form_p).reshape(-1,1).astype('float32')"
   ]
  },
  {
   "cell_type": "code",
   "execution_count": 7,
   "metadata": {},
   "outputs": [],
   "source": [
    "saveloc = 'saved_models/Encoders/PTR'\n",
    "if not os.path.exists(saveloc):\n",
    "        os.makedirs(f'{saveloc}')\n",
    "with open('misc/kfold.pkl','rb') as fid:\n",
    "    fold_dict = pickle.load(fid)\n",
    "folds = len(list(fold_dict.keys()))"
   ]
  },
  {
   "cell_type": "code",
   "execution_count": 10,
   "metadata": {},
   "outputs": [
    {
     "name": "stdout",
     "output_type": "stream",
     "text": [
      "Fold 0\n"
     ]
    },
    {
     "data": {
      "application/json": {
       "ascii": false,
       "bar_format": null,
       "colour": null,
       "elapsed": 0.011087417602539062,
       "initial": 0,
       "n": 0,
       "ncols": null,
       "nrows": null,
       "postfix": null,
       "prefix": "",
       "rate": null,
       "total": 2000,
       "unit": "it",
       "unit_divisor": 1000,
       "unit_scale": false
      },
      "application/vnd.jupyter.widget-view+json": {
       "model_id": "f053237514f9448aa1f986d7e931e2e3",
       "version_major": 2,
       "version_minor": 0
      },
      "text/plain": [
       "  0%|          | 0/2000 [00:00<?, ?it/s]"
      ]
     },
     "metadata": {},
     "output_type": "display_data"
    },
    {
     "name": "stdout",
     "output_type": "stream",
     "text": [
      "Epoch : 1, Loss : 183.17983329296112\n",
      "Epoch : 500, Loss : 39.43397355824709\n",
      "Epoch : 1000, Loss : 31.46480217948556\n",
      "Epoch : 1500, Loss : 27.505871287547052\n",
      "Epoch : 2000, Loss : 25.26799281127751\n",
      "accuracy : 0.942,precision : 0.9417,recall : 0.942,F1 : 0.9416\n",
      "Fold 1\n"
     ]
    },
    {
     "data": {
      "application/json": {
       "ascii": false,
       "bar_format": null,
       "colour": null,
       "elapsed": 0.012441158294677734,
       "initial": 0,
       "n": 0,
       "ncols": null,
       "nrows": null,
       "postfix": null,
       "prefix": "",
       "rate": null,
       "total": 2000,
       "unit": "it",
       "unit_divisor": 1000,
       "unit_scale": false
      },
      "application/vnd.jupyter.widget-view+json": {
       "model_id": "5090f43403b54fab8dc73a897e56f2cc",
       "version_major": 2,
       "version_minor": 0
      },
      "text/plain": [
       "  0%|          | 0/2000 [00:00<?, ?it/s]"
      ]
     },
     "metadata": {},
     "output_type": "display_data"
    },
    {
     "name": "stdout",
     "output_type": "stream",
     "text": [
      "Epoch : 1, Loss : 182.32558631896973\n",
      "Epoch : 500, Loss : 42.68794519454241\n",
      "Epoch : 1000, Loss : 34.4045373685658\n",
      "Epoch : 1500, Loss : 30.894036013633013\n",
      "Epoch : 2000, Loss : 27.66494202706963\n",
      "accuracy : 0.9554,precision : 0.9554,recall : 0.9554,F1 : 0.9554\n",
      "Fold 2\n"
     ]
    },
    {
     "data": {
      "application/json": {
       "ascii": false,
       "bar_format": null,
       "colour": null,
       "elapsed": 0.010708093643188477,
       "initial": 0,
       "n": 0,
       "ncols": null,
       "nrows": null,
       "postfix": null,
       "prefix": "",
       "rate": null,
       "total": 2000,
       "unit": "it",
       "unit_divisor": 1000,
       "unit_scale": false
      },
      "application/vnd.jupyter.widget-view+json": {
       "model_id": "2186f007cc524eba87167d3e771b37b3",
       "version_major": 2,
       "version_minor": 0
      },
      "text/plain": [
       "  0%|          | 0/2000 [00:00<?, ?it/s]"
      ]
     },
     "metadata": {},
     "output_type": "display_data"
    },
    {
     "name": "stdout",
     "output_type": "stream",
     "text": [
      "Epoch : 1, Loss : 186.03058871626854\n",
      "Epoch : 500, Loss : 40.57861889153719\n",
      "Epoch : 1000, Loss : 32.9983250759542\n",
      "Epoch : 1500, Loss : 28.567957000806928\n",
      "Epoch : 2000, Loss : 25.73964098468423\n",
      "accuracy : 0.955,precision : 0.9548,recall : 0.955,F1 : 0.9548\n",
      "Fold 3\n"
     ]
    },
    {
     "data": {
      "application/json": {
       "ascii": false,
       "bar_format": null,
       "colour": null,
       "elapsed": 0.023174762725830078,
       "initial": 0,
       "n": 0,
       "ncols": null,
       "nrows": null,
       "postfix": null,
       "prefix": "",
       "rate": null,
       "total": 2000,
       "unit": "it",
       "unit_divisor": 1000,
       "unit_scale": false
      },
      "application/vnd.jupyter.widget-view+json": {
       "model_id": "f8cfdee532724f5db5ea389bb8fb0ed5",
       "version_major": 2,
       "version_minor": 0
      },
      "text/plain": [
       "  0%|          | 0/2000 [00:00<?, ?it/s]"
      ]
     },
     "metadata": {},
     "output_type": "display_data"
    },
    {
     "name": "stdout",
     "output_type": "stream",
     "text": [
      "Epoch : 1, Loss : 185.46952664852142\n",
      "Epoch : 500, Loss : 41.90808242559433\n",
      "Epoch : 1000, Loss : 33.9031830355525\n",
      "Epoch : 1500, Loss : 29.80672311037779\n",
      "Epoch : 2000, Loss : 27.47973731905222\n",
      "accuracy : 0.9459,precision : 0.9478,recall : 0.9459,F1 : 0.9463\n",
      "Fold 4\n"
     ]
    },
    {
     "data": {
      "application/json": {
       "ascii": false,
       "bar_format": null,
       "colour": null,
       "elapsed": 0.010413646697998047,
       "initial": 0,
       "n": 0,
       "ncols": null,
       "nrows": null,
       "postfix": null,
       "prefix": "",
       "rate": null,
       "total": 2000,
       "unit": "it",
       "unit_divisor": 1000,
       "unit_scale": false
      },
      "application/vnd.jupyter.widget-view+json": {
       "model_id": "9433ecf9369248fa8a489e274e17957f",
       "version_major": 2,
       "version_minor": 0
      },
      "text/plain": [
       "  0%|          | 0/2000 [00:00<?, ?it/s]"
      ]
     },
     "metadata": {},
     "output_type": "display_data"
    },
    {
     "name": "stdout",
     "output_type": "stream",
     "text": [
      "Epoch : 1, Loss : 184.0010987520218\n",
      "Epoch : 500, Loss : 37.452142123132944\n",
      "Epoch : 1000, Loss : 28.9424535240978\n",
      "Epoch : 1500, Loss : 24.981969507411122\n",
      "Epoch : 2000, Loss : 23.030844592489302\n",
      "accuracy : 0.9435,precision : 0.9438,recall : 0.9435,F1 : 0.9436\n",
      "Fold 5\n"
     ]
    },
    {
     "data": {
      "application/json": {
       "ascii": false,
       "bar_format": null,
       "colour": null,
       "elapsed": 0.010534524917602539,
       "initial": 0,
       "n": 0,
       "ncols": null,
       "nrows": null,
       "postfix": null,
       "prefix": "",
       "rate": null,
       "total": 2000,
       "unit": "it",
       "unit_divisor": 1000,
       "unit_scale": false
      },
      "application/vnd.jupyter.widget-view+json": {
       "model_id": "13f94befb2a749eea1277ae6fb008c76",
       "version_major": 2,
       "version_minor": 0
      },
      "text/plain": [
       "  0%|          | 0/2000 [00:00<?, ?it/s]"
      ]
     },
     "metadata": {},
     "output_type": "display_data"
    },
    {
     "name": "stdout",
     "output_type": "stream",
     "text": [
      "Epoch : 1, Loss : 184.2721265554428\n",
      "Epoch : 500, Loss : 38.498045548796654\n",
      "Epoch : 1000, Loss : 31.151646917685866\n",
      "Epoch : 1500, Loss : 26.44242448732257\n",
      "Epoch : 2000, Loss : 23.520072928629816\n",
      "accuracy : 0.954,precision : 0.9539,recall : 0.954,F1 : 0.954\n",
      "Fold 6\n"
     ]
    },
    {
     "data": {
      "application/json": {
       "ascii": false,
       "bar_format": null,
       "colour": null,
       "elapsed": 0.010445594787597656,
       "initial": 0,
       "n": 0,
       "ncols": null,
       "nrows": null,
       "postfix": null,
       "prefix": "",
       "rate": null,
       "total": 2000,
       "unit": "it",
       "unit_divisor": 1000,
       "unit_scale": false
      },
      "application/vnd.jupyter.widget-view+json": {
       "model_id": "98d0e0fc2a094337be7f2c40009f3a7a",
       "version_major": 2,
       "version_minor": 0
      },
      "text/plain": [
       "  0%|          | 0/2000 [00:00<?, ?it/s]"
      ]
     },
     "metadata": {},
     "output_type": "display_data"
    },
    {
     "name": "stdout",
     "output_type": "stream",
     "text": [
      "Epoch : 1, Loss : 181.22463032603264\n",
      "Epoch : 500, Loss : 41.60358419269323\n",
      "Epoch : 1000, Loss : 33.3487838935107\n",
      "Epoch : 1500, Loss : 30.080545926466584\n",
      "Epoch : 2000, Loss : 26.341428384184837\n",
      "accuracy : 0.954,precision : 0.9565,recall : 0.954,F1 : 0.9545\n",
      "Fold 7\n"
     ]
    },
    {
     "data": {
      "application/json": {
       "ascii": false,
       "bar_format": null,
       "colour": null,
       "elapsed": 0.01056051254272461,
       "initial": 0,
       "n": 0,
       "ncols": null,
       "nrows": null,
       "postfix": null,
       "prefix": "",
       "rate": null,
       "total": 2000,
       "unit": "it",
       "unit_divisor": 1000,
       "unit_scale": false
      },
      "application/vnd.jupyter.widget-view+json": {
       "model_id": "8b46278851f047bda93ea899febb3f1a",
       "version_major": 2,
       "version_minor": 0
      },
      "text/plain": [
       "  0%|          | 0/2000 [00:00<?, ?it/s]"
      ]
     },
     "metadata": {},
     "output_type": "display_data"
    },
    {
     "name": "stdout",
     "output_type": "stream",
     "text": [
      "Epoch : 1, Loss : 183.76460376381874\n",
      "Epoch : 500, Loss : 41.98644769191742\n",
      "Epoch : 1000, Loss : 33.68509687297046\n",
      "Epoch : 1500, Loss : 29.527751888148487\n",
      "Epoch : 2000, Loss : 26.40369381196797\n",
      "accuracy : 0.9511,precision : 0.9509,recall : 0.9511,F1 : 0.9508\n",
      "Fold 8\n"
     ]
    },
    {
     "data": {
      "application/json": {
       "ascii": false,
       "bar_format": null,
       "colour": null,
       "elapsed": 0.010576486587524414,
       "initial": 0,
       "n": 0,
       "ncols": null,
       "nrows": null,
       "postfix": null,
       "prefix": "",
       "rate": null,
       "total": 2000,
       "unit": "it",
       "unit_divisor": 1000,
       "unit_scale": false
      },
      "application/vnd.jupyter.widget-view+json": {
       "model_id": "3d6861d8a3f44980a8fa4278be314f4c",
       "version_major": 2,
       "version_minor": 0
      },
      "text/plain": [
       "  0%|          | 0/2000 [00:00<?, ?it/s]"
      ]
     },
     "metadata": {},
     "output_type": "display_data"
    },
    {
     "name": "stdout",
     "output_type": "stream",
     "text": [
      "Epoch : 1, Loss : 185.4059585928917\n",
      "Epoch : 500, Loss : 41.37420576438308\n",
      "Epoch : 1000, Loss : 33.64906053803861\n",
      "Epoch : 1500, Loss : 29.98067594319582\n",
      "Epoch : 2000, Loss : 27.401899557560682\n",
      "accuracy : 0.9444,precision : 0.9443,recall : 0.9444,F1 : 0.9439\n",
      "Fold 9\n"
     ]
    },
    {
     "data": {
      "application/json": {
       "ascii": false,
       "bar_format": null,
       "colour": null,
       "elapsed": 0.013110876083374023,
       "initial": 0,
       "n": 0,
       "ncols": null,
       "nrows": null,
       "postfix": null,
       "prefix": "",
       "rate": null,
       "total": 2000,
       "unit": "it",
       "unit_divisor": 1000,
       "unit_scale": false
      },
      "application/vnd.jupyter.widget-view+json": {
       "model_id": "dde084e8e4f340189280082c3708f9af",
       "version_major": 2,
       "version_minor": 0
      },
      "text/plain": [
       "  0%|          | 0/2000 [00:00<?, ?it/s]"
      ]
     },
     "metadata": {},
     "output_type": "display_data"
    },
    {
     "name": "stdout",
     "output_type": "stream",
     "text": [
      "Epoch : 1, Loss : 186.35210025310516\n",
      "Epoch : 500, Loss : 41.667573511600494\n",
      "Epoch : 1000, Loss : 35.08071529492736\n",
      "Epoch : 1500, Loss : 30.448315019719303\n",
      "Epoch : 2000, Loss : 27.569192219525576\n",
      "accuracy : 0.9478,precision : 0.9475,recall : 0.9478,F1 : 0.9474\n"
     ]
    }
   ],
   "source": [
    "cuda = check_cuda()\n",
    "metrics_list = {}\n",
    "for k in range(folds):\n",
    "    print('Fold {}'.format(k))\n",
    "    #--------------------------------------------------------------------------\n",
    "\n",
    "    i_tr= fold_dict[k]['train_inds']\n",
    "    i_te= fold_dict[k]['test_inds']\n",
    "    #i_te=i_te[2*k::20]+i_te[1+2*k::20]\n",
    "    X_train, X_test = X_all[i_tr], X_all[i_te]\n",
    "    y_train, y_test = y_all[i_tr], y_all[i_te]\n",
    "    p_train, p_test = p_all[i_tr], p_all[i_te]\n",
    "    batch = 64\n",
    "    Xy = [(X_train[i],y_train[i],p_train[i]) for i in range(len(y_train))]\n",
    "    train_loader = DataLoader(Xy, batch_size = batch , shuffle=True)\n",
    "    gfa_Encoder = Encoder(1,1)\n",
    "    e_optimizer = optim.Adam(gfa_Encoder.parameters(),lr = 2e-4)\n",
    "    num_iterations = 2000\n",
    "\n",
    "    if cuda:\n",
    "        gfa_Encoder = gfa_Encoder.cuda()\n",
    "    log_interval = int(5e2)\n",
    "    for iter in tqdm.notebook.tqdm(range(num_iterations)):\n",
    "        train_loss = 0.0\n",
    "        for data in train_loader:\n",
    "            X,y,p = data\n",
    "            if cuda:\n",
    "                X = X.cuda()\n",
    "                y = y.cuda()\n",
    "                p = p.cuda()\n",
    "            e_optimizer.zero_grad()\n",
    "            target = gfa_Encoder(X,p)\n",
    "            if cuda:\n",
    "                target = target.cuda()\n",
    "            e_error = torch.nn.BCELoss()(target,y)\n",
    "            e_error.backward(retain_graph=True)\n",
    "            e_optimizer.step()\n",
    "            train_loss += e_error.cpu().item()\n",
    "        if iter == 0 or (iter + 1) % log_interval == 0:  \n",
    "            print('Epoch : {}, Loss : {}'.format(iter+1,train_loss))\n",
    "    model_scripted = torch.jit.script(gfa_Encoder.cpu())\n",
    "    model_scripted.save(os.path.join(saveloc,'Encoder2D_ptr_fold{}.pt'.format(k)))\n",
    "    if X_test.dtype != torch.float32:\n",
    "        X_test = torch.from_numpy(X_test)\n",
    "        p_test = torch.from_numpy(p_test)\n",
    "    if cuda:\n",
    "        X_test =  X_test.cuda()\n",
    "        p_test = p_test.cuda()\n",
    "    y_predict = (gfa_Encoder(X_test,p_test)).to('cpu').detach().numpy()\n",
    "    metrics = get_metrics(y_test,np.round(y_predict))\n",
    "    metrics_list[k] = metrics\n",
    "    print('accuracy : {},precision : {},recall : {},F1 : {}'.format(metrics[0],metrics[1],metrics[2],metrics[3]))"
   ]
  },
  {
   "cell_type": "code",
   "execution_count": 4,
   "metadata": {},
   "outputs": [
    {
     "ename": "NameError",
     "evalue": "name 'metrics_list' is not defined",
     "output_type": "error",
     "traceback": [
      "\u001b[0;31m---------------------------------------------------------------------------\u001b[0m",
      "\u001b[0;31mNameError\u001b[0m                                 Traceback (most recent call last)",
      "\u001b[1;32m/noether/s0/aqd5773/representations/notebooks/0a_encoder_training.ipynb Cell 10\u001b[0m in \u001b[0;36m<cell line: 2>\u001b[0;34m()\u001b[0m\n\u001b[1;32m      <a href='vscode-notebook-cell://ssh-remote%2Bnoether.matse.psu.edu/noether/s0/aqd5773/representations/notebooks/0a_encoder_training.ipynb#X12sdnNjb2RlLXJlbW90ZQ%3D%3D?line=0'>1</a>\u001b[0m sup_dict \u001b[39m=\u001b[39m {}\n\u001b[0;32m----> <a href='vscode-notebook-cell://ssh-remote%2Bnoether.matse.psu.edu/noether/s0/aqd5773/representations/notebooks/0a_encoder_training.ipynb#X12sdnNjb2RlLXJlbW90ZQ%3D%3D?line=1'>2</a>\u001b[0m sup_dict[\u001b[39m'\u001b[39m\u001b[39mptr\u001b[39m\u001b[39m'\u001b[39m] \u001b[39m=\u001b[39m metrics_list\n\u001b[1;32m      <a href='vscode-notebook-cell://ssh-remote%2Bnoether.matse.psu.edu/noether/s0/aqd5773/representations/notebooks/0a_encoder_training.ipynb#X12sdnNjb2RlLXJlbW90ZQ%3D%3D?line=2'>3</a>\u001b[0m \u001b[39mimport\u001b[39;00m \u001b[39mjson\u001b[39;00m\n\u001b[1;32m      <a href='vscode-notebook-cell://ssh-remote%2Bnoether.matse.psu.edu/noether/s0/aqd5773/representations/notebooks/0a_encoder_training.ipynb#X12sdnNjb2RlLXJlbW90ZQ%3D%3D?line=3'>4</a>\u001b[0m \u001b[39mwith\u001b[39;00m \u001b[39mopen\u001b[39m(\u001b[39m'\u001b[39m\u001b[39mresults/representation_stats.json\u001b[39m\u001b[39m'\u001b[39m, \u001b[39m'\u001b[39m\u001b[39mw\u001b[39m\u001b[39m'\u001b[39m) \u001b[39mas\u001b[39;00m f:\n",
      "\u001b[0;31mNameError\u001b[0m: name 'metrics_list' is not defined"
     ]
    }
   ],
   "source": [
    "sup_dict = {}\n",
    "sup_dict['ptr'] = metrics_list\n",
    "import json\n",
    "with open('results/representation_stats.json', 'w') as f:\n",
    "    json.dump(sup_dict, f)"
   ]
  },
  {
   "cell_type": "code",
   "execution_count": 4,
   "metadata": {},
   "outputs": [],
   "source": [
    "import json\n",
    "with open('results/representation_stats.json', 'r') as f:\n",
    "    sup_dict = json.load(f)"
   ]
  },
  {
   "cell_type": "code",
   "execution_count": 7,
   "metadata": {},
   "outputs": [],
   "source": [
    "metrics_list = sup_dict['ptr']"
   ]
  },
  {
   "cell_type": "code",
   "execution_count": 8,
   "metadata": {},
   "outputs": [
    {
     "name": "stdout",
     "output_type": "stream",
     "text": [
      "Accuracy : 0.949+/-0.005, \n",
      "Precision : 0.950+/-0.005, \n",
      "Recall : 0.949+/-0.005, \n",
      "F1 Score : 0.949+/-0.005\n"
     ]
    }
   ],
   "source": [
    "col_names = ['Accuracy','Precision','Recall','F1 Score']\n",
    "stat_df = pd.DataFrame.from_dict(metrics_list,orient='index',columns=col_names)\n",
    "mean_stats, std_stats = stat_df.values.mean(axis=0), stat_df.values.std(axis=0)\n",
    "best_ind = np.argwhere(stat_df['F1 Score'].values == np.max(stat_df['F1 Score'])).item()\n",
    "vals = [ufloat(np.round(mean_stats[i],3), np.round(std_stats[i],3)) for i in range(len(mean_stats))]\n",
    "print('Accuracy : {}, \\nPrecision : {}, \\nRecall : {}, \\nF1 Score : {}'.format(vals[0],vals[1],vals[2],vals[3]))"
   ]
  },
  {
   "cell_type": "code",
   "execution_count": 9,
   "metadata": {},
   "outputs": [
    {
     "data": {
      "text/plain": [
       "'saved_models/best_models/2DEncoder_PTR.pt'"
      ]
     },
     "execution_count": 9,
     "metadata": {},
     "output_type": "execute_result"
    }
   ],
   "source": [
    "import shutil\n",
    "saveloc = 'saved_models/Encoders/PTR'\n",
    "best_model_loc = 'saved_models/best_models'\n",
    "if not os.path.exists(best_model_loc):\n",
    "    os.makedirs(f'{best_model_loc}')\n",
    "best_model_name = sorted(os.listdir(saveloc))[best_ind]\n",
    "shutil.copy(os.path.join(saveloc,best_model_name), os.path.join(best_model_loc,'2DEncoder_PTR.pt')) "
   ]
  }
 ],
 "metadata": {
  "kernelspec": {
   "display_name": "Python 3.10.4 ('representations': conda)",
   "language": "python",
   "name": "python3"
  },
  "language_info": {
   "codemirror_mode": {
    "name": "ipython",
    "version": 3
   },
   "file_extension": ".py",
   "mimetype": "text/x-python",
   "name": "python",
   "nbconvert_exporter": "python",
   "pygments_lexer": "ipython3",
   "version": "3.10.4"
  },
  "orig_nbformat": 4,
  "vscode": {
   "interpreter": {
    "hash": "5d6d4f329abd04bfe6379b099819ba9ed35c0bee691259b7aa14222222f8ecb9"
   }
  }
 },
 "nbformat": 4,
 "nbformat_minor": 2
}
