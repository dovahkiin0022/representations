{
 "cells": [
  {
   "cell_type": "code",
   "execution_count": 1,
   "metadata": {},
   "outputs": [],
   "source": [
    "import os\n",
    "import sys\n",
    "module_path = os.path.abspath(os.path.join('..'))\n",
    "if module_path not in sys.path:\n",
    "    sys.path.append(module_path)\n",
    "os.chdir('..')"
   ]
  },
  {
   "cell_type": "code",
   "execution_count": 25,
   "metadata": {},
   "outputs": [],
   "source": [
    "import pickle\n",
    "import re\n",
    "import numpy as np\n",
    "import pandas as pd\n",
    "import random\n",
    "import torch\n",
    "import torch.optim as optim\n",
    "from sklearn.model_selection import train_test_split\n",
    "from torch.utils.data import DataLoader\n",
    "import tqdm\n",
    "import joblib\n",
    "import os\n",
    "from sklearn.metrics import classification_report\n",
    "import matplotlib.pyplot as plt\n",
    "import seaborn as sns\n",
    "import json\n",
    "from uncertainties import ufloat\n",
    "from modules.function import PTR, special_formatting, check_cuda, PTR_modified, image_modified, get_metrics\n",
    "from modules.representation_schemes import get_PTR_features\n",
    "from modules.encoder import Encoder, Identity"
   ]
  },
  {
   "cell_type": "code",
   "execution_count": 3,
   "metadata": {},
   "outputs": [
    {
     "name": "stdout",
     "output_type": "stream",
     "text": [
      "Enabling notebook extension jupyter-js-widgets/extension...\n",
      "      - Validating: \u001b[32mOK\u001b[0m\n"
     ]
    }
   ],
   "source": [
    "!jupyter nbextension enable --py widgetsnbextension"
   ]
  },
  {
   "cell_type": "code",
   "execution_count": 4,
   "metadata": {},
   "outputs": [
    {
     "data": {
      "text/plain": [
       "<torch._C.Generator at 0x7fe4e0438c70>"
      ]
     },
     "execution_count": 4,
     "metadata": {},
     "output_type": "execute_result"
    }
   ],
   "source": [
    "random.seed(0)\n",
    "torch.manual_seed(0)"
   ]
  },
  {
   "cell_type": "code",
   "execution_count": 5,
   "metadata": {},
   "outputs": [],
   "source": [
    "gfa_dataset_file = 'gfa_dataset.txt'\n",
    "common_path = \"Files_from_GTDL_paper/{}\" \n",
    "gfa_dataset = pickle.load(open(common_path.format(gfa_dataset_file), 'rb'))  "
   ]
  },
  {
   "cell_type": "code",
   "execution_count": 6,
   "metadata": {},
   "outputs": [],
   "source": [
    "gfa_i=[]\n",
    "gfa_a=[]\n",
    "gfa_b=[]\n",
    "gfa_c=[]\n",
    "for i in  gfa_dataset:\n",
    "    tx_gfa=re.findall('\\[[a-c]?\\]', i)#[B, Fe, P,No]\n",
    "    gfa_i.extend(tx_gfa)\n",
    "    if tx_gfa[0]=='[a]':\n",
    "        gfa_a.append(gfa_dataset.index(i))\n",
    "    elif tx_gfa[0]=='[b]':\n",
    "        gfa_b.append(gfa_dataset.index(i)) \n",
    "    else:\n",
    "        gfa_c.append(gfa_dataset.index(i))\n",
    "        \n",
    "gfa_data_form=[]\n",
    "gfa_data_form_b=[]\n",
    "#------------------------------------------------------------------------------\n",
    "#map raw data to 2-D image using PTR\n",
    "for i in gfa_a:\n",
    "    x,y = PTR_modified(gfa_dataset[i])\n",
    "    gfa_data_form=gfa_data_form+x\n",
    "    gfa_data_form_b=gfa_data_form_b+y\n",
    "for i in gfa_c:\n",
    "    x,y = PTR_modified(gfa_dataset[i])\n",
    "    gfa_data_form=gfa_data_form+x\n",
    "    gfa_data_form_b=gfa_data_form_b+y \n",
    "for i in gfa_b:\n",
    "    x,y = PTR_modified(gfa_dataset[i])\n",
    "    gfa_data_form=gfa_data_form+x\n",
    "    gfa_data_form_b=gfa_data_form_b+y\n",
    "\n",
    "X_all = np.array(gfa_data_form).reshape(-1, 1,9, 18).astype('float32') \n",
    "y_all = np.array(gfa_data_form_b).reshape(-1,1).astype('float32')"
   ]
  },
  {
   "cell_type": "code",
   "execution_count": 7,
   "metadata": {},
   "outputs": [],
   "source": [
    "saveloc = 'saved_models/Encoders/PTR'\n",
    "if not os.path.exists(saveloc):\n",
    "        os.makedirs(f'{saveloc}')"
   ]
  },
  {
   "cell_type": "code",
   "execution_count": null,
   "metadata": {},
   "outputs": [
    {
     "name": "stdout",
     "output_type": "stream",
     "text": [
      "Fold 0\n"
     ]
    },
    {
     "data": {
      "application/json": {
       "ascii": false,
       "bar_format": null,
       "colour": null,
       "elapsed": 0.009966373443603516,
       "initial": 0,
       "n": 0,
       "ncols": null,
       "nrows": null,
       "postfix": null,
       "prefix": "",
       "rate": null,
       "total": 2000,
       "unit": "it",
       "unit_divisor": 1000,
       "unit_scale": false
      },
      "application/vnd.jupyter.widget-view+json": {
       "model_id": "a80bbb182c8c4060895ddcde33a77a53",
       "version_major": 2,
       "version_minor": 0
      },
      "text/plain": [
       "  0%|          | 0/2000 [00:00<?, ?it/s]"
      ]
     },
     "metadata": {},
     "output_type": "display_data"
    },
    {
     "name": "stdout",
     "output_type": "stream",
     "text": [
      "Epoch : 1, Loss : 90.42927724123001\n",
      "Epoch : 500, Loss : 25.389043539762497\n",
      "Epoch : 1000, Loss : 20.406454630196095\n",
      "Epoch : 1500, Loss : 17.808362305164337\n",
      "Epoch : 2000, Loss : 15.661701884120703\n",
      "accuracy : 0.9148,precision : 0.9152,recall : 0.9148,F1 : 0.9146\n",
      "Fold 1\n"
     ]
    },
    {
     "data": {
      "application/json": {
       "ascii": false,
       "bar_format": null,
       "colour": null,
       "elapsed": 0.009520530700683594,
       "initial": 0,
       "n": 0,
       "ncols": null,
       "nrows": null,
       "postfix": null,
       "prefix": "",
       "rate": null,
       "total": 2000,
       "unit": "it",
       "unit_divisor": 1000,
       "unit_scale": false
      },
      "application/vnd.jupyter.widget-view+json": {
       "model_id": "3b09267277d3456f99582dafa1d14890",
       "version_major": 2,
       "version_minor": 0
      },
      "text/plain": [
       "  0%|          | 0/2000 [00:00<?, ?it/s]"
      ]
     },
     "metadata": {},
     "output_type": "display_data"
    },
    {
     "name": "stdout",
     "output_type": "stream",
     "text": [
      "Epoch : 1, Loss : 90.49303877353668\n",
      "Epoch : 500, Loss : 25.25445021688938\n",
      "Epoch : 1000, Loss : 19.934607729315758\n",
      "Epoch : 1500, Loss : 17.780681535601616\n",
      "Epoch : 2000, Loss : 15.741295136511326\n",
      "accuracy : 0.9296,precision : 0.93,recall : 0.9296,F1 : 0.9294\n",
      "Fold 2\n"
     ]
    },
    {
     "data": {
      "application/json": {
       "ascii": false,
       "bar_format": null,
       "colour": null,
       "elapsed": 0.009458541870117188,
       "initial": 0,
       "n": 0,
       "ncols": null,
       "nrows": null,
       "postfix": null,
       "prefix": "",
       "rate": null,
       "total": 2000,
       "unit": "it",
       "unit_divisor": 1000,
       "unit_scale": false
      },
      "application/vnd.jupyter.widget-view+json": {
       "model_id": "1dfc4cb4b1c44b588749e90d454367ed",
       "version_major": 2,
       "version_minor": 0
      },
      "text/plain": [
       "  0%|          | 0/2000 [00:00<?, ?it/s]"
      ]
     },
     "metadata": {},
     "output_type": "display_data"
    },
    {
     "name": "stdout",
     "output_type": "stream",
     "text": [
      "Epoch : 1, Loss : 90.43790435791016\n",
      "Epoch : 500, Loss : 27.48120227456093\n",
      "Epoch : 1000, Loss : 21.43263839185238\n",
      "Epoch : 1500, Loss : 18.89907817170024\n",
      "Epoch : 2000, Loss : 16.433014675974846\n",
      "accuracy : 0.9224,precision : 0.9228,recall : 0.9224,F1 : 0.9225\n",
      "Fold 3\n"
     ]
    },
    {
     "data": {
      "application/json": {
       "ascii": false,
       "bar_format": null,
       "colour": null,
       "elapsed": 0.009412527084350586,
       "initial": 0,
       "n": 0,
       "ncols": null,
       "nrows": null,
       "postfix": null,
       "prefix": "",
       "rate": null,
       "total": 2000,
       "unit": "it",
       "unit_divisor": 1000,
       "unit_scale": false
      },
      "application/vnd.jupyter.widget-view+json": {
       "model_id": "affbbb9fafcf4b759209025590e08824",
       "version_major": 2,
       "version_minor": 0
      },
      "text/plain": [
       "  0%|          | 0/2000 [00:00<?, ?it/s]"
      ]
     },
     "metadata": {},
     "output_type": "display_data"
    },
    {
     "name": "stdout",
     "output_type": "stream",
     "text": [
      "Epoch : 1, Loss : 90.31334483623505\n",
      "Epoch : 500, Loss : 25.99514551460743\n",
      "Epoch : 1000, Loss : 20.33621884509921\n",
      "Epoch : 1500, Loss : 17.645549934357405\n",
      "Epoch : 2000, Loss : 16.00643054768443\n",
      "accuracy : 0.9085,precision : 0.91,recall : 0.9085,F1 : 0.9086\n",
      "Fold 4\n"
     ]
    },
    {
     "data": {
      "application/json": {
       "ascii": false,
       "bar_format": null,
       "colour": null,
       "elapsed": 0.009947538375854492,
       "initial": 0,
       "n": 0,
       "ncols": null,
       "nrows": null,
       "postfix": null,
       "prefix": "",
       "rate": null,
       "total": 2000,
       "unit": "it",
       "unit_divisor": 1000,
       "unit_scale": false
      },
      "application/vnd.jupyter.widget-view+json": {
       "model_id": "d90b37c256c94b04a8f93d4389dc3b17",
       "version_major": 2,
       "version_minor": 0
      },
      "text/plain": [
       "  0%|          | 0/2000 [00:00<?, ?it/s]"
      ]
     },
     "metadata": {},
     "output_type": "display_data"
    },
    {
     "name": "stdout",
     "output_type": "stream",
     "text": [
      "Epoch : 1, Loss : 90.57363539934158\n",
      "Epoch : 500, Loss : 26.39319644868374\n",
      "Epoch : 1000, Loss : 21.803099505603313\n",
      "Epoch : 1500, Loss : 18.982519332319498\n",
      "Epoch : 2000, Loss : 16.82677185535431\n",
      "accuracy : 0.9219,precision : 0.9219,recall : 0.9219,F1 : 0.9219\n",
      "Fold 5\n"
     ]
    },
    {
     "data": {
      "application/json": {
       "ascii": false,
       "bar_format": null,
       "colour": null,
       "elapsed": 0.009935855865478516,
       "initial": 0,
       "n": 0,
       "ncols": null,
       "nrows": null,
       "postfix": null,
       "prefix": "",
       "rate": null,
       "total": 2000,
       "unit": "it",
       "unit_divisor": 1000,
       "unit_scale": false
      },
      "application/vnd.jupyter.widget-view+json": {
       "model_id": "f39aac0d16c34d5d8f9929c0a1a950c7",
       "version_major": 2,
       "version_minor": 0
      },
      "text/plain": [
       "  0%|          | 0/2000 [00:00<?, ?it/s]"
      ]
     },
     "metadata": {},
     "output_type": "display_data"
    },
    {
     "name": "stdout",
     "output_type": "stream",
     "text": [
      "Epoch : 1, Loss : 90.32925391197205\n",
      "Epoch : 500, Loss : 27.08493160456419\n",
      "Epoch : 1000, Loss : 22.785734441131353\n",
      "Epoch : 1500, Loss : 19.005338810384274\n",
      "Epoch : 2000, Loss : 17.448392372578382\n",
      "accuracy : 0.9114,precision : 0.9115,recall : 0.9114,F1 : 0.9113\n",
      "Fold 6\n"
     ]
    },
    {
     "data": {
      "application/json": {
       "ascii": false,
       "bar_format": null,
       "colour": null,
       "elapsed": 0.009974002838134766,
       "initial": 0,
       "n": 0,
       "ncols": null,
       "nrows": null,
       "postfix": null,
       "prefix": "",
       "rate": null,
       "total": 2000,
       "unit": "it",
       "unit_divisor": 1000,
       "unit_scale": false
      },
      "application/vnd.jupyter.widget-view+json": {
       "model_id": "b66fcfb6c0184b14acbc29d46e70bd56",
       "version_major": 2,
       "version_minor": 0
      },
      "text/plain": [
       "  0%|          | 0/2000 [00:00<?, ?it/s]"
      ]
     },
     "metadata": {},
     "output_type": "display_data"
    },
    {
     "name": "stdout",
     "output_type": "stream",
     "text": [
      "Epoch : 1, Loss : 90.49720102548599\n",
      "Epoch : 500, Loss : 26.124778173863888\n",
      "Epoch : 1000, Loss : 20.94458582997322\n",
      "Epoch : 1500, Loss : 17.707814309746027\n",
      "Epoch : 2000, Loss : 16.623765226453543\n",
      "accuracy : 0.9219,precision : 0.9229,recall : 0.9219,F1 : 0.9216\n",
      "Fold 7\n"
     ]
    },
    {
     "data": {
      "application/json": {
       "ascii": false,
       "bar_format": null,
       "colour": null,
       "elapsed": 0.009927034378051758,
       "initial": 0,
       "n": 0,
       "ncols": null,
       "nrows": null,
       "postfix": null,
       "prefix": "",
       "rate": null,
       "total": 2000,
       "unit": "it",
       "unit_divisor": 1000,
       "unit_scale": false
      },
      "application/vnd.jupyter.widget-view+json": {
       "model_id": "aeaec6a8e9094a5ebe40602005ba6a64",
       "version_major": 2,
       "version_minor": 0
      },
      "text/plain": [
       "  0%|          | 0/2000 [00:00<?, ?it/s]"
      ]
     },
     "metadata": {},
     "output_type": "display_data"
    },
    {
     "name": "stdout",
     "output_type": "stream",
     "text": [
      "Epoch : 1, Loss : 90.39806795120239\n",
      "Epoch : 500, Loss : 25.458346016705036\n",
      "Epoch : 1000, Loss : 20.132190257310867\n",
      "Epoch : 1500, Loss : 17.869455505162477\n",
      "Epoch : 2000, Loss : 16.31752660870552\n",
      "accuracy : 0.9258,precision : 0.9261,recall : 0.9258,F1 : 0.9257\n",
      "Fold 8\n"
     ]
    },
    {
     "data": {
      "application/json": {
       "ascii": false,
       "bar_format": null,
       "colour": null,
       "elapsed": 0.009929656982421875,
       "initial": 0,
       "n": 0,
       "ncols": null,
       "nrows": null,
       "postfix": null,
       "prefix": "",
       "rate": null,
       "total": 2000,
       "unit": "it",
       "unit_divisor": 1000,
       "unit_scale": false
      },
      "application/vnd.jupyter.widget-view+json": {
       "model_id": "e5087e64947843a79c222eb780f44787",
       "version_major": 2,
       "version_minor": 0
      },
      "text/plain": [
       "  0%|          | 0/2000 [00:00<?, ?it/s]"
      ]
     },
     "metadata": {},
     "output_type": "display_data"
    },
    {
     "name": "stdout",
     "output_type": "stream",
     "text": [
      "Epoch : 1, Loss : 90.46083587408066\n",
      "Epoch : 500, Loss : 27.208476692438126\n",
      "Epoch : 1000, Loss : 20.64193169400096\n",
      "Epoch : 1500, Loss : 17.129823226481676\n",
      "Epoch : 2000, Loss : 15.35202245786786\n",
      "accuracy : 0.9272,precision : 0.9273,recall : 0.9272,F1 : 0.9272\n",
      "Fold 9\n"
     ]
    },
    {
     "data": {
      "application/json": {
       "ascii": false,
       "bar_format": null,
       "colour": null,
       "elapsed": 0.009975910186767578,
       "initial": 0,
       "n": 0,
       "ncols": null,
       "nrows": null,
       "postfix": null,
       "prefix": "",
       "rate": null,
       "total": 2000,
       "unit": "it",
       "unit_divisor": 1000,
       "unit_scale": false
      },
      "application/vnd.jupyter.widget-view+json": {
       "model_id": "2873c32f23ed49f78b3b09352b6041db",
       "version_major": 2,
       "version_minor": 0
      },
      "text/plain": [
       "  0%|          | 0/2000 [00:00<?, ?it/s]"
      ]
     },
     "metadata": {},
     "output_type": "display_data"
    },
    {
     "name": "stdout",
     "output_type": "stream",
     "text": [
      "Epoch : 1, Loss : 90.46387475728989\n",
      "Epoch : 500, Loss : 24.868167266249657\n",
      "Epoch : 1000, Loss : 19.698240876197815\n",
      "Epoch : 1500, Loss : 17.281819328665733\n",
      "Epoch : 2000, Loss : 15.179746977984905\n",
      "accuracy : 0.9272,precision : 0.9273,recall : 0.9272,F1 : 0.9271\n"
     ]
    }
   ],
   "source": [
    "cuda = check_cuda()\n",
    "metrics_list = {}\n",
    "for k in range(10):\n",
    "    print('Fold {}'.format(k))\n",
    "    #--------------------------------------------------------------------------\n",
    "    i_tr=[i for i in range(len(y_all))]\n",
    "    i_te= np.random.choice(i_tr,int(len(i_tr)*0.20), replace=False)\n",
    "    #i_te=i_te[2*k::20]+i_te[1+2*k::20]\n",
    "    for i in i_te:\n",
    "        i_tr.remove(i)\n",
    "    X_train, X_test = X_all[i_tr], X_all[i_te]\n",
    "    y_train, y_test = y_all[i_tr], y_all[i_te]\n",
    "    batch = 64\n",
    "    Xy = [(X_train[i],y_train[i]) for i in range(len(y_train))]\n",
    "    train_loader = DataLoader(Xy, batch_size = batch , shuffle=True)\n",
    "    gfa_Encoder = Encoder(1,1)\n",
    "    e_optimizer = optim.Adam(gfa_Encoder.parameters(),lr = 2e-4)\n",
    "    num_iterations = 2000\n",
    "\n",
    "    if cuda:\n",
    "        gfa_Encoder = gfa_Encoder.cuda()\n",
    "    log_interval = int(5e2)\n",
    "    for iter in tqdm.notebook.tqdm(range(num_iterations)):\n",
    "        train_loss = 0.0\n",
    "        for data in train_loader:\n",
    "            X,y = data\n",
    "            if cuda:\n",
    "                X = X.cuda()\n",
    "                y = y.cuda()\n",
    "            e_optimizer.zero_grad()\n",
    "            target = gfa_Encoder(X)\n",
    "            if cuda:\n",
    "                target = target.cuda()\n",
    "            e_error = torch.nn.BCELoss()(target,y)\n",
    "            e_error.backward(retain_graph=True)\n",
    "            e_optimizer.step()\n",
    "            train_loss += e_error.cpu().item()\n",
    "        if iter == 0 or (iter + 1) % log_interval == 0:  \n",
    "            print('Epoch : {}, Loss : {}'.format(iter+1,train_loss))\n",
    "\n",
    "    joblib.dump(gfa_Encoder,os.path.join(saveloc,'Encoder2D_ptr_fold{}.pt'.format(k)))\n",
    "    if X_test.dtype != torch.float32:\n",
    "        X_test = torch.from_numpy(X_test)\n",
    "    if cuda:\n",
    "        X_test =  X_test.cuda()\n",
    "    y_predict = (gfa_Encoder(X_test)).to('cpu').detach().numpy()\n",
    "    metrics = get_metrics(y_test,np.round(y_predict))\n",
    "    metrics_list[k] = metrics\n",
    "    print('accuracy : {},precision : {},recall : {},F1 : {}'.format(metrics[0],metrics[1],metrics[2],metrics[3]))"
   ]
  },
  {
   "cell_type": "code",
   "execution_count": 10,
   "metadata": {},
   "outputs": [],
   "source": [
    "sup_dict = {}\n",
    "sup_dict['ptr'] = metrics_list\n",
    "import json\n",
    "with open('results/representation_stats.json', 'w') as f:\n",
    "    json.dump(sup_dict, f)"
   ]
  },
  {
   "cell_type": "code",
   "execution_count": 29,
   "metadata": {},
   "outputs": [
    {
     "name": "stdout",
     "output_type": "stream",
     "text": [
      "Accuracy : 0.921+/-0.007, \n",
      "Precision : 0.922+/-0.007, \n",
      "Recall : 0.921+/-0.007, \n",
      "F1 Score : 0.921+/-0.007\n"
     ]
    }
   ],
   "source": [
    "col_names = ['Accuracy','Precision','Recall','F1 Score']\n",
    "stat_df = pd.DataFrame.from_dict(metrics_list,orient='index',columns=col_names)\n",
    "mean_stats, std_stats = stat_df.values.mean(axis=0), stat_df.values.std(axis=0)\n",
    "best_ind = np.argwhere(stat_df['F1 Score'].values == np.max(stat_df['F1 Score'])).item()\n",
    "vals = [ufloat(np.round(mean_stats[i],3), np.round(std_stats[i],3)) for i in range(len(mean_stats))]\n",
    "print('Accuracy : {}, \\nPrecision : {}, \\nRecall : {}, \\nF1 Score : {}'.format(vals[0],vals[1],vals[2],vals[3]))"
   ]
  },
  {
   "cell_type": "code",
   "execution_count": 36,
   "metadata": {},
   "outputs": [
    {
     "data": {
      "text/plain": [
       "'saved_models/best_models/2DEncoder_PTR.pt'"
      ]
     },
     "execution_count": 36,
     "metadata": {},
     "output_type": "execute_result"
    }
   ],
   "source": [
    "import shutil\n",
    "best_model_loc = 'saved_models/best_models'\n",
    "if not os.path.exists(best_model_loc):\n",
    "    os.makedirs(f'{best_model_loc}')\n",
    "best_model_name = sorted(os.listdir(saveloc))[best_ind]\n",
    "shutil.copy(os.path.join(saveloc,best_model_name), os.path.join(best_model_loc,'2DEncoder_PTR.pt')) "
   ]
  }
 ],
 "metadata": {
  "kernelspec": {
   "display_name": "Python 3.10.4 ('representations': conda)",
   "language": "python",
   "name": "python3"
  },
  "language_info": {
   "codemirror_mode": {
    "name": "ipython",
    "version": 3
   },
   "file_extension": ".py",
   "mimetype": "text/x-python",
   "name": "python",
   "nbconvert_exporter": "python",
   "pygments_lexer": "ipython3",
   "version": "3.10.4"
  },
  "orig_nbformat": 4,
  "vscode": {
   "interpreter": {
    "hash": "5d6d4f329abd04bfe6379b099819ba9ed35c0bee691259b7aa14222222f8ecb9"
   }
  }
 },
 "nbformat": 4,
 "nbformat_minor": 2
}
