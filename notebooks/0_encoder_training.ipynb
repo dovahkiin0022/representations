{
 "cells": [
  {
   "cell_type": "code",
   "execution_count": 1,
   "metadata": {},
   "outputs": [],
   "source": [
    "import os\n",
    "import sys\n",
    "module_path = os.path.abspath(os.path.join('..'))\n",
    "if module_path not in sys.path:\n",
    "    sys.path.append(module_path)\n",
    "os.chdir('..')"
   ]
  },
  {
   "cell_type": "code",
   "execution_count": 31,
   "metadata": {},
   "outputs": [],
   "source": [
    "from modules.function import get_elem_count, alt_read_gfa_dataset, check_cuda, get_metrics, image, read_gfa_dataset\n",
    "from modules.representation_schemes import get_atomic_number_features, get_pettifor_features, get_modified_pettifor_features, get_random_features, get_random_features_dense, random_order_alpha, get_1D_features_gfa, get_dense_features_gfa\n",
    "from modules.encoder import Encoder1D, EncoderDNN, Encoder\n",
    "import re\n",
    "import torch.optim as optim\n",
    "from torch.utils.data import DataLoader\n",
    "import tqdm\n",
    "import joblib\n",
    "import random\n",
    "import torch\n",
    "import pickle\n",
    "from decimal import Decimal\n",
    "import pandas as pd\n",
    "import numpy as np\n",
    "import json\n",
    "from sklearn.model_selection import KFold, StratifiedKFold\n",
    "from itertools import combinations\n",
    "from scipy.stats import ttest_ind\n",
    "import matplotlib.pyplot as plt\n",
    "from matplotlib import cm as cm"
   ]
  },
  {
   "cell_type": "code",
   "execution_count": 3,
   "metadata": {},
   "outputs": [
    {
     "name": "stdout",
     "output_type": "stream",
     "text": [
      "Enabling notebook extension jupyter-js-widgets/extension...\n",
      "      - Validating: \u001b[32mOK\u001b[0m\n"
     ]
    }
   ],
   "source": [
    "!jupyter nbextension enable --py widgetsnbextension"
   ]
  },
  {
   "cell_type": "code",
   "execution_count": 4,
   "metadata": {},
   "outputs": [
    {
     "name": "stdout",
     "output_type": "stream",
     "text": [
      "Fold dictionary loaded!\n"
     ]
    }
   ],
   "source": [
    "np.random.seed(0)\n",
    "kfold_loc = 'misc/CV_folds/gfa_kfold.pkl'\n",
    "create_new = False\n",
    "if os.path.exists(kfold_loc) and not create_new:\n",
    "    with open(kfold_loc,'rb') as fid:\n",
    "        fold_dict = pickle.load(fid)\n",
    "    print('Fold dictionary loaded!')\n",
    "else:\n",
    "    fold_dict = {}\n",
    "    X, y, _ = get_dense_features_gfa()\n",
    "    kfold = StratifiedKFold(n_splits = 10, random_state = 0, shuffle=True)\n",
    "    for i,(train_index, test_index) in enumerate(kfold.split(X, y)):\n",
    "        #print(\"TRAIN:\", train_index, \"TEST:\", test_index)\n",
    "        fold_dict[i] = {'train_inds':train_index, 'test_inds':test_index}\n",
    "    with open(kfold_loc,'wb') as fid:\n",
    "        pickle.dump(fold_dict,fid)\n",
    "    print('Fold dictionary created!')"
   ]
  },
  {
   "cell_type": "code",
   "execution_count": null,
   "metadata": {},
   "outputs": [
    {
     "name": "stdout",
     "output_type": "stream",
     "text": [
      "Method : pettifor\n"
     ]
    },
    {
     "data": {
      "application/json": {
       "ascii": false,
       "bar_format": null,
       "colour": null,
       "elapsed": 0.021796226501464844,
       "initial": 0,
       "n": 0,
       "ncols": null,
       "nrows": 16,
       "postfix": null,
       "prefix": "",
       "rate": null,
       "total": 2000,
       "unit": "it",
       "unit_divisor": 1000,
       "unit_scale": false
      },
      "application/vnd.jupyter.widget-view+json": {
       "model_id": "73618e80244346cc9f63b409ac2667ac",
       "version_major": 2,
       "version_minor": 0
      },
      "text/plain": [
       "  0%|          | 0/2000 [00:00<?, ?it/s]"
      ]
     },
     "metadata": {},
     "output_type": "display_data"
    },
    {
     "name": "stdout",
     "output_type": "stream",
     "text": [
      "Epoch : 1, Loss : 184.90075674653053\n",
      "Epoch : 500, Loss : 47.41315748542547\n",
      "Epoch : 1000, Loss : 39.04890165477991\n",
      "Epoch : 1500, Loss : 34.580145344138145\n",
      "Epoch : 2000, Loss : 31.6621140409261\n",
      "accuracy : 0.9305,precision : 0.9395,recall : 0.9305,F1 : 0.9319\n"
     ]
    },
    {
     "data": {
      "application/json": {
       "ascii": false,
       "bar_format": null,
       "colour": null,
       "elapsed": 0.010370731353759766,
       "initial": 0,
       "n": 0,
       "ncols": null,
       "nrows": 16,
       "postfix": null,
       "prefix": "",
       "rate": null,
       "total": 2000,
       "unit": "it",
       "unit_divisor": 1000,
       "unit_scale": false
      },
      "application/vnd.jupyter.widget-view+json": {
       "model_id": "fa804980cabd47dba7c1736622a19c44",
       "version_major": 2,
       "version_minor": 0
      },
      "text/plain": [
       "  0%|          | 0/2000 [00:00<?, ?it/s]"
      ]
     },
     "metadata": {},
     "output_type": "display_data"
    },
    {
     "name": "stdout",
     "output_type": "stream",
     "text": [
      "Epoch : 1, Loss : 182.61553889513016\n",
      "Epoch : 500, Loss : 43.71593451872468\n",
      "Epoch : 1000, Loss : 37.408181730657816\n",
      "Epoch : 1500, Loss : 34.29116191342473\n",
      "Epoch : 2000, Loss : 31.291627479717135\n",
      "accuracy : 0.954,precision : 0.954,recall : 0.954,F1 : 0.954\n"
     ]
    },
    {
     "data": {
      "application/json": {
       "ascii": false,
       "bar_format": null,
       "colour": null,
       "elapsed": 0.010401248931884766,
       "initial": 0,
       "n": 0,
       "ncols": null,
       "nrows": 16,
       "postfix": null,
       "prefix": "",
       "rate": null,
       "total": 2000,
       "unit": "it",
       "unit_divisor": 1000,
       "unit_scale": false
      },
      "application/vnd.jupyter.widget-view+json": {
       "model_id": "be00bc26e7674a71a55de2fc47fabda2",
       "version_major": 2,
       "version_minor": 0
      },
      "text/plain": [
       "  0%|          | 0/2000 [00:00<?, ?it/s]"
      ]
     },
     "metadata": {},
     "output_type": "display_data"
    },
    {
     "name": "stdout",
     "output_type": "stream",
     "text": [
      "Epoch : 1, Loss : 181.50287893414497\n",
      "Epoch : 500, Loss : 47.64289167523384\n",
      "Epoch : 1000, Loss : 40.09151500090957\n",
      "Epoch : 1500, Loss : 36.491026896983385\n",
      "Epoch : 2000, Loss : 33.61237294971943\n",
      "accuracy : 0.9358,precision : 0.9354,recall : 0.9358,F1 : 0.9355\n"
     ]
    },
    {
     "data": {
      "application/json": {
       "ascii": false,
       "bar_format": null,
       "colour": null,
       "elapsed": 0.010356426239013672,
       "initial": 0,
       "n": 0,
       "ncols": null,
       "nrows": 16,
       "postfix": null,
       "prefix": "",
       "rate": null,
       "total": 2000,
       "unit": "it",
       "unit_divisor": 1000,
       "unit_scale": false
      },
      "application/vnd.jupyter.widget-view+json": {
       "model_id": "087dcc6fc33b4e8093182b6b9b285e59",
       "version_major": 2,
       "version_minor": 0
      },
      "text/plain": [
       "  0%|          | 0/2000 [00:00<?, ?it/s]"
      ]
     },
     "metadata": {},
     "output_type": "display_data"
    },
    {
     "name": "stdout",
     "output_type": "stream",
     "text": [
      "Epoch : 1, Loss : 182.2689170241356\n",
      "Epoch : 500, Loss : 42.4481703825295\n",
      "Epoch : 1000, Loss : 36.67925471998751\n",
      "Epoch : 1500, Loss : 32.29613232426345\n",
      "Epoch : 2000, Loss : 29.30786982178688\n",
      "accuracy : 0.9435,precision : 0.945,recall : 0.9435,F1 : 0.9439\n"
     ]
    },
    {
     "data": {
      "application/json": {
       "ascii": false,
       "bar_format": null,
       "colour": null,
       "elapsed": 0.010407209396362305,
       "initial": 0,
       "n": 0,
       "ncols": null,
       "nrows": 16,
       "postfix": null,
       "prefix": "",
       "rate": null,
       "total": 2000,
       "unit": "it",
       "unit_divisor": 1000,
       "unit_scale": false
      },
      "application/vnd.jupyter.widget-view+json": {
       "model_id": "a23d3b5b848740f988f5fc38c2356854",
       "version_major": 2,
       "version_minor": 0
      },
      "text/plain": [
       "  0%|          | 0/2000 [00:00<?, ?it/s]"
      ]
     },
     "metadata": {},
     "output_type": "display_data"
    },
    {
     "name": "stdout",
     "output_type": "stream",
     "text": [
      "Epoch : 1, Loss : 183.4973328113556\n",
      "Epoch : 500, Loss : 44.62992645427585\n",
      "Epoch : 1000, Loss : 37.59738098829985\n",
      "Epoch : 1500, Loss : 34.06299205031246\n",
      "Epoch : 2000, Loss : 32.87629499472678\n",
      "accuracy : 0.9506,precision : 0.9506,recall : 0.9506,F1 : 0.9506\n"
     ]
    },
    {
     "data": {
      "application/json": {
       "ascii": false,
       "bar_format": null,
       "colour": null,
       "elapsed": 0.010682106018066406,
       "initial": 0,
       "n": 0,
       "ncols": null,
       "nrows": 16,
       "postfix": null,
       "prefix": "",
       "rate": null,
       "total": 2000,
       "unit": "it",
       "unit_divisor": 1000,
       "unit_scale": false
      },
      "application/vnd.jupyter.widget-view+json": {
       "model_id": "d1ae93181b094537aa9ed341e86d55e7",
       "version_major": 2,
       "version_minor": 0
      },
      "text/plain": [
       "  0%|          | 0/2000 [00:00<?, ?it/s]"
      ]
     },
     "metadata": {},
     "output_type": "display_data"
    },
    {
     "name": "stdout",
     "output_type": "stream",
     "text": [
      "Epoch : 1, Loss : 183.05044323205948\n",
      "Epoch : 500, Loss : 43.97743344679475\n",
      "Epoch : 1000, Loss : 36.73842753842473\n",
      "Epoch : 1500, Loss : 33.18010549619794\n",
      "Epoch : 2000, Loss : 31.244933078065515\n",
      "accuracy : 0.9569,precision : 0.9572,recall : 0.9569,F1 : 0.957\n"
     ]
    },
    {
     "data": {
      "application/json": {
       "ascii": false,
       "bar_format": null,
       "colour": null,
       "elapsed": 0.010519266128540039,
       "initial": 0,
       "n": 0,
       "ncols": null,
       "nrows": 16,
       "postfix": null,
       "prefix": "",
       "rate": null,
       "total": 2000,
       "unit": "it",
       "unit_divisor": 1000,
       "unit_scale": false
      },
      "application/vnd.jupyter.widget-view+json": {
       "model_id": "424100792b62497b8e882db5c0885e99",
       "version_major": 2,
       "version_minor": 0
      },
      "text/plain": [
       "  0%|          | 0/2000 [00:00<?, ?it/s]"
      ]
     },
     "metadata": {},
     "output_type": "display_data"
    },
    {
     "name": "stdout",
     "output_type": "stream",
     "text": [
      "Epoch : 1, Loss : 182.19589725136757\n",
      "Epoch : 500, Loss : 47.29554036259651\n",
      "Epoch : 1000, Loss : 38.73413847759366\n",
      "Epoch : 1500, Loss : 34.65378001332283\n",
      "Epoch : 2000, Loss : 31.92637605406344\n",
      "accuracy : 0.953,precision : 0.9539,recall : 0.953,F1 : 0.9533\n"
     ]
    },
    {
     "data": {
      "application/json": {
       "ascii": false,
       "bar_format": null,
       "colour": null,
       "elapsed": 0.010612964630126953,
       "initial": 0,
       "n": 0,
       "ncols": null,
       "nrows": 16,
       "postfix": null,
       "prefix": "",
       "rate": null,
       "total": 2000,
       "unit": "it",
       "unit_divisor": 1000,
       "unit_scale": false
      },
      "application/vnd.jupyter.widget-view+json": {
       "model_id": "ad7ad47bfabb43949237de9b693147cd",
       "version_major": 2,
       "version_minor": 0
      },
      "text/plain": [
       "  0%|          | 0/2000 [00:00<?, ?it/s]"
      ]
     },
     "metadata": {},
     "output_type": "display_data"
    },
    {
     "name": "stdout",
     "output_type": "stream",
     "text": [
      "Epoch : 1, Loss : 182.14898803830147\n",
      "Epoch : 500, Loss : 44.70187710225582\n",
      "Epoch : 1000, Loss : 36.65000902861357\n",
      "Epoch : 1500, Loss : 32.64293564297259\n",
      "Epoch : 2000, Loss : 29.91153504513204\n",
      "accuracy : 0.9598,precision : 0.9599,recall : 0.9598,F1 : 0.9598\n"
     ]
    },
    {
     "data": {
      "application/json": {
       "ascii": false,
       "bar_format": null,
       "colour": null,
       "elapsed": 0.010651111602783203,
       "initial": 0,
       "n": 0,
       "ncols": null,
       "nrows": 16,
       "postfix": null,
       "prefix": "",
       "rate": null,
       "total": 2000,
       "unit": "it",
       "unit_divisor": 1000,
       "unit_scale": false
      },
      "application/vnd.jupyter.widget-view+json": {
       "model_id": "dab7feef122747cab1527ea003bcaf67",
       "version_major": 2,
       "version_minor": 0
      },
      "text/plain": [
       "  0%|          | 0/2000 [00:00<?, ?it/s]"
      ]
     },
     "metadata": {},
     "output_type": "display_data"
    },
    {
     "name": "stdout",
     "output_type": "stream",
     "text": [
      "Epoch : 1, Loss : 182.51780450344086\n",
      "Epoch : 500, Loss : 43.47242485359311\n",
      "Epoch : 1000, Loss : 36.479143761098385\n",
      "Epoch : 1500, Loss : 32.89013868570328\n",
      "Epoch : 2000, Loss : 30.03786277398467\n",
      "accuracy : 0.9372,precision : 0.9372,recall : 0.9372,F1 : 0.9372\n"
     ]
    },
    {
     "data": {
      "application/json": {
       "ascii": false,
       "bar_format": null,
       "colour": null,
       "elapsed": 0.010433435440063477,
       "initial": 0,
       "n": 0,
       "ncols": null,
       "nrows": 16,
       "postfix": null,
       "prefix": "",
       "rate": null,
       "total": 2000,
       "unit": "it",
       "unit_divisor": 1000,
       "unit_scale": false
      },
      "application/vnd.jupyter.widget-view+json": {
       "model_id": "b62b4fee2d274513b83b2c542e7898d5",
       "version_major": 2,
       "version_minor": 0
      },
      "text/plain": [
       "  0%|          | 0/2000 [00:00<?, ?it/s]"
      ]
     },
     "metadata": {},
     "output_type": "display_data"
    },
    {
     "name": "stdout",
     "output_type": "stream",
     "text": [
      "Epoch : 1, Loss : 183.98136976361275\n",
      "Epoch : 500, Loss : 45.39493129774928\n",
      "Epoch : 1000, Loss : 37.81093396991491\n",
      "Epoch : 1500, Loss : 33.66395015269518\n",
      "Epoch : 2000, Loss : 31.214686512947083\n",
      "accuracy : 0.9463,precision : 0.9488,recall : 0.9463,F1 : 0.9469\n",
      "Method : mod_pettifor\n"
     ]
    },
    {
     "data": {
      "application/json": {
       "ascii": false,
       "bar_format": null,
       "colour": null,
       "elapsed": 0.009892940521240234,
       "initial": 0,
       "n": 0,
       "ncols": null,
       "nrows": 16,
       "postfix": null,
       "prefix": "",
       "rate": null,
       "total": 2000,
       "unit": "it",
       "unit_divisor": 1000,
       "unit_scale": false
      },
      "application/vnd.jupyter.widget-view+json": {
       "model_id": "20baa36050204d9c996e7817bc7be191",
       "version_major": 2,
       "version_minor": 0
      },
      "text/plain": [
       "  0%|          | 0/2000 [00:00<?, ?it/s]"
      ]
     },
     "metadata": {},
     "output_type": "display_data"
    },
    {
     "name": "stdout",
     "output_type": "stream",
     "text": [
      "Epoch : 1, Loss : 182.47921827435493\n",
      "Epoch : 500, Loss : 48.53862750530243\n",
      "Epoch : 1000, Loss : 41.08006849139929\n",
      "Epoch : 1500, Loss : 36.576732371002436\n",
      "Epoch : 2000, Loss : 33.54131286684424\n",
      "accuracy : 0.9435,precision : 0.9432,recall : 0.9435,F1 : 0.9432\n"
     ]
    },
    {
     "data": {
      "application/json": {
       "ascii": false,
       "bar_format": null,
       "colour": null,
       "elapsed": 0.010598182678222656,
       "initial": 0,
       "n": 0,
       "ncols": null,
       "nrows": 16,
       "postfix": null,
       "prefix": "",
       "rate": null,
       "total": 2000,
       "unit": "it",
       "unit_divisor": 1000,
       "unit_scale": false
      },
      "application/vnd.jupyter.widget-view+json": {
       "model_id": "38b4f8cd3dca4fec8d20c9528311b58d",
       "version_major": 2,
       "version_minor": 0
      },
      "text/plain": [
       "  0%|          | 0/2000 [00:00<?, ?it/s]"
      ]
     },
     "metadata": {},
     "output_type": "display_data"
    },
    {
     "name": "stdout",
     "output_type": "stream",
     "text": [
      "Epoch : 1, Loss : 182.37032023072243\n",
      "Epoch : 500, Loss : 47.816569201648235\n",
      "Epoch : 1000, Loss : 40.49588767811656\n",
      "Epoch : 1500, Loss : 36.07682237774134\n",
      "Epoch : 2000, Loss : 33.591416005045176\n",
      "accuracy : 0.9435,precision : 0.9442,recall : 0.9435,F1 : 0.9425\n"
     ]
    },
    {
     "data": {
      "application/json": {
       "ascii": false,
       "bar_format": null,
       "colour": null,
       "elapsed": 0.01067042350769043,
       "initial": 0,
       "n": 0,
       "ncols": null,
       "nrows": 16,
       "postfix": null,
       "prefix": "",
       "rate": null,
       "total": 2000,
       "unit": "it",
       "unit_divisor": 1000,
       "unit_scale": false
      },
      "application/vnd.jupyter.widget-view+json": {
       "model_id": "c5a69d8ebb704e2ca48f7efdba54ddd0",
       "version_major": 2,
       "version_minor": 0
      },
      "text/plain": [
       "  0%|          | 0/2000 [00:00<?, ?it/s]"
      ]
     },
     "metadata": {},
     "output_type": "display_data"
    },
    {
     "name": "stdout",
     "output_type": "stream",
     "text": [
      "Epoch : 1, Loss : 182.93928614258766\n",
      "Epoch : 500, Loss : 40.4364077039063\n",
      "Epoch : 1000, Loss : 33.561383390799165\n",
      "Epoch : 1500, Loss : 29.005471389740705\n",
      "Epoch : 2000, Loss : 26.27345934510231\n",
      "accuracy : 0.9483,precision : 0.9489,recall : 0.9483,F1 : 0.9485\n"
     ]
    },
    {
     "data": {
      "application/json": {
       "ascii": false,
       "bar_format": null,
       "colour": null,
       "elapsed": 0.010380983352661133,
       "initial": 0,
       "n": 0,
       "ncols": null,
       "nrows": 16,
       "postfix": null,
       "prefix": "",
       "rate": null,
       "total": 2000,
       "unit": "it",
       "unit_divisor": 1000,
       "unit_scale": false
      },
      "application/vnd.jupyter.widget-view+json": {
       "model_id": "4f540a7520d2479c97fa08341005c4ec",
       "version_major": 2,
       "version_minor": 0
      },
      "text/plain": [
       "  0%|          | 0/2000 [00:00<?, ?it/s]"
      ]
     },
     "metadata": {},
     "output_type": "display_data"
    },
    {
     "name": "stdout",
     "output_type": "stream",
     "text": [
      "Epoch : 1, Loss : 184.1602837741375\n",
      "Epoch : 500, Loss : 44.56557109951973\n",
      "Epoch : 1000, Loss : 35.946517154574394\n",
      "Epoch : 1500, Loss : 32.146155409514904\n",
      "Epoch : 2000, Loss : 29.01209623552859\n",
      "accuracy : 0.9497,precision : 0.9495,recall : 0.9497,F1 : 0.9494\n"
     ]
    },
    {
     "data": {
      "application/json": {
       "ascii": false,
       "bar_format": null,
       "colour": null,
       "elapsed": 0.010461091995239258,
       "initial": 0,
       "n": 0,
       "ncols": null,
       "nrows": 16,
       "postfix": null,
       "prefix": "",
       "rate": null,
       "total": 2000,
       "unit": "it",
       "unit_divisor": 1000,
       "unit_scale": false
      },
      "application/vnd.jupyter.widget-view+json": {
       "model_id": "982eaa0e97c64edb896046584ae4c0d2",
       "version_major": 2,
       "version_minor": 0
      },
      "text/plain": [
       "  0%|          | 0/2000 [00:00<?, ?it/s]"
      ]
     },
     "metadata": {},
     "output_type": "display_data"
    },
    {
     "name": "stdout",
     "output_type": "stream",
     "text": [
      "Epoch : 1, Loss : 185.69371742010117\n",
      "Epoch : 500, Loss : 42.36350305378437\n",
      "Epoch : 1000, Loss : 34.67972498759627\n",
      "Epoch : 1500, Loss : 31.2970851380378\n",
      "Epoch : 2000, Loss : 28.518040923401713\n",
      "accuracy : 0.9468,precision : 0.9473,recall : 0.9468,F1 : 0.947\n"
     ]
    },
    {
     "data": {
      "application/json": {
       "ascii": false,
       "bar_format": null,
       "colour": null,
       "elapsed": 0.010403156280517578,
       "initial": 0,
       "n": 0,
       "ncols": null,
       "nrows": 16,
       "postfix": null,
       "prefix": "",
       "rate": null,
       "total": 2000,
       "unit": "it",
       "unit_divisor": 1000,
       "unit_scale": false
      },
      "application/vnd.jupyter.widget-view+json": {
       "model_id": "1fb5cc5f35384dbe9a977c4497cc2c74",
       "version_major": 2,
       "version_minor": 0
      },
      "text/plain": [
       "  0%|          | 0/2000 [00:00<?, ?it/s]"
      ]
     },
     "metadata": {},
     "output_type": "display_data"
    },
    {
     "name": "stdout",
     "output_type": "stream",
     "text": [
      "Epoch : 1, Loss : 184.96416300535202\n",
      "Epoch : 500, Loss : 45.976089078933\n",
      "Epoch : 1000, Loss : 39.37215223163366\n",
      "Epoch : 1500, Loss : 34.49138744920492\n",
      "Epoch : 2000, Loss : 31.56777430512011\n",
      "accuracy : 0.9569,precision : 0.9567,recall : 0.9569,F1 : 0.9568\n"
     ]
    },
    {
     "data": {
      "application/json": {
       "ascii": false,
       "bar_format": null,
       "colour": null,
       "elapsed": 0.010573148727416992,
       "initial": 0,
       "n": 0,
       "ncols": null,
       "nrows": 16,
       "postfix": null,
       "prefix": "",
       "rate": null,
       "total": 2000,
       "unit": "it",
       "unit_divisor": 1000,
       "unit_scale": false
      },
      "application/vnd.jupyter.widget-view+json": {
       "model_id": "a6adb8c4b28e414ebc309cc6ed838acc",
       "version_major": 2,
       "version_minor": 0
      },
      "text/plain": [
       "  0%|          | 0/2000 [00:00<?, ?it/s]"
      ]
     },
     "metadata": {},
     "output_type": "display_data"
    },
    {
     "name": "stdout",
     "output_type": "stream",
     "text": [
      "Epoch : 1, Loss : 183.29251727461815\n",
      "Epoch : 500, Loss : 45.582436215132475\n",
      "Epoch : 1000, Loss : 37.70091849192977\n",
      "Epoch : 1500, Loss : 32.91323193348944\n",
      "Epoch : 2000, Loss : 29.57028693333268\n",
      "accuracy : 0.942,precision : 0.9432,recall : 0.942,F1 : 0.9424\n"
     ]
    },
    {
     "data": {
      "application/json": {
       "ascii": false,
       "bar_format": null,
       "colour": null,
       "elapsed": 0.010648012161254883,
       "initial": 0,
       "n": 0,
       "ncols": null,
       "nrows": 16,
       "postfix": null,
       "prefix": "",
       "rate": null,
       "total": 2000,
       "unit": "it",
       "unit_divisor": 1000,
       "unit_scale": false
      },
      "application/vnd.jupyter.widget-view+json": {
       "model_id": "e5d201a8e78d40719ff24b2da7335a57",
       "version_major": 2,
       "version_minor": 0
      },
      "text/plain": [
       "  0%|          | 0/2000 [00:00<?, ?it/s]"
      ]
     },
     "metadata": {},
     "output_type": "display_data"
    },
    {
     "name": "stdout",
     "output_type": "stream",
     "text": [
      "Epoch : 1, Loss : 186.86990630626678\n",
      "Epoch : 500, Loss : 46.00343880802393\n",
      "Epoch : 1000, Loss : 38.16048371233046\n",
      "Epoch : 1500, Loss : 35.21451596543193\n",
      "Epoch : 2000, Loss : 31.653786858543754\n",
      "accuracy : 0.9526,precision : 0.9524,recall : 0.9526,F1 : 0.9524\n"
     ]
    },
    {
     "data": {
      "application/json": {
       "ascii": false,
       "bar_format": null,
       "colour": null,
       "elapsed": 0.010261774063110352,
       "initial": 0,
       "n": 0,
       "ncols": null,
       "nrows": 16,
       "postfix": null,
       "prefix": "",
       "rate": null,
       "total": 2000,
       "unit": "it",
       "unit_divisor": 1000,
       "unit_scale": false
      },
      "application/vnd.jupyter.widget-view+json": {
       "model_id": "04659d3a5be14987b92e8ecc709f1602",
       "version_major": 2,
       "version_minor": 0
      },
      "text/plain": [
       "  0%|          | 0/2000 [00:00<?, ?it/s]"
      ]
     },
     "metadata": {},
     "output_type": "display_data"
    },
    {
     "name": "stdout",
     "output_type": "stream",
     "text": [
      "Epoch : 1, Loss : 185.6348842382431\n",
      "Epoch : 500, Loss : 42.01387791335583\n",
      "Epoch : 1000, Loss : 35.608957272954285\n",
      "Epoch : 1500, Loss : 30.81140192784369\n",
      "Epoch : 2000, Loss : 27.774213396012783\n",
      "accuracy : 0.9358,precision : 0.937,recall : 0.9358,F1 : 0.9362\n"
     ]
    },
    {
     "data": {
      "application/json": {
       "ascii": false,
       "bar_format": null,
       "colour": null,
       "elapsed": 0.010319948196411133,
       "initial": 0,
       "n": 0,
       "ncols": null,
       "nrows": 16,
       "postfix": null,
       "prefix": "",
       "rate": null,
       "total": 2000,
       "unit": "it",
       "unit_divisor": 1000,
       "unit_scale": false
      },
      "application/vnd.jupyter.widget-view+json": {
       "model_id": "d868220317e446e387a97af0ec678e1a",
       "version_major": 2,
       "version_minor": 0
      },
      "text/plain": [
       "  0%|          | 0/2000 [00:00<?, ?it/s]"
      ]
     },
     "metadata": {},
     "output_type": "display_data"
    },
    {
     "name": "stdout",
     "output_type": "stream",
     "text": [
      "Epoch : 1, Loss : 183.620367705822\n",
      "Epoch : 500, Loss : 44.992605494335294\n",
      "Epoch : 1000, Loss : 39.577102329581976\n",
      "Epoch : 1500, Loss : 34.11095293238759\n",
      "Epoch : 2000, Loss : 31.01137255690992\n",
      "accuracy : 0.9497,precision : 0.9496,recall : 0.9497,F1 : 0.9497\n",
      "Method : PTR\n"
     ]
    },
    {
     "data": {
      "application/json": {
       "ascii": false,
       "bar_format": null,
       "colour": null,
       "elapsed": 0.010205268859863281,
       "initial": 0,
       "n": 0,
       "ncols": null,
       "nrows": 16,
       "postfix": null,
       "prefix": "",
       "rate": null,
       "total": 2000,
       "unit": "it",
       "unit_divisor": 1000,
       "unit_scale": false
      },
      "application/vnd.jupyter.widget-view+json": {
       "model_id": "0cfe5777ce394b188858beeaee1de941",
       "version_major": 2,
       "version_minor": 0
      },
      "text/plain": [
       "  0%|          | 0/2000 [00:00<?, ?it/s]"
      ]
     },
     "metadata": {},
     "output_type": "display_data"
    },
    {
     "name": "stdout",
     "output_type": "stream",
     "text": [
      "Epoch : 1, Loss : 186.64995807409286\n",
      "Epoch : 500, Loss : 37.89843190833926\n",
      "Epoch : 1000, Loss : 30.55020233243704\n",
      "Epoch : 1500, Loss : 26.73209524154663\n",
      "Epoch : 2000, Loss : 23.65032919216901\n",
      "accuracy : 0.9569,precision : 0.9577,recall : 0.9569,F1 : 0.9571\n"
     ]
    },
    {
     "data": {
      "application/json": {
       "ascii": false,
       "bar_format": null,
       "colour": null,
       "elapsed": 0.010149478912353516,
       "initial": 0,
       "n": 0,
       "ncols": null,
       "nrows": 16,
       "postfix": null,
       "prefix": "",
       "rate": null,
       "total": 2000,
       "unit": "it",
       "unit_divisor": 1000,
       "unit_scale": false
      },
      "application/vnd.jupyter.widget-view+json": {
       "model_id": "6dfeae7df54f48b78a87e4f25d07bb18",
       "version_major": 2,
       "version_minor": 0
      },
      "text/plain": [
       "  0%|          | 0/2000 [00:00<?, ?it/s]"
      ]
     },
     "metadata": {},
     "output_type": "display_data"
    },
    {
     "name": "stdout",
     "output_type": "stream",
     "text": [
      "Epoch : 1, Loss : 184.04158666729927\n",
      "Epoch : 500, Loss : 40.71879447251558\n",
      "Epoch : 1000, Loss : 33.31877048872411\n",
      "Epoch : 1500, Loss : 29.735022893175483\n",
      "Epoch : 2000, Loss : 26.712443498894572\n",
      "accuracy : 0.9444,precision : 0.9442,recall : 0.9444,F1 : 0.9439\n"
     ]
    },
    {
     "data": {
      "application/json": {
       "ascii": false,
       "bar_format": null,
       "colour": null,
       "elapsed": 0.010347127914428711,
       "initial": 0,
       "n": 0,
       "ncols": null,
       "nrows": 16,
       "postfix": null,
       "prefix": "",
       "rate": null,
       "total": 2000,
       "unit": "it",
       "unit_divisor": 1000,
       "unit_scale": false
      },
      "application/vnd.jupyter.widget-view+json": {
       "model_id": "d87d675c69214ec4bf6a9feec4e2a01b",
       "version_major": 2,
       "version_minor": 0
      },
      "text/plain": [
       "  0%|          | 0/2000 [00:00<?, ?it/s]"
      ]
     },
     "metadata": {},
     "output_type": "display_data"
    },
    {
     "name": "stdout",
     "output_type": "stream",
     "text": [
      "Epoch : 1, Loss : 182.37005650997162\n",
      "Epoch : 500, Loss : 41.99622659012675\n",
      "Epoch : 1000, Loss : 33.12807146832347\n",
      "Epoch : 1500, Loss : 29.120072765275836\n",
      "Epoch : 2000, Loss : 25.78766761533916\n",
      "accuracy : 0.9382,precision : 0.9406,recall : 0.9382,F1 : 0.9388\n"
     ]
    },
    {
     "data": {
      "application/json": {
       "ascii": false,
       "bar_format": null,
       "colour": null,
       "elapsed": 0.010452032089233398,
       "initial": 0,
       "n": 0,
       "ncols": null,
       "nrows": 16,
       "postfix": null,
       "prefix": "",
       "rate": null,
       "total": 2000,
       "unit": "it",
       "unit_divisor": 1000,
       "unit_scale": false
      },
      "application/vnd.jupyter.widget-view+json": {
       "model_id": "a14d46eea7fc4d12a453c14e4fa5e073",
       "version_major": 2,
       "version_minor": 0
      },
      "text/plain": [
       "  0%|          | 0/2000 [00:00<?, ?it/s]"
      ]
     },
     "metadata": {},
     "output_type": "display_data"
    },
    {
     "name": "stdout",
     "output_type": "stream",
     "text": [
      "Epoch : 1, Loss : 182.3937732577324\n",
      "Epoch : 500, Loss : 41.97946886718273\n",
      "Epoch : 1000, Loss : 34.0192912761122\n",
      "Epoch : 1500, Loss : 29.692536944523454\n",
      "Epoch : 2000, Loss : 26.231100684963167\n",
      "accuracy : 0.9449,precision : 0.9454,recall : 0.9449,F1 : 0.9451\n"
     ]
    },
    {
     "data": {
      "application/json": {
       "ascii": false,
       "bar_format": null,
       "colour": null,
       "elapsed": 0.010411739349365234,
       "initial": 0,
       "n": 0,
       "ncols": null,
       "nrows": 16,
       "postfix": null,
       "prefix": "",
       "rate": null,
       "total": 2000,
       "unit": "it",
       "unit_divisor": 1000,
       "unit_scale": false
      },
      "application/vnd.jupyter.widget-view+json": {
       "model_id": "d6037dcbcadd4697a1f3939a708b6d72",
       "version_major": 2,
       "version_minor": 0
      },
      "text/plain": [
       "  0%|          | 0/2000 [00:00<?, ?it/s]"
      ]
     },
     "metadata": {},
     "output_type": "display_data"
    },
    {
     "name": "stdout",
     "output_type": "stream",
     "text": [
      "Epoch : 1, Loss : 183.2080545425415\n",
      "Epoch : 500, Loss : 40.461649648845196\n",
      "Epoch : 1000, Loss : 32.558499939739704\n",
      "Epoch : 1500, Loss : 28.920481830835342\n",
      "Epoch : 2000, Loss : 26.108193619176745\n",
      "accuracy : 0.9334,precision : 0.9396,recall : 0.9334,F1 : 0.9345\n"
     ]
    },
    {
     "data": {
      "application/json": {
       "ascii": false,
       "bar_format": null,
       "colour": null,
       "elapsed": 0.010423421859741211,
       "initial": 0,
       "n": 0,
       "ncols": null,
       "nrows": 16,
       "postfix": null,
       "prefix": "",
       "rate": null,
       "total": 2000,
       "unit": "it",
       "unit_divisor": 1000,
       "unit_scale": false
      },
      "application/vnd.jupyter.widget-view+json": {
       "model_id": "e5f7184036694d4d83cf87ef2ff67d63",
       "version_major": 2,
       "version_minor": 0
      },
      "text/plain": [
       "  0%|          | 0/2000 [00:00<?, ?it/s]"
      ]
     },
     "metadata": {},
     "output_type": "display_data"
    },
    {
     "name": "stdout",
     "output_type": "stream",
     "text": [
      "Epoch : 1, Loss : 182.89217740297318\n",
      "Epoch : 500, Loss : 43.87083288654685\n",
      "Epoch : 1000, Loss : 35.56743685901165\n",
      "Epoch : 1500, Loss : 30.464659290388227\n",
      "Epoch : 2000, Loss : 27.548158755525947\n",
      "accuracy : 0.9598,precision : 0.9601,recall : 0.9598,F1 : 0.9599\n"
     ]
    },
    {
     "data": {
      "application/json": {
       "ascii": false,
       "bar_format": null,
       "colour": null,
       "elapsed": 0.010503053665161133,
       "initial": 0,
       "n": 0,
       "ncols": null,
       "nrows": 16,
       "postfix": null,
       "prefix": "",
       "rate": null,
       "total": 2000,
       "unit": "it",
       "unit_divisor": 1000,
       "unit_scale": false
      },
      "application/vnd.jupyter.widget-view+json": {
       "model_id": "e467d790641948f0875e33b90a4c6803",
       "version_major": 2,
       "version_minor": 0
      },
      "text/plain": [
       "  0%|          | 0/2000 [00:00<?, ?it/s]"
      ]
     },
     "metadata": {},
     "output_type": "display_data"
    },
    {
     "name": "stdout",
     "output_type": "stream",
     "text": [
      "Epoch : 1, Loss : 184.1275569498539\n",
      "Epoch : 500, Loss : 38.016774110496044\n",
      "Epoch : 1000, Loss : 29.631517564877868\n",
      "Epoch : 1500, Loss : 25.840258054435253\n",
      "Epoch : 2000, Loss : 23.5465657254681\n",
      "accuracy : 0.9516,precision : 0.9518,recall : 0.9516,F1 : 0.9517\n"
     ]
    },
    {
     "data": {
      "application/json": {
       "ascii": false,
       "bar_format": null,
       "colour": null,
       "elapsed": 0.010362863540649414,
       "initial": 0,
       "n": 0,
       "ncols": null,
       "nrows": 16,
       "postfix": null,
       "prefix": "",
       "rate": null,
       "total": 2000,
       "unit": "it",
       "unit_divisor": 1000,
       "unit_scale": false
      },
      "application/vnd.jupyter.widget-view+json": {
       "model_id": "91e7a4473be84f68b9a1589f01c87458",
       "version_major": 2,
       "version_minor": 0
      },
      "text/plain": [
       "  0%|          | 0/2000 [00:00<?, ?it/s]"
      ]
     },
     "metadata": {},
     "output_type": "display_data"
    },
    {
     "name": "stdout",
     "output_type": "stream",
     "text": [
      "Epoch : 1, Loss : 182.79576587677002\n",
      "Epoch : 500, Loss : 43.499575328081846\n"
     ]
    }
   ],
   "source": [
    "saveloc = 'saved_models/Encoders'\n",
    "if not os.path.exists(saveloc):\n",
    "    os.makedirs(f'{saveloc}')\n",
    "methods = ['dense','atomic','random','random-tr','pettifor','mod_pettifor','PTR']\n",
    "if os.path.exists('results/gfa_predict_results.json'):\n",
    "    with open('results/gfa_predict_results.json','rb') as fid:\n",
    "        sup_metrics_dict = json.load(fid)\n",
    "else:\n",
    "    sup_metrics_dict = {}\n",
    "for method in methods:\n",
    "    print('Method : {}'.format(method))\n",
    "    metrics_list = {}\n",
    "    if method == 'dense':\n",
    "        X, y, p = get_dense_features_gfa()    \n",
    "    elif method in ['atomic','pettifor','mod_pettifor','random']:\n",
    "        X, y, p = get_1D_features_gfa(method)    \n",
    "    elif method == 'PTR':\n",
    "        X, y, p = read_gfa_dataset()\n",
    "    for i in fold_dict.keys():\n",
    "        i_tr, i_te = fold_dict[i]['train_inds'], fold_dict[i]['test_inds']\n",
    "        X_train, X_test = X[i_tr], X[i_te]\n",
    "        y_train, y_test = y[i_tr], y[i_te]\n",
    "        p_train, p_test = p[i_tr], p[i_te]\n",
    "        batch = 64\n",
    "        Xy = [(X_train[i],y_train[i],p_train[i]) for i in range(len(y_train))]\n",
    "        train_loader = DataLoader(Xy, batch_size = batch , shuffle=True)\n",
    "        if method in ['atomic','pettifor','mod_pettifor','random','random-tr']:\n",
    "            type = 0\n",
    "            encoder = Encoder1D(1,1)\n",
    "        elif method == 'dense':\n",
    "            type = 1\n",
    "            encoder = EncoderDNN(X.shape[-1],3,42,1)\n",
    "        else:\n",
    "            type = 2\n",
    "            encoder = Encoder(1,1)\n",
    "        e_optimizer = optim.Adam(encoder.parameters(),lr = 2e-4)\n",
    "        num_iterations = 2000\n",
    "        cuda = check_cuda()\n",
    "        if cuda:\n",
    "            encoder = encoder.cuda()\n",
    "        log_interval = int(5e2)\n",
    "        for iter in tqdm.notebook.tqdm(range(num_iterations)):\n",
    "            train_loss = 0.0\n",
    "            for data in train_loader:\n",
    "                X_temp, y_temp, p_temp = data\n",
    "                if cuda:\n",
    "                    X_temp = X_temp.cuda()\n",
    "                    y_temp = y_temp.cuda()\n",
    "                    p_temp = p_temp.cuda()\n",
    "                e_optimizer.zero_grad()\n",
    "                target = encoder(X_temp,p_temp)\n",
    "                if cuda:\n",
    "                    target = target.cuda()\n",
    "                e_error = torch.nn.BCELoss()(target,y_temp)\n",
    "                e_error.backward(retain_graph=True)\n",
    "                e_optimizer.step()\n",
    "                train_loss += e_error.cpu().item()\n",
    "            if iter == 0 or (iter + 1) % log_interval == 0:  \n",
    "                print('Epoch : {}, Loss : {}'.format(iter+1,train_loss))\n",
    "        spec_saveloc = os.path.join(saveloc,method)\n",
    "        if not os.path.exists(spec_saveloc):\n",
    "            os.makedirs(f'{spec_saveloc}')\n",
    "        model_scripted = torch.jit.script(encoder.cpu())\n",
    "        model_scripted.save(os.path.join(spec_saveloc,'Encoder{}D_{}_fold{}.pt'.format(type,method,i)))\n",
    "        if X_test.dtype != torch.float32:\n",
    "            X_test = torch.from_numpy(X_test)\n",
    "        if p_test.dtype != torch.float32:\n",
    "            p_test = torch.from_numpy(p_test)\n",
    "        with torch.no_grad():\n",
    "            y_predict = (encoder(X_test,p_test)).to('cpu').detach().numpy()\n",
    "        metrics = get_metrics(y_test,np.round(y_predict))\n",
    "        metrics_list[i] = metrics\n",
    "        print('accuracy : {},precision : {},recall : {},F1 : {}'.format(metrics[0],metrics[1],metrics[2],metrics[3]))\n",
    "    sup_metrics_dict[method] = metrics_list\n",
    "    with open('results/gfa_predict_results.json','w') as f:\n",
    "        json.dump(sup_metrics_dict,f)"
   ]
  },
  {
   "cell_type": "code",
   "execution_count": 6,
   "metadata": {},
   "outputs": [],
   "source": [
    "results_file = 'results/gfa_predict_results.json'\n",
    "if os.path.exists(results_file):\n",
    "    with open(results_file,'r') as fid:\n",
    "        sup_metrics_dict = json.load(fid)\n",
    "\n",
    "import shutil\n",
    "saveloc = 'saved_models/Encoders'\n",
    "best_model_loc = 'saved_models/best_models'\n",
    "if not os.path.exists(best_model_loc):\n",
    "    os.makedirs(f'{best_model_loc}')\n",
    "for key in list(sup_metrics_dict.keys()):\n",
    "    if key != 'ptr':\n",
    "        col_names = ['Accuracy','Precision','Recall','F1 Score']\n",
    "        stat_df = pd.DataFrame.from_dict(sup_metrics_dict[key],orient='index',columns=col_names)\n",
    "        spec_saveloc = os.path.join(saveloc,key)\n",
    "        best_ind = np.argwhere(stat_df['F1 Score'].values == np.max(stat_df['F1 Score'])).item()\n",
    "        best_model_name = sorted(os.listdir(spec_saveloc))[best_ind]\n",
    "        shutil.copy(os.path.join(spec_saveloc,best_model_name), os.path.join(best_model_loc,'1DEncoder_{}.pt'.format(key))) "
   ]
  },
  {
   "cell_type": "code",
   "execution_count": 37,
   "metadata": {},
   "outputs": [
    {
     "name": "stderr",
     "output_type": "stream",
     "text": [
      "/tmp/ipykernel_552722/2780836352.py:39: UserWarning: FixedFormatter should only be used together with FixedLocator\n",
      "  ax.set_xticklabels(names, rotation = 45, fontsize = 14)\n"
     ]
    },
    {
     "data": {
      "image/png": "[encoded data removed]",
      "text/plain": [
       "<Figure size 864x432 with 3 Axes>"
      ]
     },
     "metadata": {
      "needs_background": "light"
     },
     "output_type": "display_data"
    }
   ],
   "source": [
    "methods = ['dense','atomic','random','random-tr','pettifor','mod_pettifor','PTR']\n",
    "names = ['DNN','CNN1-atom','CNN1-alph','CNN1-rand','CNN1-pet','CNN1-modpet','CNN2-PTR']\n",
    "\n",
    "compare_keys = combinations(methods,2)\n",
    "zero = np.eye(len(methods))\n",
    "for key in compare_keys:\n",
    "    a,b = key\n",
    "    ind1 = np.argwhere(np.array(methods)==a)\n",
    "    ind2 = np.argwhere(np.array(methods)==b)\n",
    "    a_score = np.array(list(sup_metrics_dict[a].values()))[:,-1]\n",
    "    b_score = np.array(list(sup_metrics_dict[b].values()))[:,-1]\n",
    "    zero[ind1,ind2] = ttest_ind(a_score,b_score)[-1]\n",
    "\n",
    "mask =  np.tri(zero.T.shape[0], k=-1)\n",
    "mask =  np.tri(zero.T.shape[0], k=-1)\n",
    "A = np.ma.array(zero, mask=mask).T\n",
    "truth = np.where(mask == 1)\n",
    "\n",
    "def highlight_cell(x,y, ax=None, **kwargs):\n",
    "    rect = plt.Rectangle((x-.5, y-.5), 1,1, fill=False, **kwargs)\n",
    "    ax = ax or plt.gca()\n",
    "    ax.add_patch(rect)\n",
    "    return rect\n",
    "\n",
    "mean_list = []\n",
    "std_list = []\n",
    "for i, k in enumerate(methods):\n",
    "        stat_arr = np.array(list(sup_metrics_dict[k].values()))\n",
    "        mean_list.append(stat_arr.mean(axis=0))\n",
    "        std_list.append(stat_arr.std(axis=0))\n",
    "mean_list = np.array(mean_list).T\n",
    "std_list = np.array(std_list).T\n",
    "\n",
    "fig, axs = plt.subplot_mosaic(\"AB\", figsize=(12,6))\n",
    "for n, (key, ax) in enumerate(axs.items()):\n",
    "        if n == 0:\n",
    "                ax.bar(methods, mean_list[-1], yerr = std_list[-1],align='center', alpha=0.5, ecolor='black', capsize=10)\n",
    "                ax.set(ylim=[0.75, 1])\n",
    "                ax.set_xticklabels(names, rotation = 45, fontsize = 14)\n",
    "                ax.set_yticks(np.round(np.arange(0.75,1.01,0.05),1), fontsize = 14, labels=np.round(np.arange(0.75,1.01,0.05),1))\n",
    "                ax.text(-0.2, 1.1, key, transform=ax.transAxes, size=20, weight='bold')\n",
    "        \n",
    "        if n == 1:\n",
    "                ax.set_xticks(np.arange(0, len(names), 1))\n",
    "                ax.set_yticks(np.arange(0, len(names), 1))\n",
    "\n",
    "                cmap = cm.get_cmap('RdBu')\n",
    "                im = ax.imshow(A, cmap = cmap, vmin = 0, vmax = 0.1)\n",
    "                for i in range(len(truth[0])):\n",
    "                        highlight_cell(truth[1][i],truth[0][i])\n",
    "                diag = [0,1,2,3,4,5]\n",
    "                for k in diag:\n",
    "                        highlight_cell(k,k)\n",
    "                ax.set_xticklabels(names, rotation = 45, fontsize = 14)\n",
    "                ax.set_yticklabels(names, fontsize = 14)\n",
    "                ax.spines['top'].set_visible(False)\n",
    "                ax.spines['right'].set_visible(False)\n",
    "                ax.spines['bottom'].set_visible(True)\n",
    "                ax.spines['left'].set_visible(False)\n",
    "                cb = plt.colorbar(im,fraction=0.046, pad=0.04)\n",
    "                for t in cb.ax.get_yticklabels():\n",
    "                        t.set_fontsize(14)\n",
    "                ax.text(-0.4, 1.1, key, transform=ax.transAxes, \n",
    "                size=20, weight='bold')\n",
    "    \n",
    "plt.tight_layout()\n",
    "\n",
    "\n",
    "\n",
    "fig.suptitle('10-fold CV on GFA dataset', fontsize = 14)\n",
    "plt.tight_layout()"
   ]
  }
 ],
 "metadata": {
  "kernelspec": {
   "display_name": "Python 3 (ipykernel)",
   "language": "python",
   "name": "python3"
  },
  "language_info": {
   "codemirror_mode": {
    "name": "ipython",
    "version": 3
   },
   "file_extension": ".py",
   "mimetype": "text/x-python",
   "name": "python",
   "nbconvert_exporter": "python",
   "pygments_lexer": "ipython3",
   "version": "3.10.4"
  },
  "vscode": {
   "interpreter": {
    "hash": "5d6d4f329abd04bfe6379b099819ba9ed35c0bee691259b7aa14222222f8ecb9"
   }
  }
 },
 "nbformat": 4,
 "nbformat_minor": 4
}
