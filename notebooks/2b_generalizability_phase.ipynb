{
 "cells": [
  {
   "cell_type": "code",
   "execution_count": 1,
   "metadata": {},
   "outputs": [],
   "source": [
    "import os\n",
    "import sys\n",
    "module_path = os.path.abspath(os.path.join('..'))\n",
    "if module_path not in sys.path:\n",
    "    sys.path.append(module_path)\n",
    "os.chdir('..')"
   ]
  },
  {
   "cell_type": "code",
   "execution_count": 2,
   "metadata": {},
   "outputs": [],
   "source": [
    "import warnings\n",
    "warnings.filterwarnings('ignore')"
   ]
  },
  {
   "cell_type": "code",
   "execution_count": 13,
   "metadata": {},
   "outputs": [],
   "source": [
    "import random\n",
    "import torch\n",
    "import pickle\n",
    "from decimal import Decimal\n",
    "import pandas as pd\n",
    "import numpy as np\n",
    "import json\n",
    "from sklearn.model_selection import KFold\n",
    "from modules.function import get_elem_count, alt_read_gfa_dataset, PTR, check_cuda, get_metrics, image, pymatgen_comp, special_formatting, data_generator_gfa\n",
    "from modules.encoder import Encoder1D, EncoderDNN, Encoder\n",
    "import re\n",
    "import torch.optim as optim\n",
    "from torch.utils.data import DataLoader\n",
    "import tqdm\n",
    "import joblib\n",
    "from modules.representation_schemes import enc1d_features, get_PTR_features, get_vectorized_featues, properties_from_comp\n",
    "from sklearn.decomposition import PCA\n",
    "from sklearn.ensemble import RandomForestClassifier\n",
    "from sklearn import metrics"
   ]
  },
  {
   "cell_type": "code",
   "execution_count": 4,
   "metadata": {},
   "outputs": [],
   "source": [
    "phases_file = 'Files_from_GTDL_paper/gao_data.txt'\n",
    "[x0,dataY]=pickle.load(open(phases_file, 'rb'))\n",
    "comps = [y.split(' ')[1] for y in x0]\n",
    "pmg_comps = pymatgen_comp(comps)\n",
    "y = np.array(dataY)"
   ]
  },
  {
   "cell_type": "code",
   "execution_count": 5,
   "metadata": {},
   "outputs": [],
   "source": [
    "with open('misc/pca_components.pkl','rb') as fid:\n",
    "    component_dict = pickle.load(fid)"
   ]
  },
  {
   "cell_type": "code",
   "execution_count": 27,
   "metadata": {},
   "outputs": [
    {
     "name": "stdout",
     "output_type": "stream",
     "text": [
      "Split file written!\n"
     ]
    }
   ],
   "source": [
    "selected_els = ['Al','Ni','Fe','Cr','Ti','Nb','Ta','La','Mg','Mo']\n",
    "filename = 'misc/hea_phase_gen_splits.json'\n",
    "if os.path.exists(filename):\n",
    "    with open(filename,'rb') as fid:\n",
    "        hea_phase_gen_dict = json.load(fid)\n",
    "        print('Split file loaded')\n",
    "else:\n",
    "    hea_phase_gen_dict = {}\n",
    "    for el in selected_els:\n",
    "        train_inds, test_inds,all_cv_train, all_cv_test = [],[],[],[]\n",
    "        for i,c in enumerate(pmg_comps):\n",
    "            if el in c.get_el_amt_dict().keys():\n",
    "                test_inds.append(i)\n",
    "            else:\n",
    "                train_inds.append(i)\n",
    "        X_train = np.array(pmg_comps)[train_inds]\n",
    "        kf = KFold(n_splits=10)\n",
    "        for tr, ts in kf.split(X_train):\n",
    "            all_cv_train.append(tr.tolist())\n",
    "            all_cv_test.append(ts.tolist())\n",
    "        hea_phase_gen_dict[el] = {'train':train_inds,'test':test_inds, 'cv_train':all_cv_train, 'cv_test':all_cv_test}\n",
    "    with open(filename,'w') as fid:\n",
    "        json.dump(hea_phase_gen_dict, fid)\n",
    "        print('Split file written!')"
   ]
  },
  {
   "cell_type": "code",
   "execution_count": 30,
   "metadata": {},
   "outputs": [
    {
     "name": "stdout",
     "output_type": "stream",
     "text": [
      "atomic\n",
      "random\n",
      "pettifor\n",
      "mod_pettifor\n",
      "PTR\n",
      "dense\n"
     ]
    }
   ],
   "source": [
    "np.random.seed(0)\n",
    "methods = ['atomic','random','pettifor','mod_pettifor','PTR','dense']\n",
    "method_dict = {}\n",
    "mean_score_list = []\n",
    "std_score_list = []\n",
    "results_dict = {}\n",
    "for i, method in enumerate(methods):\n",
    "    results_dict[method] = {}\n",
    "    print('{}'.format(method))\n",
    "    if method == 'atomic':\n",
    "        extracted = enc1d_features(pmg_comps,'atomic')\n",
    "    elif method == 'random':\n",
    "        extracted = enc1d_features(pmg_comps,'random')\n",
    "    elif method == 'pettifor':\n",
    "        extracted = enc1d_features(pmg_comps,'pettifor')\n",
    "    elif method == 'mod_pettifor':\n",
    "        extracted = enc1d_features(pmg_comps,'mod_pettifor')\n",
    "    elif method == 'PTR':\n",
    "        extracted = get_PTR_features(pmg_comps)\n",
    "    elif method ==' dense':\n",
    "        extracted = enc1d_features(pmg_comps,'dense')\n",
    "    ind = component_dict[method]\n",
    "    pca = PCA(n_components=ind, whiten=True)\n",
    "    X = pca.fit_transform(extracted)\n",
    "    y = np.array(dataY)\n",
    "    for k in hea_phase_gen_dict.keys():\n",
    "        \n",
    "        f1_max = 0\n",
    "        best_fold_model = 0\n",
    "        LOEO_dict = {'Fold_stats':{}}\n",
    "        test_inds = hea_phase_gen_dict[k]['test']\n",
    "        X_test = X[test_inds]\n",
    "        y_test = y[test_inds]\n",
    "        cv_train_inds, cv_test_inds = hea_phase_gen_dict[k]['cv_train'],hea_phase_gen_dict[k]['cv_test']\n",
    "        score_fold, score_test = [], []\n",
    "        fold_score = {}\n",
    "        for i in range(len(cv_train_inds)):\n",
    "            fold_train_inds, fold_test_inds = cv_train_inds[i], cv_test_inds[i]\n",
    "            X_train_fold,y_train_fold  = X[fold_train_inds], y[fold_train_inds]\n",
    "            X_test_fold, y_test_fold = X[fold_test_inds], y[fold_test_inds]\n",
    "            randomforest = RandomForestClassifier(random_state=0, n_jobs=-1,n_estimators=500)\n",
    "            randomforest.fit(X_train_fold, y_train_fold)\n",
    "            yte_pred_fold = randomforest.predict(X_test_fold)\n",
    "            yte_pred_test = randomforest.predict(X_test)\n",
    "            report_fold = metrics.classification_report(y_test_fold, yte_pred_fold,output_dict=True)\n",
    "            report_test = metrics.classification_report(y_test, yte_pred_test,output_dict=True)\n",
    "            fold_micro_avg_fold = report_fold['weighted avg'].values()\n",
    "            fold_micro_avg_test = report_test['weighted avg'].values()\n",
    "            score_fold.append(fold_micro_avg_fold)\n",
    "            score_test.append(fold_micro_avg_test)\n",
    "        fold_score = {'train':score_fold,'test':score_test}\n",
    "        LOEO_dict['Fold_stats'] = fold_score\n",
    "        results_dict[method][k] = LOEO_dict"
   ]
  },
  {
   "cell_type": "code",
   "execution_count": 113,
   "metadata": {},
   "outputs": [],
   "source": [
    "simplified_dict_mean, simplified_dict_std = {},{}\n",
    "for el in selected_els:\n",
    "    simplified_dict_mean[el], simplified_dict_std[el] = {},{}\n",
    "\n",
    "    for method in methods:\n",
    "        score = results_dict[method][el]['Fold_stats']['test']\n",
    "        score = pd.DataFrame(score,columns=['Precision','Recall','F1 Score','Support'])\n",
    "        simplified_dict_mean[el][method] = score.mean().values[-2]\n",
    "        simplified_dict_std[el][method] = score.std().values[-2]\n"
   ]
  },
  {
   "cell_type": "code",
   "execution_count": 117,
   "metadata": {},
   "outputs": [
    {
     "data": {
      "text/html": [
       "<div>\n",
       "<style scoped>\n",
       "    .dataframe tbody tr th:only-of-type {\n",
       "        vertical-align: middle;\n",
       "    }\n",
       "\n",
       "    .dataframe tbody tr th {\n",
       "        vertical-align: top;\n",
       "    }\n",
       "\n",
       "    .dataframe thead th {\n",
       "        text-align: right;\n",
       "    }\n",
       "</style>\n",
       "<table border=\"1\" class=\"dataframe\">\n",
       "  <thead>\n",
       "    <tr style=\"text-align: right;\">\n",
       "      <th></th>\n",
       "      <th>atomic</th>\n",
       "      <th>random</th>\n",
       "      <th>pettifor</th>\n",
       "      <th>mod_pettifor</th>\n",
       "      <th>PTR</th>\n",
       "      <th>dense</th>\n",
       "    </tr>\n",
       "  </thead>\n",
       "  <tbody>\n",
       "    <tr>\n",
       "      <th>Al</th>\n",
       "      <td>0.797133</td>\n",
       "      <td>0.777665</td>\n",
       "      <td>0.774447</td>\n",
       "      <td>0.775159</td>\n",
       "      <td>0.769020</td>\n",
       "      <td>0.800499</td>\n",
       "    </tr>\n",
       "    <tr>\n",
       "      <th>Ni</th>\n",
       "      <td>0.746731</td>\n",
       "      <td>0.719785</td>\n",
       "      <td>0.719207</td>\n",
       "      <td>0.700750</td>\n",
       "      <td>0.709995</td>\n",
       "      <td>0.777733</td>\n",
       "    </tr>\n",
       "    <tr>\n",
       "      <th>Fe</th>\n",
       "      <td>0.874798</td>\n",
       "      <td>0.860065</td>\n",
       "      <td>0.867835</td>\n",
       "      <td>0.828225</td>\n",
       "      <td>0.862514</td>\n",
       "      <td>0.889454</td>\n",
       "    </tr>\n",
       "    <tr>\n",
       "      <th>Cr</th>\n",
       "      <td>0.929163</td>\n",
       "      <td>0.926892</td>\n",
       "      <td>0.917018</td>\n",
       "      <td>0.903146</td>\n",
       "      <td>0.926761</td>\n",
       "      <td>0.930674</td>\n",
       "    </tr>\n",
       "    <tr>\n",
       "      <th>Ti</th>\n",
       "      <td>0.720717</td>\n",
       "      <td>0.725073</td>\n",
       "      <td>0.722962</td>\n",
       "      <td>0.711031</td>\n",
       "      <td>0.710433</td>\n",
       "      <td>0.716407</td>\n",
       "    </tr>\n",
       "    <tr>\n",
       "      <th>Nb</th>\n",
       "      <td>0.847978</td>\n",
       "      <td>0.817228</td>\n",
       "      <td>0.850724</td>\n",
       "      <td>0.830801</td>\n",
       "      <td>0.866372</td>\n",
       "      <td>0.887887</td>\n",
       "    </tr>\n",
       "    <tr>\n",
       "      <th>Ta</th>\n",
       "      <td>0.968604</td>\n",
       "      <td>0.961981</td>\n",
       "      <td>0.949246</td>\n",
       "      <td>0.944645</td>\n",
       "      <td>0.958495</td>\n",
       "      <td>0.963041</td>\n",
       "    </tr>\n",
       "    <tr>\n",
       "      <th>La</th>\n",
       "      <td>0.968883</td>\n",
       "      <td>0.937458</td>\n",
       "      <td>0.968548</td>\n",
       "      <td>0.948495</td>\n",
       "      <td>0.980589</td>\n",
       "      <td>0.930546</td>\n",
       "    </tr>\n",
       "    <tr>\n",
       "      <th>Mg</th>\n",
       "      <td>0.936185</td>\n",
       "      <td>0.944145</td>\n",
       "      <td>0.951273</td>\n",
       "      <td>0.989744</td>\n",
       "      <td>0.972185</td>\n",
       "      <td>0.898310</td>\n",
       "    </tr>\n",
       "    <tr>\n",
       "      <th>Mo</th>\n",
       "      <td>0.861063</td>\n",
       "      <td>0.857610</td>\n",
       "      <td>0.865948</td>\n",
       "      <td>0.847482</td>\n",
       "      <td>0.854701</td>\n",
       "      <td>0.852583</td>\n",
       "    </tr>\n",
       "  </tbody>\n",
       "</table>\n",
       "</div>"
      ],
      "text/plain": [
       "      atomic    random  pettifor  mod_pettifor       PTR     dense\n",
       "Al  0.797133  0.777665  0.774447      0.775159  0.769020  0.800499\n",
       "Ni  0.746731  0.719785  0.719207      0.700750  0.709995  0.777733\n",
       "Fe  0.874798  0.860065  0.867835      0.828225  0.862514  0.889454\n",
       "Cr  0.929163  0.926892  0.917018      0.903146  0.926761  0.930674\n",
       "Ti  0.720717  0.725073  0.722962      0.711031  0.710433  0.716407\n",
       "Nb  0.847978  0.817228  0.850724      0.830801  0.866372  0.887887\n",
       "Ta  0.968604  0.961981  0.949246      0.944645  0.958495  0.963041\n",
       "La  0.968883  0.937458  0.968548      0.948495  0.980589  0.930546\n",
       "Mg  0.936185  0.944145  0.951273      0.989744  0.972185  0.898310\n",
       "Mo  0.861063  0.857610  0.865948      0.847482  0.854701  0.852583"
      ]
     },
     "execution_count": 117,
     "metadata": {},
     "output_type": "execute_result"
    }
   ],
   "source": [
    "mean_df = pd.DataFrame.from_dict(simplified_dict_mean, orient='index')\n",
    "std_df = pd.DataFrame.from_dict(simplified_dict_std, orient='index')\n",
    "mean_df"
   ]
  },
  {
   "cell_type": "code",
   "execution_count": 119,
   "metadata": {},
   "outputs": [
    {
     "data": {
      "text/plain": [
       "<matplotlib.legend.Legend at 0x7f328ce58dc0>"
      ]
     },
     "execution_count": 119,
     "metadata": {},
     "output_type": "execute_result"
    },
    {
     "data": {
      "image/png": "[encoded data removed]",
      "text/plain": [
       "<Figure size 432x288 with 1 Axes>"
      ]
     },
     "metadata": {
      "needs_background": "light"
     },
     "output_type": "display_data"
    }
   ],
   "source": [
    "import matplotlib.pyplot as plt\n",
    "plt.bar(np.arange(mean_df.shape[0]), mean_df['atomic'].values, 0.1,label = 'atomic', yerr = std_df['atomic'].values)\n",
    "plt.bar(np.arange(mean_df.shape[0]) - 0.1, mean_df['PTR'].values,0.1, label = 'PTR',yerr = std_df['PTR'].values)\n",
    "plt.bar(np.arange(mean_df.shape[0]) - 0.2, mean_df['pettifor'].values,0.1, label = 'pettifor',yerr = std_df['pettifor'].values)\n",
    "plt.bar(np.arange(mean_df.shape[0]) + 0.1, mean_df['mod_pettifor'].values,0.1, label = 'mod_pettifor',yerr = std_df['mod_pettifor'].values)\n",
    "plt.bar(np.arange(mean_df.shape[0]) + 0.2, mean_df['dense'].values,0.1, label = 'dense',yerr = std_df['dense'].values)\n",
    "plt.xticks(np.arange(mean_df.shape[0]), labels=mean_df.index)\n",
    "plt.ylabel('Average F1 score')\n",
    "plt.xlabel('Element left out')\n",
    "plt.legend()"
   ]
  },
  {
   "cell_type": "code",
   "execution_count": 116,
   "metadata": {},
   "outputs": [
    {
     "data": {
      "text/plain": [
       "Al    0.797133\n",
       "Ni    0.746731\n",
       "Fe    0.874798\n",
       "Cr    0.929163\n",
       "Ti    0.720717\n",
       "Nb    0.847978\n",
       "Ta    0.968604\n",
       "La    0.968883\n",
       "Mg    0.936185\n",
       "Mo    0.861063\n",
       "Name: atomic, dtype: float64"
      ]
     },
     "execution_count": 116,
     "metadata": {},
     "output_type": "execute_result"
    }
   ],
   "source": [
    "std_df['atomic']"
   ]
  },
  {
   "cell_type": "code",
   "execution_count": null,
   "metadata": {},
   "outputs": [],
   "source": []
  }
 ],
 "metadata": {
  "kernelspec": {
   "display_name": "Python 3.10.4 ('representations': conda)",
   "language": "python",
   "name": "python3"
  },
  "language_info": {
   "codemirror_mode": {
    "name": "ipython",
    "version": 3
   },
   "file_extension": ".py",
   "mimetype": "text/x-python",
   "name": "python",
   "nbconvert_exporter": "python",
   "pygments_lexer": "ipython3",
   "version": "3.10.4"
  },
  "orig_nbformat": 4,
  "vscode": {
   "interpreter": {
    "hash": "5d6d4f329abd04bfe6379b099819ba9ed35c0bee691259b7aa14222222f8ecb9"
   }
  }
 },
 "nbformat": 4,
 "nbformat_minor": 2
}
