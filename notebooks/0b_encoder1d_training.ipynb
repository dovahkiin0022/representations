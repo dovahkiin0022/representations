{
 "cells": [
  {
   "cell_type": "code",
   "execution_count": 2,
   "metadata": {},
   "outputs": [],
   "source": [
    "import os\n",
    "import sys\n",
    "module_path = os.path.abspath(os.path.join('..'))\n",
    "if module_path not in sys.path:\n",
    "    sys.path.append(module_path)\n",
    "os.chdir('..')"
   ]
  },
  {
   "cell_type": "code",
   "execution_count": 3,
   "metadata": {},
   "outputs": [],
   "source": [
    "import pandas as pd\n",
    "import numpy as np\n",
    "import json\n",
    "import pickle\n",
    "import glob\n",
    "from collections import defaultdict\n",
    "import torch\n",
    "from pymatgen import core as mg\n",
    "from sklearn.model_selection import train_test_split\n",
    "from torch.utils.data import DataLoader\n",
    "import torch.optim as optim\n",
    "import tqdm\n",
    "import os\n",
    "import joblib\n",
    "import random\n",
    "from uncertainties import ufloat\n",
    "from sklearn.metrics import classification_report\n",
    "import seaborn as sns\n",
    "import matplotlib.pyplot as plt\n",
    "from modules.function import pymatgen_comp, data_generator_vec, check_cuda, get_metrics\n",
    "from modules.encoder import Encoder1D\n",
    "from modules.representation_schemes import get_PTR_features, properties_from_comp, get_vectorized_featues, get_atomic_number_features, get_pettifor_features, get_modified_pettifor_features, get_random_features, random_order"
   ]
  },
  {
   "cell_type": "code",
   "execution_count": 3,
   "metadata": {},
   "outputs": [
    {
     "data": {
      "text/plain": [
       "<torch._C.Generator at 0x7f35b8dd8c50>"
      ]
     },
     "execution_count": 3,
     "metadata": {},
     "output_type": "execute_result"
    }
   ],
   "source": [
    "random.seed(0)\n",
    "torch.manual_seed(0)"
   ]
  },
  {
   "cell_type": "code",
   "execution_count": 4,
   "metadata": {},
   "outputs": [
    {
     "name": "stdout",
     "output_type": "stream",
     "text": [
      "Enabling notebook extension jupyter-js-widgets/extension...\n",
      "      - Validating: \u001b[32mOK\u001b[0m\n"
     ]
    }
   ],
   "source": [
    "!jupyter nbextension enable --py widgetsnbextension"
   ]
  },
  {
   "cell_type": "code",
   "execution_count": 5,
   "metadata": {},
   "outputs": [],
   "source": [
    "alternate_orders_file = 'dataset/alternate_orders.pkl'\n",
    "with open(alternate_orders_file,'rb') as fid:\n",
    "    alternate_order_dict = pickle.load(fid)\n",
    "pettifor_order = alternate_order_dict['pettifor']\n",
    "modified_pettifor_order = alternate_order_dict['modified_pettifor']\n",
    "random_order = random_order"
   ]
  },
  {
   "cell_type": "code",
   "execution_count": 6,
   "metadata": {},
   "outputs": [],
   "source": [
    "gfa_dataset_file = 'gfa_dataset.txt'\n",
    "z_row_column_file = 'Z_row_column.txt'\n",
    "element_property_file = 'element_property.txt'\n",
    "common_path = \"Files_from_GTDL_paper/{}\" \n",
    "gfa_dataset = pickle.load(open(common_path.format(gfa_dataset_file), 'rb'))  \n",
    "RC = pickle.load(open(common_path.format(z_row_column_file), 'rb')) \n",
    "new_index=[int(i[4]) for i in RC]#new order \n",
    "Z_row_column = pickle.load(open(common_path.format(z_row_column_file), 'rb'))\n",
    "[property_name_list,property_list,element_name,_]=pickle.load(open(common_path.format(element_property_file), 'rb'))"
   ]
  },
  {
   "cell_type": "code",
   "execution_count": 7,
   "metadata": {},
   "outputs": [],
   "source": [
    "import re\n",
    "\n",
    "to_discard = ['Rf','Db','Sg','Bh','Hs']\n",
    "\n",
    "def alt_read_gfa_dataset(dataset = gfa_dataset):\n",
    "    str_comp = []\n",
    "    Y = []\n",
    "    for i in  gfa_dataset:\n",
    "        gfa=re.findall('\\[[a-c]?\\]',i)[0]\n",
    "        tx1_element=re.findall('[A-Z][a-z]?', i)#[B, Fe, P,No]\n",
    "        tx2_temp=re.findall('\\$_{[0-9.]+}\\$', i)#[$_{[50]}$, ] [50 30 20]\n",
    "        tx2_value=[float(re.findall('[0-9.]+', i_tx2)[0]) for i_tx2 in tx2_temp]\n",
    "        test = ''.join([x+str(y) for x,y in zip(tx1_element,tx2_value)])\n",
    "        if gfa=='[c]':\n",
    "            y= 0 \n",
    "        if gfa=='[b]' or gfa == '[a]': \n",
    "            y= 1\n",
    "        if len(set(tx1_element).intersection(set(to_discard))) == 0:\n",
    "            str_comp.append(test)\n",
    "            Y.append(y)\n",
    "    return pymatgen_comp(str_comp),Y "
   ]
  },
  {
   "cell_type": "code",
   "execution_count": 8,
   "metadata": {},
   "outputs": [],
   "source": [
    "saveloc = 'saved_models/Encoders'\n",
    "if not os.path.exists(saveloc):\n",
    "    os.makedirs(f'{saveloc}')"
   ]
  },
  {
   "cell_type": "code",
   "execution_count": 18,
   "metadata": {},
   "outputs": [
    {
     "name": "stdout",
     "output_type": "stream",
     "text": [
      "Representation : atomic\n",
      "Fold 0\n"
     ]
    },
    {
     "data": {
      "application/json": {
       "ascii": false,
       "bar_format": null,
       "colour": null,
       "elapsed": 0.01022958755493164,
       "initial": 0,
       "n": 0,
       "ncols": null,
       "nrows": null,
       "postfix": null,
       "prefix": "",
       "rate": null,
       "total": 2000,
       "unit": "it",
       "unit_divisor": 1000,
       "unit_scale": false
      },
      "application/vnd.jupyter.widget-view+json": {
       "model_id": "97426dff8bfd49289d0f8e5451daedbb",
       "version_major": 2,
       "version_minor": 0
      },
      "text/plain": [
       "  0%|          | 0/2000 [00:00<?, ?it/s]"
      ]
     },
     "metadata": {},
     "output_type": "display_data"
    },
    {
     "name": "stdout",
     "output_type": "stream",
     "text": [
      "Epoch : 1, Loss : 90.45088058710098\n",
      "Epoch : 500, Loss : 32.45760056376457\n",
      "Epoch : 1000, Loss : 26.6189002096653\n",
      "Epoch : 1500, Loss : 23.240029618144035\n",
      "Epoch : 2000, Loss : 21.079447768628597\n",
      "accuracy : 0.9243,precision : 0.9243,recall : 0.9243,F1 : 0.9242\n",
      "Fold 1\n"
     ]
    },
    {
     "data": {
      "application/json": {
       "ascii": false,
       "bar_format": null,
       "colour": null,
       "elapsed": 0.01013326644897461,
       "initial": 0,
       "n": 0,
       "ncols": null,
       "nrows": null,
       "postfix": null,
       "prefix": "",
       "rate": null,
       "total": 2000,
       "unit": "it",
       "unit_divisor": 1000,
       "unit_scale": false
      },
      "application/vnd.jupyter.widget-view+json": {
       "model_id": "4570ced4dfd341d9a7cf0a19adeadafe",
       "version_major": 2,
       "version_minor": 0
      },
      "text/plain": [
       "  0%|          | 0/2000 [00:00<?, ?it/s]"
      ]
     },
     "metadata": {},
     "output_type": "display_data"
    },
    {
     "name": "stdout",
     "output_type": "stream",
     "text": [
      "Epoch : 1, Loss : 90.59190726280212\n",
      "Epoch : 500, Loss : 31.825125202536583\n",
      "Epoch : 1000, Loss : 26.555904649198055\n",
      "Epoch : 1500, Loss : 23.595748052001\n",
      "Epoch : 2000, Loss : 21.555959440767765\n",
      "accuracy : 0.9094,precision : 0.9098,recall : 0.9094,F1 : 0.9093\n",
      "Fold 2\n"
     ]
    },
    {
     "data": {
      "application/json": {
       "ascii": false,
       "bar_format": null,
       "colour": null,
       "elapsed": 0.010175704956054688,
       "initial": 0,
       "n": 0,
       "ncols": null,
       "nrows": null,
       "postfix": null,
       "prefix": "",
       "rate": null,
       "total": 2000,
       "unit": "it",
       "unit_divisor": 1000,
       "unit_scale": false
      },
      "application/vnd.jupyter.widget-view+json": {
       "model_id": "c41484318ff84538a426f811f1061bf9",
       "version_major": 2,
       "version_minor": 0
      },
      "text/plain": [
       "  0%|          | 0/2000 [00:00<?, ?it/s]"
      ]
     },
     "metadata": {},
     "output_type": "display_data"
    },
    {
     "name": "stdout",
     "output_type": "stream",
     "text": [
      "Epoch : 1, Loss : 90.44873118400574\n",
      "Epoch : 500, Loss : 35.85723623633385\n",
      "Epoch : 1000, Loss : 31.344127297401428\n",
      "Epoch : 1500, Loss : 27.67644166201353\n",
      "Epoch : 2000, Loss : 25.587706044316292\n",
      "accuracy : 0.9075,precision : 0.9077,recall : 0.9075,F1 : 0.9076\n",
      "Fold 3\n"
     ]
    },
    {
     "data": {
      "application/json": {
       "ascii": false,
       "bar_format": null,
       "colour": null,
       "elapsed": 0.010136604309082031,
       "initial": 0,
       "n": 0,
       "ncols": null,
       "nrows": null,
       "postfix": null,
       "prefix": "",
       "rate": null,
       "total": 2000,
       "unit": "it",
       "unit_divisor": 1000,
       "unit_scale": false
      },
      "application/vnd.jupyter.widget-view+json": {
       "model_id": "f106797bcb09458eb9c6885bfcd802af",
       "version_major": 2,
       "version_minor": 0
      },
      "text/plain": [
       "  0%|          | 0/2000 [00:00<?, ?it/s]"
      ]
     },
     "metadata": {},
     "output_type": "display_data"
    },
    {
     "name": "stdout",
     "output_type": "stream",
     "text": [
      "Epoch : 1, Loss : 90.5045217871666\n",
      "Epoch : 500, Loss : 33.29571928828955\n",
      "Epoch : 1000, Loss : 27.976286493241787\n",
      "Epoch : 1500, Loss : 24.743240356445312\n",
      "Epoch : 2000, Loss : 22.78516996651888\n",
      "accuracy : 0.9185,precision : 0.9187,recall : 0.9185,F1 : 0.9184\n",
      "Fold 4\n"
     ]
    },
    {
     "data": {
      "application/json": {
       "ascii": false,
       "bar_format": null,
       "colour": null,
       "elapsed": 0.009664058685302734,
       "initial": 0,
       "n": 0,
       "ncols": null,
       "nrows": null,
       "postfix": null,
       "prefix": "",
       "rate": null,
       "total": 2000,
       "unit": "it",
       "unit_divisor": 1000,
       "unit_scale": false
      },
      "application/vnd.jupyter.widget-view+json": {
       "model_id": "26f2d12c78b04a7ea3bb188e7093bfc9",
       "version_major": 2,
       "version_minor": 0
      },
      "text/plain": [
       "  0%|          | 0/2000 [00:00<?, ?it/s]"
      ]
     },
     "metadata": {},
     "output_type": "display_data"
    },
    {
     "name": "stdout",
     "output_type": "stream",
     "text": [
      "Epoch : 1, Loss : 90.55887401103973\n",
      "Epoch : 500, Loss : 30.879774428904057\n",
      "Epoch : 1000, Loss : 25.50516165047884\n",
      "Epoch : 1500, Loss : 23.02512302994728\n",
      "Epoch : 2000, Loss : 21.89472182840109\n",
      "accuracy : 0.9142,precision : 0.9142,recall : 0.9142,F1 : 0.9142\n",
      "Fold 5\n"
     ]
    },
    {
     "data": {
      "application/json": {
       "ascii": false,
       "bar_format": null,
       "colour": null,
       "elapsed": 0.009927988052368164,
       "initial": 0,
       "n": 0,
       "ncols": null,
       "nrows": null,
       "postfix": null,
       "prefix": "",
       "rate": null,
       "total": 2000,
       "unit": "it",
       "unit_divisor": 1000,
       "unit_scale": false
      },
      "application/vnd.jupyter.widget-view+json": {
       "model_id": "38977e0d7c6b4d659283268689486157",
       "version_major": 2,
       "version_minor": 0
      },
      "text/plain": [
       "  0%|          | 0/2000 [00:00<?, ?it/s]"
      ]
     },
     "metadata": {},
     "output_type": "display_data"
    },
    {
     "name": "stdout",
     "output_type": "stream",
     "text": [
      "Epoch : 1, Loss : 90.37406605482101\n",
      "Epoch : 500, Loss : 32.39772592484951\n",
      "Epoch : 1000, Loss : 27.213289991021156\n",
      "Epoch : 1500, Loss : 23.87284828349948\n",
      "Epoch : 2000, Loss : 21.675101041793823\n",
      "accuracy : 0.9181,precision : 0.9188,recall : 0.9181,F1 : 0.918\n",
      "Fold 6\n"
     ]
    },
    {
     "data": {
      "application/json": {
       "ascii": false,
       "bar_format": null,
       "colour": null,
       "elapsed": 0.009749412536621094,
       "initial": 0,
       "n": 0,
       "ncols": null,
       "nrows": null,
       "postfix": null,
       "prefix": "",
       "rate": null,
       "total": 2000,
       "unit": "it",
       "unit_divisor": 1000,
       "unit_scale": false
      },
      "application/vnd.jupyter.widget-view+json": {
       "model_id": "4d331529458c484897e36bc0aadc0beb",
       "version_major": 2,
       "version_minor": 0
      },
      "text/plain": [
       "  0%|          | 0/2000 [00:00<?, ?it/s]"
      ]
     },
     "metadata": {},
     "output_type": "display_data"
    },
    {
     "name": "stdout",
     "output_type": "stream",
     "text": [
      "Epoch : 1, Loss : 90.61588257551193\n",
      "Epoch : 500, Loss : 34.44350764155388\n",
      "Epoch : 1000, Loss : 29.434752449393272\n",
      "Epoch : 1500, Loss : 26.053966477513313\n",
      "Epoch : 2000, Loss : 24.205317959189415\n",
      "accuracy : 0.8979,precision : 0.9005,recall : 0.8979,F1 : 0.8975\n",
      "Fold 7\n"
     ]
    },
    {
     "data": {
      "application/json": {
       "ascii": false,
       "bar_format": null,
       "colour": null,
       "elapsed": 0.009680032730102539,
       "initial": 0,
       "n": 0,
       "ncols": null,
       "nrows": null,
       "postfix": null,
       "prefix": "",
       "rate": null,
       "total": 2000,
       "unit": "it",
       "unit_divisor": 1000,
       "unit_scale": false
      },
      "application/vnd.jupyter.widget-view+json": {
       "model_id": "dc34defbc00b427f9d2d12c4c3efad30",
       "version_major": 2,
       "version_minor": 0
      },
      "text/plain": [
       "  0%|          | 0/2000 [00:00<?, ?it/s]"
      ]
     },
     "metadata": {},
     "output_type": "display_data"
    },
    {
     "name": "stdout",
     "output_type": "stream",
     "text": [
      "Epoch : 1, Loss : 90.47225207090378\n",
      "Epoch : 500, Loss : 30.44502840936184\n",
      "Epoch : 1000, Loss : 25.041346326470375\n",
      "Epoch : 1500, Loss : 22.515617296099663\n",
      "Epoch : 2000, Loss : 21.306610349565744\n",
      "accuracy : 0.9104,precision : 0.9154,recall : 0.9104,F1 : 0.9096\n",
      "Fold 8\n"
     ]
    },
    {
     "data": {
      "application/json": {
       "ascii": false,
       "bar_format": null,
       "colour": null,
       "elapsed": 0.009566783905029297,
       "initial": 0,
       "n": 0,
       "ncols": null,
       "nrows": null,
       "postfix": null,
       "prefix": "",
       "rate": null,
       "total": 2000,
       "unit": "it",
       "unit_divisor": 1000,
       "unit_scale": false
      },
      "application/vnd.jupyter.widget-view+json": {
       "model_id": "a249331ea9f44ef7a874af57b6745226",
       "version_major": 2,
       "version_minor": 0
      },
      "text/plain": [
       "  0%|          | 0/2000 [00:00<?, ?it/s]"
      ]
     },
     "metadata": {},
     "output_type": "display_data"
    },
    {
     "name": "stdout",
     "output_type": "stream",
     "text": [
      "Epoch : 1, Loss : 90.46687477827072\n",
      "Epoch : 500, Loss : 35.471903175115585\n",
      "Epoch : 1000, Loss : 29.464205659925938\n",
      "Epoch : 1500, Loss : 26.086722932755947\n",
      "Epoch : 2000, Loss : 23.936835020780563\n",
      "accuracy : 0.9205,precision : 0.9217,recall : 0.9205,F1 : 0.9202\n",
      "Fold 9\n"
     ]
    },
    {
     "data": {
      "application/json": {
       "ascii": false,
       "bar_format": null,
       "colour": null,
       "elapsed": 0.009578466415405273,
       "initial": 0,
       "n": 0,
       "ncols": null,
       "nrows": null,
       "postfix": null,
       "prefix": "",
       "rate": null,
       "total": 2000,
       "unit": "it",
       "unit_divisor": 1000,
       "unit_scale": false
      },
      "application/vnd.jupyter.widget-view+json": {
       "model_id": "8b8b0b478b6044a685c59aaaecfb1da7",
       "version_major": 2,
       "version_minor": 0
      },
      "text/plain": [
       "  0%|          | 0/2000 [00:00<?, ?it/s]"
      ]
     },
     "metadata": {},
     "output_type": "display_data"
    },
    {
     "name": "stdout",
     "output_type": "stream",
     "text": [
      "Epoch : 1, Loss : 90.49502742290497\n",
      "Epoch : 500, Loss : 31.766348719596863\n",
      "Epoch : 1000, Loss : 26.192368611693382\n",
      "Epoch : 1500, Loss : 23.44023985415697\n",
      "Epoch : 2000, Loss : 21.616830959916115\n",
      "accuracy : 0.9056,precision : 0.9068,recall : 0.9056,F1 : 0.9053\n",
      "Representation : pettifor\n",
      "Fold 0\n"
     ]
    },
    {
     "data": {
      "application/json": {
       "ascii": false,
       "bar_format": null,
       "colour": null,
       "elapsed": 0.009896039962768555,
       "initial": 0,
       "n": 0,
       "ncols": null,
       "nrows": null,
       "postfix": null,
       "prefix": "",
       "rate": null,
       "total": 2000,
       "unit": "it",
       "unit_divisor": 1000,
       "unit_scale": false
      },
      "application/vnd.jupyter.widget-view+json": {
       "model_id": "000824e956b34564b49109f895ae6317",
       "version_major": 2,
       "version_minor": 0
      },
      "text/plain": [
       "  0%|          | 0/2000 [00:00<?, ?it/s]"
      ]
     },
     "metadata": {},
     "output_type": "display_data"
    },
    {
     "name": "stdout",
     "output_type": "stream",
     "text": [
      "Epoch : 1, Loss : 90.16449987888336\n",
      "Epoch : 500, Loss : 35.0450968593359\n",
      "Epoch : 1000, Loss : 28.761849887669086\n",
      "Epoch : 1500, Loss : 26.15279395133257\n",
      "Epoch : 2000, Loss : 24.650037191808224\n",
      "accuracy : 0.9104,precision : 0.9106,recall : 0.9104,F1 : 0.9104\n",
      "Fold 1\n"
     ]
    },
    {
     "data": {
      "application/json": {
       "ascii": false,
       "bar_format": null,
       "colour": null,
       "elapsed": 0.009618997573852539,
       "initial": 0,
       "n": 0,
       "ncols": null,
       "nrows": null,
       "postfix": null,
       "prefix": "",
       "rate": null,
       "total": 2000,
       "unit": "it",
       "unit_divisor": 1000,
       "unit_scale": false
      },
      "application/vnd.jupyter.widget-view+json": {
       "model_id": "c6110950289946288f4650fa9fa92f3a",
       "version_major": 2,
       "version_minor": 0
      },
      "text/plain": [
       "  0%|          | 0/2000 [00:00<?, ?it/s]"
      ]
     },
     "metadata": {},
     "output_type": "display_data"
    },
    {
     "name": "stdout",
     "output_type": "stream",
     "text": [
      "Epoch : 1, Loss : 90.3823156952858\n",
      "Epoch : 500, Loss : 33.44844478368759\n",
      "Epoch : 1000, Loss : 28.49145959317684\n",
      "Epoch : 1500, Loss : 25.79359269887209\n",
      "Epoch : 2000, Loss : 24.481898300349712\n",
      "accuracy : 0.9128,precision : 0.9135,recall : 0.9128,F1 : 0.9126\n",
      "Fold 2\n"
     ]
    },
    {
     "data": {
      "application/json": {
       "ascii": false,
       "bar_format": null,
       "colour": null,
       "elapsed": 0.009720325469970703,
       "initial": 0,
       "n": 0,
       "ncols": null,
       "nrows": null,
       "postfix": null,
       "prefix": "",
       "rate": null,
       "total": 2000,
       "unit": "it",
       "unit_divisor": 1000,
       "unit_scale": false
      },
      "application/vnd.jupyter.widget-view+json": {
       "model_id": "608f1e50decf4f82ba83af312cd427ec",
       "version_major": 2,
       "version_minor": 0
      },
      "text/plain": [
       "  0%|          | 0/2000 [00:00<?, ?it/s]"
      ]
     },
     "metadata": {},
     "output_type": "display_data"
    },
    {
     "name": "stdout",
     "output_type": "stream",
     "text": [
      "Epoch : 1, Loss : 90.56298327445984\n",
      "Epoch : 500, Loss : 34.62815575301647\n",
      "Epoch : 1000, Loss : 28.72358288615942\n",
      "Epoch : 1500, Loss : 25.504023864865303\n",
      "Epoch : 2000, Loss : 23.932696536183357\n",
      "accuracy : 0.8922,precision : 0.8938,recall : 0.8922,F1 : 0.8924\n",
      "Fold 3\n"
     ]
    },
    {
     "data": {
      "application/json": {
       "ascii": false,
       "bar_format": null,
       "colour": null,
       "elapsed": 0.009553909301757812,
       "initial": 0,
       "n": 0,
       "ncols": null,
       "nrows": null,
       "postfix": null,
       "prefix": "",
       "rate": null,
       "total": 2000,
       "unit": "it",
       "unit_divisor": 1000,
       "unit_scale": false
      },
      "application/vnd.jupyter.widget-view+json": {
       "model_id": "9e1a9d030c9144f5b2258d3b7a3edce9",
       "version_major": 2,
       "version_minor": 0
      },
      "text/plain": [
       "  0%|          | 0/2000 [00:00<?, ?it/s]"
      ]
     },
     "metadata": {},
     "output_type": "display_data"
    },
    {
     "name": "stdout",
     "output_type": "stream",
     "text": [
      "Epoch : 1, Loss : 90.48092991113663\n",
      "Epoch : 500, Loss : 32.70095552504063\n",
      "Epoch : 1000, Loss : 27.62099353969097\n",
      "Epoch : 1500, Loss : 25.224858541041613\n",
      "Epoch : 2000, Loss : 23.682252407073975\n",
      "accuracy : 0.9133,precision : 0.9134,recall : 0.9133,F1 : 0.9132\n",
      "Fold 4\n"
     ]
    },
    {
     "data": {
      "application/json": {
       "ascii": false,
       "bar_format": null,
       "colour": null,
       "elapsed": 0.009780406951904297,
       "initial": 0,
       "n": 0,
       "ncols": null,
       "nrows": null,
       "postfix": null,
       "prefix": "",
       "rate": null,
       "total": 2000,
       "unit": "it",
       "unit_divisor": 1000,
       "unit_scale": false
      },
      "application/vnd.jupyter.widget-view+json": {
       "model_id": "5b62f93b4e0b4b7892df9185139e4699",
       "version_major": 2,
       "version_minor": 0
      },
      "text/plain": [
       "  0%|          | 0/2000 [00:00<?, ?it/s]"
      ]
     },
     "metadata": {},
     "output_type": "display_data"
    },
    {
     "name": "stdout",
     "output_type": "stream",
     "text": [
      "Epoch : 1, Loss : 90.4722381234169\n",
      "Epoch : 500, Loss : 34.753301061689854\n",
      "Epoch : 1000, Loss : 28.656519405543804\n",
      "Epoch : 1500, Loss : 25.866898588836193\n",
      "Epoch : 2000, Loss : 23.85925330221653\n",
      "accuracy : 0.9118,precision : 0.9119,recall : 0.9118,F1 : 0.9119\n",
      "Fold 5\n"
     ]
    },
    {
     "data": {
      "application/json": {
       "ascii": false,
       "bar_format": null,
       "colour": null,
       "elapsed": 0.009578227996826172,
       "initial": 0,
       "n": 0,
       "ncols": null,
       "nrows": null,
       "postfix": null,
       "prefix": "",
       "rate": null,
       "total": 2000,
       "unit": "it",
       "unit_divisor": 1000,
       "unit_scale": false
      },
      "application/vnd.jupyter.widget-view+json": {
       "model_id": "7ceeecd7396f4fef870f07bcbd31b977",
       "version_major": 2,
       "version_minor": 0
      },
      "text/plain": [
       "  0%|          | 0/2000 [00:00<?, ?it/s]"
      ]
     },
     "metadata": {},
     "output_type": "display_data"
    },
    {
     "name": "stdout",
     "output_type": "stream",
     "text": [
      "Epoch : 1, Loss : 90.62974256277084\n",
      "Epoch : 500, Loss : 37.82790483534336\n",
      "Epoch : 1000, Loss : 30.96852869540453\n",
      "Epoch : 1500, Loss : 28.327507592737675\n",
      "Epoch : 2000, Loss : 26.11032522469759\n",
      "accuracy : 0.896,precision : 0.8976,recall : 0.896,F1 : 0.8962\n",
      "Fold 6\n"
     ]
    },
    {
     "data": {
      "application/json": {
       "ascii": false,
       "bar_format": null,
       "colour": null,
       "elapsed": 0.009563446044921875,
       "initial": 0,
       "n": 0,
       "ncols": null,
       "nrows": null,
       "postfix": null,
       "prefix": "",
       "rate": null,
       "total": 2000,
       "unit": "it",
       "unit_divisor": 1000,
       "unit_scale": false
      },
      "application/vnd.jupyter.widget-view+json": {
       "model_id": "11ad948fc2884055b5a86c7c32d1d766",
       "version_major": 2,
       "version_minor": 0
      },
      "text/plain": [
       "  0%|          | 0/2000 [00:00<?, ?it/s]"
      ]
     },
     "metadata": {},
     "output_type": "display_data"
    },
    {
     "name": "stdout",
     "output_type": "stream",
     "text": [
      "Epoch : 1, Loss : 90.3775120973587\n",
      "Epoch : 500, Loss : 35.486728847026825\n",
      "Epoch : 1000, Loss : 29.2727874442935\n",
      "Epoch : 1500, Loss : 27.099739886820316\n",
      "Epoch : 2000, Loss : 24.86170817911625\n",
      "accuracy : 0.9066,precision : 0.9082,recall : 0.9066,F1 : 0.9062\n",
      "Fold 7\n"
     ]
    },
    {
     "data": {
      "application/json": {
       "ascii": false,
       "bar_format": null,
       "colour": null,
       "elapsed": 0.009904861450195312,
       "initial": 0,
       "n": 0,
       "ncols": null,
       "nrows": null,
       "postfix": null,
       "prefix": "",
       "rate": null,
       "total": 2000,
       "unit": "it",
       "unit_divisor": 1000,
       "unit_scale": false
      },
      "application/vnd.jupyter.widget-view+json": {
       "model_id": "b1a5c94f5b9e4e31b21bcf55b8ddf16b",
       "version_major": 2,
       "version_minor": 0
      },
      "text/plain": [
       "  0%|          | 0/2000 [00:00<?, ?it/s]"
      ]
     },
     "metadata": {},
     "output_type": "display_data"
    },
    {
     "name": "stdout",
     "output_type": "stream",
     "text": [
      "Epoch : 1, Loss : 90.57649683952332\n",
      "Epoch : 500, Loss : 34.17779876291752\n",
      "Epoch : 1000, Loss : 28.08514153212309\n",
      "Epoch : 1500, Loss : 25.951166301965714\n",
      "Epoch : 2000, Loss : 23.706852689385414\n",
      "accuracy : 0.8908,precision : 0.8938,recall : 0.8908,F1 : 0.8909\n",
      "Fold 8\n"
     ]
    },
    {
     "data": {
      "application/json": {
       "ascii": false,
       "bar_format": null,
       "colour": null,
       "elapsed": 0.009533882141113281,
       "initial": 0,
       "n": 0,
       "ncols": null,
       "nrows": null,
       "postfix": null,
       "prefix": "",
       "rate": null,
       "total": 2000,
       "unit": "it",
       "unit_divisor": 1000,
       "unit_scale": false
      },
      "application/vnd.jupyter.widget-view+json": {
       "model_id": "70735987f7084069a64bec0ed5332a15",
       "version_major": 2,
       "version_minor": 0
      },
      "text/plain": [
       "  0%|          | 0/2000 [00:00<?, ?it/s]"
      ]
     },
     "metadata": {},
     "output_type": "display_data"
    },
    {
     "name": "stdout",
     "output_type": "stream",
     "text": [
      "Epoch : 1, Loss : 90.4064171910286\n",
      "Epoch : 500, Loss : 35.463782265782356\n",
      "Epoch : 1000, Loss : 30.113041020929813\n",
      "Epoch : 1500, Loss : 27.470120817422867\n",
      "Epoch : 2000, Loss : 25.792692333459854\n",
      "accuracy : 0.907,precision : 0.9078,recall : 0.907,F1 : 0.9069\n",
      "Fold 9\n"
     ]
    },
    {
     "data": {
      "application/json": {
       "ascii": false,
       "bar_format": null,
       "colour": null,
       "elapsed": 0.009587287902832031,
       "initial": 0,
       "n": 0,
       "ncols": null,
       "nrows": null,
       "postfix": null,
       "prefix": "",
       "rate": null,
       "total": 2000,
       "unit": "it",
       "unit_divisor": 1000,
       "unit_scale": false
      },
      "application/vnd.jupyter.widget-view+json": {
       "model_id": "d38c7751113e47cd9ec3ed7bc6221b1b",
       "version_major": 2,
       "version_minor": 0
      },
      "text/plain": [
       "  0%|          | 0/2000 [00:00<?, ?it/s]"
      ]
     },
     "metadata": {},
     "output_type": "display_data"
    },
    {
     "name": "stdout",
     "output_type": "stream",
     "text": [
      "Epoch : 1, Loss : 90.20065313577652\n",
      "Epoch : 500, Loss : 32.121224746108055\n",
      "Epoch : 1000, Loss : 27.49465923756361\n",
      "Epoch : 1500, Loss : 24.72859825193882\n",
      "Epoch : 2000, Loss : 23.28716190904379\n",
      "accuracy : 0.9013,precision : 0.9026,recall : 0.9013,F1 : 0.9014\n",
      "Representation : mod_pettifor\n",
      "Fold 0\n"
     ]
    },
    {
     "data": {
      "application/json": {
       "ascii": false,
       "bar_format": null,
       "colour": null,
       "elapsed": 0.00976252555847168,
       "initial": 0,
       "n": 0,
       "ncols": null,
       "nrows": null,
       "postfix": null,
       "prefix": "",
       "rate": null,
       "total": 2000,
       "unit": "it",
       "unit_divisor": 1000,
       "unit_scale": false
      },
      "application/vnd.jupyter.widget-view+json": {
       "model_id": "7e3079c97a474222b0c149dd910f5935",
       "version_major": 2,
       "version_minor": 0
      },
      "text/plain": [
       "  0%|          | 0/2000 [00:00<?, ?it/s]"
      ]
     },
     "metadata": {},
     "output_type": "display_data"
    },
    {
     "name": "stdout",
     "output_type": "stream",
     "text": [
      "Epoch : 1, Loss : 90.4112458229065\n",
      "Epoch : 500, Loss : 32.26823212951422\n",
      "Epoch : 1000, Loss : 27.096907805651426\n",
      "Epoch : 1500, Loss : 23.972883440554142\n",
      "Epoch : 2000, Loss : 22.376205384731293\n",
      "accuracy : 0.8975,precision : 0.8975,recall : 0.8975,F1 : 0.8974\n",
      "Fold 1\n"
     ]
    },
    {
     "data": {
      "application/json": {
       "ascii": false,
       "bar_format": null,
       "colour": null,
       "elapsed": 0.009770870208740234,
       "initial": 0,
       "n": 0,
       "ncols": null,
       "nrows": null,
       "postfix": null,
       "prefix": "",
       "rate": null,
       "total": 2000,
       "unit": "it",
       "unit_divisor": 1000,
       "unit_scale": false
      },
      "application/vnd.jupyter.widget-view+json": {
       "model_id": "97bb090fc5024acd8f66bc6c12f201dd",
       "version_major": 2,
       "version_minor": 0
      },
      "text/plain": [
       "  0%|          | 0/2000 [00:00<?, ?it/s]"
      ]
     },
     "metadata": {},
     "output_type": "display_data"
    },
    {
     "name": "stdout",
     "output_type": "stream",
     "text": [
      "Epoch : 1, Loss : 90.52671986818314\n",
      "Epoch : 500, Loss : 35.47641170024872\n",
      "Epoch : 1000, Loss : 28.08697220683098\n",
      "Epoch : 1500, Loss : 24.852578341960907\n",
      "Epoch : 2000, Loss : 22.948763765394688\n",
      "accuracy : 0.9066,precision : 0.9081,recall : 0.9066,F1 : 0.9067\n",
      "Fold 2\n"
     ]
    },
    {
     "data": {
      "application/json": {
       "ascii": false,
       "bar_format": null,
       "colour": null,
       "elapsed": 0.00954580307006836,
       "initial": 0,
       "n": 0,
       "ncols": null,
       "nrows": null,
       "postfix": null,
       "prefix": "",
       "rate": null,
       "total": 2000,
       "unit": "it",
       "unit_divisor": 1000,
       "unit_scale": false
      },
      "application/vnd.jupyter.widget-view+json": {
       "model_id": "cd7fa3e0752f44de86e50f23994e0b86",
       "version_major": 2,
       "version_minor": 0
      },
      "text/plain": [
       "  0%|          | 0/2000 [00:00<?, ?it/s]"
      ]
     },
     "metadata": {},
     "output_type": "display_data"
    },
    {
     "name": "stdout",
     "output_type": "stream",
     "text": [
      "Epoch : 1, Loss : 90.42774504423141\n",
      "Epoch : 500, Loss : 30.920375414192677\n",
      "Epoch : 1000, Loss : 25.916284047067165\n",
      "Epoch : 1500, Loss : 23.176428124308586\n",
      "Epoch : 2000, Loss : 20.921439103782177\n",
      "accuracy : 0.9061,precision : 0.9073,recall : 0.9061,F1 : 0.9062\n",
      "Fold 3\n"
     ]
    },
    {
     "data": {
      "application/json": {
       "ascii": false,
       "bar_format": null,
       "colour": null,
       "elapsed": 0.009588479995727539,
       "initial": 0,
       "n": 0,
       "ncols": null,
       "nrows": null,
       "postfix": null,
       "prefix": "",
       "rate": null,
       "total": 2000,
       "unit": "it",
       "unit_divisor": 1000,
       "unit_scale": false
      },
      "application/vnd.jupyter.widget-view+json": {
       "model_id": "d405295b69ad4b6a8191a24e19716322",
       "version_major": 2,
       "version_minor": 0
      },
      "text/plain": [
       "  0%|          | 0/2000 [00:00<?, ?it/s]"
      ]
     },
     "metadata": {},
     "output_type": "display_data"
    },
    {
     "name": "stdout",
     "output_type": "stream",
     "text": [
      "Epoch : 1, Loss : 90.4237996339798\n",
      "Epoch : 500, Loss : 32.82937230169773\n",
      "Epoch : 1000, Loss : 27.85440907627344\n",
      "Epoch : 1500, Loss : 25.421786814928055\n",
      "Epoch : 2000, Loss : 23.385274715721607\n",
      "accuracy : 0.8965,precision : 0.8966,recall : 0.8965,F1 : 0.8963\n",
      "Fold 4\n"
     ]
    },
    {
     "data": {
      "application/json": {
       "ascii": false,
       "bar_format": null,
       "colour": null,
       "elapsed": 0.01000213623046875,
       "initial": 0,
       "n": 0,
       "ncols": null,
       "nrows": null,
       "postfix": null,
       "prefix": "",
       "rate": null,
       "total": 2000,
       "unit": "it",
       "unit_divisor": 1000,
       "unit_scale": false
      },
      "application/vnd.jupyter.widget-view+json": {
       "model_id": "1915adab00094894aaf3b837a9e490b6",
       "version_major": 2,
       "version_minor": 0
      },
      "text/plain": [
       "  0%|          | 0/2000 [00:00<?, ?it/s]"
      ]
     },
     "metadata": {},
     "output_type": "display_data"
    },
    {
     "name": "stdout",
     "output_type": "stream",
     "text": [
      "Epoch : 1, Loss : 90.62143504619598\n",
      "Epoch : 500, Loss : 31.061628997325897\n",
      "Epoch : 1000, Loss : 25.690623953938484\n",
      "Epoch : 1500, Loss : 23.018231704831123\n",
      "Epoch : 2000, Loss : 21.441630713641644\n",
      "accuracy : 0.8989,precision : 0.8989,recall : 0.8989,F1 : 0.8989\n",
      "Fold 5\n"
     ]
    },
    {
     "data": {
      "application/json": {
       "ascii": false,
       "bar_format": null,
       "colour": null,
       "elapsed": 0.009799003601074219,
       "initial": 0,
       "n": 0,
       "ncols": null,
       "nrows": null,
       "postfix": null,
       "prefix": "",
       "rate": null,
       "total": 2000,
       "unit": "it",
       "unit_divisor": 1000,
       "unit_scale": false
      },
      "application/vnd.jupyter.widget-view+json": {
       "model_id": "b2b49d277a8c46bbac33d9104a60e2f0",
       "version_major": 2,
       "version_minor": 0
      },
      "text/plain": [
       "  0%|          | 0/2000 [00:00<?, ?it/s]"
      ]
     },
     "metadata": {},
     "output_type": "display_data"
    },
    {
     "name": "stdout",
     "output_type": "stream",
     "text": [
      "Epoch : 1, Loss : 90.39159190654755\n",
      "Epoch : 500, Loss : 33.54038091003895\n",
      "Epoch : 1000, Loss : 27.890799701213837\n",
      "Epoch : 1500, Loss : 24.7990682721138\n",
      "Epoch : 2000, Loss : 23.131748031824827\n",
      "accuracy : 0.9109,precision : 0.9109,recall : 0.9109,F1 : 0.9109\n",
      "Fold 6\n"
     ]
    },
    {
     "data": {
      "application/json": {
       "ascii": false,
       "bar_format": null,
       "colour": null,
       "elapsed": 0.009581327438354492,
       "initial": 0,
       "n": 0,
       "ncols": null,
       "nrows": null,
       "postfix": null,
       "prefix": "",
       "rate": null,
       "total": 2000,
       "unit": "it",
       "unit_divisor": 1000,
       "unit_scale": false
      },
      "application/vnd.jupyter.widget-view+json": {
       "model_id": "72ae046df5e04521857d21f8f3c11cec",
       "version_major": 2,
       "version_minor": 0
      },
      "text/plain": [
       "  0%|          | 0/2000 [00:00<?, ?it/s]"
      ]
     },
     "metadata": {},
     "output_type": "display_data"
    },
    {
     "name": "stdout",
     "output_type": "stream",
     "text": [
      "Epoch : 1, Loss : 90.42126017808914\n",
      "Epoch : 500, Loss : 32.9610310792923\n",
      "Epoch : 1000, Loss : 27.2974219545722\n",
      "Epoch : 1500, Loss : 24.340367756783962\n",
      "Epoch : 2000, Loss : 22.699708566069603\n",
      "accuracy : 0.9046,precision : 0.9068,recall : 0.9046,F1 : 0.9043\n",
      "Fold 7\n"
     ]
    },
    {
     "data": {
      "application/json": {
       "ascii": false,
       "bar_format": null,
       "colour": null,
       "elapsed": 0.009942054748535156,
       "initial": 0,
       "n": 0,
       "ncols": null,
       "nrows": null,
       "postfix": null,
       "prefix": "",
       "rate": null,
       "total": 2000,
       "unit": "it",
       "unit_divisor": 1000,
       "unit_scale": false
      },
      "application/vnd.jupyter.widget-view+json": {
       "model_id": "9f1b7877010644e983fd44ffaeb26715",
       "version_major": 2,
       "version_minor": 0
      },
      "text/plain": [
       "  0%|          | 0/2000 [00:00<?, ?it/s]"
      ]
     },
     "metadata": {},
     "output_type": "display_data"
    },
    {
     "name": "stdout",
     "output_type": "stream",
     "text": [
      "Epoch : 1, Loss : 90.43316465616226\n",
      "Epoch : 500, Loss : 33.874833554029465\n",
      "Epoch : 1000, Loss : 28.077382281422615\n",
      "Epoch : 1500, Loss : 25.171552788466215\n",
      "Epoch : 2000, Loss : 23.801896542310715\n",
      "accuracy : 0.9056,precision : 0.9059,recall : 0.9056,F1 : 0.9055\n",
      "Fold 8\n"
     ]
    },
    {
     "data": {
      "application/json": {
       "ascii": false,
       "bar_format": null,
       "colour": null,
       "elapsed": 0.009781599044799805,
       "initial": 0,
       "n": 0,
       "ncols": null,
       "nrows": null,
       "postfix": null,
       "prefix": "",
       "rate": null,
       "total": 2000,
       "unit": "it",
       "unit_divisor": 1000,
       "unit_scale": false
      },
      "application/vnd.jupyter.widget-view+json": {
       "model_id": "1a0930ee5cd64fa5a5207bfc04f2220c",
       "version_major": 2,
       "version_minor": 0
      },
      "text/plain": [
       "  0%|          | 0/2000 [00:00<?, ?it/s]"
      ]
     },
     "metadata": {},
     "output_type": "display_data"
    },
    {
     "name": "stdout",
     "output_type": "stream",
     "text": [
      "Epoch : 1, Loss : 90.40275502204895\n",
      "Epoch : 500, Loss : 35.25926069915295\n",
      "Epoch : 1000, Loss : 27.769833125174046\n",
      "Epoch : 1500, Loss : 24.97810471057892\n",
      "Epoch : 2000, Loss : 23.51015831530094\n",
      "accuracy : 0.9138,precision : 0.9138,recall : 0.9138,F1 : 0.9136\n",
      "Fold 9\n"
     ]
    },
    {
     "data": {
      "application/json": {
       "ascii": false,
       "bar_format": null,
       "colour": null,
       "elapsed": 0.009621381759643555,
       "initial": 0,
       "n": 0,
       "ncols": null,
       "nrows": null,
       "postfix": null,
       "prefix": "",
       "rate": null,
       "total": 2000,
       "unit": "it",
       "unit_divisor": 1000,
       "unit_scale": false
      },
      "application/vnd.jupyter.widget-view+json": {
       "model_id": "864bb022ac2b4954834552f77316f06d",
       "version_major": 2,
       "version_minor": 0
      },
      "text/plain": [
       "  0%|          | 0/2000 [00:00<?, ?it/s]"
      ]
     },
     "metadata": {},
     "output_type": "display_data"
    },
    {
     "name": "stdout",
     "output_type": "stream",
     "text": [
      "Epoch : 1, Loss : 90.37872844934464\n",
      "Epoch : 500, Loss : 31.88836097717285\n",
      "Epoch : 1000, Loss : 26.287588015198708\n",
      "Epoch : 1500, Loss : 24.03527743369341\n",
      "Epoch : 2000, Loss : 22.825288761407137\n",
      "accuracy : 0.9157,precision : 0.9165,recall : 0.9157,F1 : 0.9155\n",
      "Representation : random\n",
      "Fold 0\n"
     ]
    },
    {
     "data": {
      "application/json": {
       "ascii": false,
       "bar_format": null,
       "colour": null,
       "elapsed": 0.009899139404296875,
       "initial": 0,
       "n": 0,
       "ncols": null,
       "nrows": null,
       "postfix": null,
       "prefix": "",
       "rate": null,
       "total": 2000,
       "unit": "it",
       "unit_divisor": 1000,
       "unit_scale": false
      },
      "application/vnd.jupyter.widget-view+json": {
       "model_id": "5e359ade0c294318b0293743503cedee",
       "version_major": 2,
       "version_minor": 0
      },
      "text/plain": [
       "  0%|          | 0/2000 [00:00<?, ?it/s]"
      ]
     },
     "metadata": {},
     "output_type": "display_data"
    },
    {
     "name": "stdout",
     "output_type": "stream",
     "text": [
      "Epoch : 1, Loss : 90.55305778980255\n",
      "Epoch : 500, Loss : 38.42847406864166\n",
      "Epoch : 1000, Loss : 33.00513397157192\n",
      "Epoch : 1500, Loss : 30.046620912849903\n",
      "Epoch : 2000, Loss : 28.431547828018665\n",
      "accuracy : 0.897,precision : 0.8969,recall : 0.897,F1 : 0.897\n",
      "Fold 1\n"
     ]
    },
    {
     "data": {
      "application/json": {
       "ascii": false,
       "bar_format": null,
       "colour": null,
       "elapsed": 0.00970315933227539,
       "initial": 0,
       "n": 0,
       "ncols": null,
       "nrows": null,
       "postfix": null,
       "prefix": "",
       "rate": null,
       "total": 2000,
       "unit": "it",
       "unit_divisor": 1000,
       "unit_scale": false
      },
      "application/vnd.jupyter.widget-view+json": {
       "model_id": "1755383637154443bfe1ce600ba9c506",
       "version_major": 2,
       "version_minor": 0
      },
      "text/plain": [
       "  0%|          | 0/2000 [00:00<?, ?it/s]"
      ]
     },
     "metadata": {},
     "output_type": "display_data"
    },
    {
     "name": "stdout",
     "output_type": "stream",
     "text": [
      "Epoch : 1, Loss : 90.43896043300629\n",
      "Epoch : 500, Loss : 38.18121498823166\n",
      "Epoch : 1000, Loss : 31.807416804134846\n",
      "Epoch : 1500, Loss : 29.013403430581093\n",
      "Epoch : 2000, Loss : 27.133548751473427\n",
      "accuracy : 0.8994,precision : 0.8994,recall : 0.8994,F1 : 0.8994\n",
      "Fold 2\n"
     ]
    },
    {
     "data": {
      "application/json": {
       "ascii": false,
       "bar_format": null,
       "colour": null,
       "elapsed": 0.009553670883178711,
       "initial": 0,
       "n": 0,
       "ncols": null,
       "nrows": null,
       "postfix": null,
       "prefix": "",
       "rate": null,
       "total": 2000,
       "unit": "it",
       "unit_divisor": 1000,
       "unit_scale": false
      },
      "application/vnd.jupyter.widget-view+json": {
       "model_id": "f9cea06f6929452cb01fc1af2558448a",
       "version_major": 2,
       "version_minor": 0
      },
      "text/plain": [
       "  0%|          | 0/2000 [00:00<?, ?it/s]"
      ]
     },
     "metadata": {},
     "output_type": "display_data"
    },
    {
     "name": "stdout",
     "output_type": "stream",
     "text": [
      "Epoch : 1, Loss : 90.52963817119598\n",
      "Epoch : 500, Loss : 38.307521373033524\n",
      "Epoch : 1000, Loss : 31.700272031128407\n",
      "Epoch : 1500, Loss : 28.465729095041752\n",
      "Epoch : 2000, Loss : 26.041690185666084\n",
      "accuracy : 0.8917,precision : 0.8919,recall : 0.8917,F1 : 0.8916\n",
      "Fold 3\n"
     ]
    },
    {
     "data": {
      "application/json": {
       "ascii": false,
       "bar_format": null,
       "colour": null,
       "elapsed": 0.009753227233886719,
       "initial": 0,
       "n": 0,
       "ncols": null,
       "nrows": null,
       "postfix": null,
       "prefix": "",
       "rate": null,
       "total": 2000,
       "unit": "it",
       "unit_divisor": 1000,
       "unit_scale": false
      },
      "application/vnd.jupyter.widget-view+json": {
       "model_id": "b3e8bc605b554e7da53c19c8d1db4cb7",
       "version_major": 2,
       "version_minor": 0
      },
      "text/plain": [
       "  0%|          | 0/2000 [00:00<?, ?it/s]"
      ]
     },
     "metadata": {},
     "output_type": "display_data"
    },
    {
     "name": "stdout",
     "output_type": "stream",
     "text": [
      "Epoch : 1, Loss : 90.506194293499\n",
      "Epoch : 500, Loss : 37.96000896394253\n",
      "Epoch : 1000, Loss : 31.821789517998695\n",
      "Epoch : 1500, Loss : 28.276838921010494\n",
      "Epoch : 2000, Loss : 26.130601972341537\n",
      "accuracy : 0.8979,precision : 0.898,recall : 0.8979,F1 : 0.8978\n",
      "Fold 4\n"
     ]
    },
    {
     "data": {
      "application/json": {
       "ascii": false,
       "bar_format": null,
       "colour": null,
       "elapsed": 0.009591817855834961,
       "initial": 0,
       "n": 0,
       "ncols": null,
       "nrows": null,
       "postfix": null,
       "prefix": "",
       "rate": null,
       "total": 2000,
       "unit": "it",
       "unit_divisor": 1000,
       "unit_scale": false
      },
      "application/vnd.jupyter.widget-view+json": {
       "model_id": "723db0a7caf14a719ec096528ee2e7a4",
       "version_major": 2,
       "version_minor": 0
      },
      "text/plain": [
       "  0%|          | 0/2000 [00:00<?, ?it/s]"
      ]
     },
     "metadata": {},
     "output_type": "display_data"
    },
    {
     "name": "stdout",
     "output_type": "stream",
     "text": [
      "Epoch : 1, Loss : 90.48050796985626\n",
      "Epoch : 500, Loss : 36.524000726640224\n",
      "Epoch : 1000, Loss : 32.28076163679361\n",
      "Epoch : 1500, Loss : 28.974934928119183\n",
      "Epoch : 2000, Loss : 27.113186724483967\n",
      "accuracy : 0.8917,precision : 0.8918,recall : 0.8917,F1 : 0.8917\n",
      "Fold 5\n"
     ]
    },
    {
     "data": {
      "application/json": {
       "ascii": false,
       "bar_format": null,
       "colour": null,
       "elapsed": 0.009604215621948242,
       "initial": 0,
       "n": 0,
       "ncols": null,
       "nrows": null,
       "postfix": null,
       "prefix": "",
       "rate": null,
       "total": 2000,
       "unit": "it",
       "unit_divisor": 1000,
       "unit_scale": false
      },
      "application/vnd.jupyter.widget-view+json": {
       "model_id": "f59fb59fdf4a4ae7820cb843abcf20ac",
       "version_major": 2,
       "version_minor": 0
      },
      "text/plain": [
       "  0%|          | 0/2000 [00:00<?, ?it/s]"
      ]
     },
     "metadata": {},
     "output_type": "display_data"
    },
    {
     "name": "stdout",
     "output_type": "stream",
     "text": [
      "Epoch : 1, Loss : 90.42303663492203\n",
      "Epoch : 500, Loss : 35.13092368841171\n",
      "Epoch : 1000, Loss : 29.049008801579475\n",
      "Epoch : 1500, Loss : 26.099124521017075\n",
      "Epoch : 2000, Loss : 24.59785531461239\n",
      "accuracy : 0.8874,precision : 0.8964,recall : 0.8874,F1 : 0.8872\n",
      "Fold 6\n"
     ]
    },
    {
     "data": {
      "application/json": {
       "ascii": false,
       "bar_format": null,
       "colour": null,
       "elapsed": 0.009556770324707031,
       "initial": 0,
       "n": 0,
       "ncols": null,
       "nrows": null,
       "postfix": null,
       "prefix": "",
       "rate": null,
       "total": 2000,
       "unit": "it",
       "unit_divisor": 1000,
       "unit_scale": false
      },
      "application/vnd.jupyter.widget-view+json": {
       "model_id": "5b6cb192ecce4a2bb5ef6b930194c40f",
       "version_major": 2,
       "version_minor": 0
      },
      "text/plain": [
       "  0%|          | 0/2000 [00:00<?, ?it/s]"
      ]
     },
     "metadata": {},
     "output_type": "display_data"
    },
    {
     "name": "stdout",
     "output_type": "stream",
     "text": [
      "Epoch : 1, Loss : 90.44131511449814\n",
      "Epoch : 500, Loss : 36.72247299551964\n",
      "Epoch : 1000, Loss : 31.56368876248598\n",
      "Epoch : 1500, Loss : 29.019728250801563\n",
      "Epoch : 2000, Loss : 27.426892831921577\n",
      "accuracy : 0.8965,precision : 0.8965,recall : 0.8965,F1 : 0.8965\n",
      "Fold 7\n"
     ]
    },
    {
     "data": {
      "application/json": {
       "ascii": false,
       "bar_format": null,
       "colour": null,
       "elapsed": 0.009715557098388672,
       "initial": 0,
       "n": 0,
       "ncols": null,
       "nrows": null,
       "postfix": null,
       "prefix": "",
       "rate": null,
       "total": 2000,
       "unit": "it",
       "unit_divisor": 1000,
       "unit_scale": false
      },
      "application/vnd.jupyter.widget-view+json": {
       "model_id": "3fdd37542c6a4b32a5bbc27f6badd25a",
       "version_major": 2,
       "version_minor": 0
      },
      "text/plain": [
       "  0%|          | 0/2000 [00:00<?, ?it/s]"
      ]
     },
     "metadata": {},
     "output_type": "display_data"
    },
    {
     "name": "stdout",
     "output_type": "stream",
     "text": [
      "Epoch : 1, Loss : 90.48644375801086\n",
      "Epoch : 500, Loss : 39.33779840171337\n",
      "Epoch : 1000, Loss : 33.3005842640996\n",
      "Epoch : 1500, Loss : 30.408394746482372\n",
      "Epoch : 2000, Loss : 27.637298084795475\n",
      "accuracy : 0.9027,precision : 0.9027,recall : 0.9027,F1 : 0.9027\n",
      "Fold 8\n"
     ]
    },
    {
     "data": {
      "application/json": {
       "ascii": false,
       "bar_format": null,
       "colour": null,
       "elapsed": 0.009591817855834961,
       "initial": 0,
       "n": 0,
       "ncols": null,
       "nrows": null,
       "postfix": null,
       "prefix": "",
       "rate": null,
       "total": 2000,
       "unit": "it",
       "unit_divisor": 1000,
       "unit_scale": false
      },
      "application/vnd.jupyter.widget-view+json": {
       "model_id": "9d062db6eb8f419bb97ae134a9123fdf",
       "version_major": 2,
       "version_minor": 0
      },
      "text/plain": [
       "  0%|          | 0/2000 [00:00<?, ?it/s]"
      ]
     },
     "metadata": {},
     "output_type": "display_data"
    },
    {
     "name": "stdout",
     "output_type": "stream",
     "text": [
      "Epoch : 1, Loss : 90.55373305082321\n",
      "Epoch : 500, Loss : 37.45484237372875\n",
      "Epoch : 1000, Loss : 31.17727553099394\n",
      "Epoch : 1500, Loss : 27.58908222615719\n",
      "Epoch : 2000, Loss : 24.873726025223732\n",
      "accuracy : 0.8893,precision : 0.8911,recall : 0.8893,F1 : 0.8895\n",
      "Fold 9\n"
     ]
    },
    {
     "data": {
      "application/json": {
       "ascii": false,
       "bar_format": null,
       "colour": null,
       "elapsed": 0.009557247161865234,
       "initial": 0,
       "n": 0,
       "ncols": null,
       "nrows": null,
       "postfix": null,
       "prefix": "",
       "rate": null,
       "total": 2000,
       "unit": "it",
       "unit_divisor": 1000,
       "unit_scale": false
      },
      "application/vnd.jupyter.widget-view+json": {
       "model_id": "5c337dffdf734da5a3d6417f605e5096",
       "version_major": 2,
       "version_minor": 0
      },
      "text/plain": [
       "  0%|          | 0/2000 [00:00<?, ?it/s]"
      ]
     },
     "metadata": {},
     "output_type": "display_data"
    },
    {
     "name": "stdout",
     "output_type": "stream",
     "text": [
      "Epoch : 1, Loss : 90.46081990003586\n",
      "Epoch : 500, Loss : 35.915291130542755\n",
      "Epoch : 1000, Loss : 30.372446104884148\n",
      "Epoch : 1500, Loss : 27.036774665117264\n",
      "Epoch : 2000, Loss : 24.859298154711723\n",
      "accuracy : 0.8965,precision : 0.8985,recall : 0.8965,F1 : 0.8961\n"
     ]
    }
   ],
   "source": [
    "comp_gfa, y_gfa = alt_read_gfa_dataset()\n",
    "types = ['atomic','pettifor','mod_pettifor','random']\n",
    "order_dict = {}\n",
    "sup_metrics_dict = {}\n",
    "for i,k in enumerate(types):\n",
    "    metrics_list = {}\n",
    "    print('Representation : {}'.format(k))\n",
    "    if k == 'atomic':\n",
    "        comp, at_order  = get_atomic_number_features(comp_gfa)\n",
    "        order_dict['atomic'] = at_order\n",
    "    elif k == 'pettifor':\n",
    "        comp, _  = get_atomic_number_features(comp_gfa, pettifor_order)\n",
    "        order_dict['pettifor'] = pettifor_order\n",
    "    elif k == 'mod_pettifor':\n",
    "        comp, _  = get_atomic_number_features(comp_gfa, modified_pettifor_order)\n",
    "        order_dict['mod_pettifor'] = modified_pettifor_order\n",
    "    elif k == 'random':\n",
    "        comp,_ = get_random_features(comp_gfa, random_order)\n",
    "        order_dict['random'] = random_order\n",
    "    X_all = comp.astype('float32')\n",
    "    y_all = np.array(y_gfa).reshape(-1,1).astype('float32')\n",
    "    for fold in range(10):\n",
    "        print('Fold {}'.format(fold))\n",
    "        i_tr=[i for i in range(len(y_all))]\n",
    "        i_te= np.random.choice(i_tr,int(len(i_tr)*0.20), replace=False)\n",
    "        #i_te=i_te[2*k::20]+i_te[1+2*k::20]\n",
    "        for i in i_te:\n",
    "            i_tr.remove(i)\n",
    "        X_train, X_test = X_all[i_tr], X_all[i_te]\n",
    "        y_train, y_test = y_all[i_tr], y_all[i_te]\n",
    "        batch = 64\n",
    "        Xy = [(X_train[i],y_train[i]) for i in range(len(y_train))]\n",
    "        train_loader = DataLoader(Xy, batch_size = batch , shuffle=True)\n",
    "        encoder1D = Encoder1D(1,1)\n",
    "        e_optimizer = optim.Adam(encoder1D.parameters(),lr = 2e-4)\n",
    "        num_iterations = 2000\n",
    "        cuda = check_cuda()\n",
    "        if cuda:\n",
    "            encoder1D = encoder1D.cuda()\n",
    "        log_interval = int(5e2)\n",
    "        for iter in tqdm.notebook.tqdm(range(num_iterations)):\n",
    "            train_loss = 0.0\n",
    "            for data in train_loader:\n",
    "                X,y = data\n",
    "                if cuda:\n",
    "                    X = X.cuda()\n",
    "                    y = y.cuda()\n",
    "                e_optimizer.zero_grad()\n",
    "                target = encoder1D(X)\n",
    "                if cuda:\n",
    "                    target = target.cuda()\n",
    "                e_error = torch.nn.BCELoss()(target,y)\n",
    "                e_error.backward(retain_graph=True)\n",
    "                e_optimizer.step()\n",
    "                train_loss += e_error.cpu().item()\n",
    "            if iter == 0 or (iter + 1) % log_interval == 0:  \n",
    "                print('Epoch : {}, Loss : {}'.format(iter+1,train_loss))\n",
    "        spec_saveloc = os.path.join(saveloc,k)\n",
    "        if not os.path.exists(spec_saveloc):\n",
    "            os.makedirs(f'{spec_saveloc}')\n",
    "        joblib.dump(encoder1D,os.path.join(spec_saveloc,'Encoder1D_{}_fold{}.pt'.format(k,fold)))\n",
    "        if X_test.dtype != torch.float32:\n",
    "            X_test = torch.from_numpy(X_test)\n",
    "        if cuda:\n",
    "            X_test =  X_test.cuda()\n",
    "        y_predict = (encoder1D(X_test)).to('cpu').detach().numpy()\n",
    "        metrics = get_metrics(y_test,np.round(y_predict))\n",
    "        metrics_list[fold] = metrics\n",
    "        print('accuracy : {},precision : {},recall : {},F1 : {}'.format(metrics[0],metrics[1],metrics[2],metrics[3]))\n",
    "    sup_metrics_dict[k] = metrics_list"
   ]
  },
  {
   "cell_type": "code",
   "execution_count": 40,
   "metadata": {},
   "outputs": [],
   "source": [
    "if os.path.exists('results/representation_stats.json'):\n",
    "    with open('results/representation_stats.json','rb') as fid:\n",
    "        data_file = json.load(fid)\n",
    "else:\n",
    "    print('File does not exist!')\n",
    "updated_file = data_file|sup_metrics_dict\n",
    "with open('results/representation_stats.json','w') as f:\n",
    "        json.dump(updated_file,f)"
   ]
  },
  {
   "cell_type": "code",
   "execution_count": 48,
   "metadata": {},
   "outputs": [
    {
     "name": "stdout",
     "output_type": "stream",
     "text": [
      "ptr \n",
      "Accuracy : 0.921+/-0.007, \n",
      "Precision : 0.922+/-0.007, \n",
      "Recall : 0.921+/-0.007, \n",
      "F1 Score : 0.921+/-0.007\n",
      "atomic \n",
      "Accuracy : 0.913+/-0.008, \n",
      "Precision : 0.914+/-0.007, \n",
      "Recall : 0.913+/-0.008, \n",
      "F1 Score : 0.912+/-0.008\n",
      "pettifor \n",
      "Accuracy : 0.904+/-0.008, \n",
      "Precision : 0.905+/-0.007, \n",
      "Recall : 0.904+/-0.008, \n",
      "F1 Score : 0.904+/-0.008\n",
      "mod_pettifor \n",
      "Accuracy : 0.906+/-0.006, \n",
      "Precision : 0.906+/-0.006, \n",
      "Recall : 0.906+/-0.006, \n",
      "F1 Score : 0.906+/-0.006\n",
      "random \n",
      "Accuracy : 0.895+/-0.005, \n",
      "Precision : 0.896+/-0.004, \n",
      "Recall : 0.895+/-0.005, \n",
      "F1 Score : 0.895+/-0.005\n"
     ]
    }
   ],
   "source": [
    "for key in updated_file.keys():\n",
    "    specific_dict = updated_file[key]\n",
    "    col_names = ['Accuracy','Precision','Recall','F1 Score']\n",
    "    stat_df = pd.DataFrame.from_dict(specific_dict,orient='index',columns=col_names)\n",
    "    mean_stats, std_stats = stat_df.values.mean(axis=0), stat_df.values.std(axis=0)\n",
    "    best_ind = np.argwhere(stat_df['F1 Score'].values == np.max(stat_df['F1 Score'])).item()\n",
    "    vals = [ufloat(np.round(mean_stats[i],3), np.round(std_stats[i],3)) for i in range(len(mean_stats))]\n",
    "    print('{} \\nAccuracy : {}, \\nPrecision : {}, \\nRecall : {}, \\nF1 Score : {}'.format(key,vals[0],vals[1],vals[2],vals[3]))"
   ]
  },
  {
   "cell_type": "code",
   "execution_count": 59,
   "metadata": {},
   "outputs": [],
   "source": [
    "import shutil\n",
    "best_model_loc = 'saved_models/best_models'\n",
    "if not os.path.exists(best_model_loc):\n",
    "    os.makedirs(f'{best_model_loc}')\n",
    "for key in sup_metrics_dict.keys():\n",
    "    col_names = ['Accuracy','Precision','Recall','F1 Score']\n",
    "    stat_df = pd.DataFrame.from_dict(sup_metrics_dict[key],orient='index',columns=col_names)\n",
    "    spec_saveloc = os.path.join(saveloc,key)\n",
    "    best_ind = np.argwhere(stat_df['F1 Score'].values == np.max(stat_df['F1 Score'])).item()\n",
    "    best_model_name = sorted(os.listdir(spec_saveloc))[best_ind]\n",
    "    shutil.copy(os.path.join(spec_saveloc,best_model_name), os.path.join(best_model_loc,'1DEncoder_{}.pt'.format(key))) "
   ]
  },
  {
   "cell_type": "code",
   "execution_count": 39,
   "metadata": {},
   "outputs": [
    {
     "name": "stderr",
     "output_type": "stream",
     "text": [
      "/tmp/ipykernel_2004676/1543868786.py:17: UserWarning: FixedFormatter should only be used together with FixedLocator\n",
      "  ax[i].set_xticklabels(data_file.keys(), rotation=45)\n",
      "/tmp/ipykernel_2004676/1543868786.py:17: UserWarning: FixedFormatter should only be used together with FixedLocator\n",
      "  ax[i].set_xticklabels(data_file.keys(), rotation=45)\n",
      "/tmp/ipykernel_2004676/1543868786.py:17: UserWarning: FixedFormatter should only be used together with FixedLocator\n",
      "  ax[i].set_xticklabels(data_file.keys(), rotation=45)\n",
      "/tmp/ipykernel_2004676/1543868786.py:17: UserWarning: FixedFormatter should only be used together with FixedLocator\n",
      "  ax[i].set_xticklabels(data_file.keys(), rotation=45)\n"
     ]
    },
    {
     "data": {
      "image/png": "[encoded data removed]",
      "text/plain": [
       "<Figure size 720x720 with 4 Axes>"
      ]
     },
     "metadata": {
      "needs_background": "light"
     },
     "output_type": "display_data"
    }
   ],
   "source": [
    "col_names = ['Accuracy','Precision','Recall','F1 Score']\n",
    "with open('results/representation_stats.json','rb') as fid:\n",
    "        data_file = json.load(fid)\n",
    "mean_list = []\n",
    "std_list = []\n",
    "for i, k in enumerate(data_file.keys()):\n",
    "        stat_arr = np.array(list(data_file[k].values()))\n",
    "        mean_list.append(stat_arr.mean(axis=0))\n",
    "        std_list.append(stat_arr.std(axis=0))\n",
    "mean_list = np.array(mean_list).T\n",
    "std_list = np.array(std_list).T\n",
    "fig, ax = plt.subplots(2,2,figsize=(10,10))\n",
    "ax = ax.ravel()\n",
    "for i, k in enumerate(col_names):\n",
    "        ax[i].bar(data_file.keys(), mean_list[i], yerr = std_list[i],align='center', alpha=0.5, ecolor='black', capsize=10)\n",
    "        ax[i].set_title('Average {}'.format(k))\n",
    "        ax[i].set_xticklabels(data_file.keys(), rotation=45)\n",
    "\n",
    "fig.suptitle('10-fold CV on GFA dataset', fontsize = 14)\n",
    "plt.tight_layout()"
   ]
  },
  {
   "cell_type": "code",
   "execution_count": null,
   "metadata": {},
   "outputs": [],
   "source": []
  }
 ],
 "metadata": {
  "kernelspec": {
   "display_name": "Python 3.10.4 ('representations': conda)",
   "language": "python",
   "name": "python3"
  },
  "language_info": {
   "codemirror_mode": {
    "name": "ipython",
    "version": 3
   },
   "file_extension": ".py",
   "mimetype": "text/x-python",
   "name": "python",
   "nbconvert_exporter": "python",
   "pygments_lexer": "ipython3",
   "version": "3.10.4"
  },
  "orig_nbformat": 4,
  "vscode": {
   "interpreter": {
    "hash": "5d6d4f329abd04bfe6379b099819ba9ed35c0bee691259b7aa14222222f8ecb9"
   }
  }
 },
 "nbformat": 4,
 "nbformat_minor": 2
}
