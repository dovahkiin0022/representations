{
 "cells": [
  {
   "cell_type": "code",
   "execution_count": 1,
   "metadata": {},
   "outputs": [],
   "source": [
    "import os\n",
    "import sys\n",
    "module_path = os.path.abspath(os.path.join('..'))\n",
    "if module_path not in sys.path:\n",
    "    sys.path.append(module_path)\n",
    "os.chdir('..')"
   ]
  },
  {
   "cell_type": "code",
   "execution_count": 2,
   "metadata": {},
   "outputs": [],
   "source": [
    "import pandas as pd\n",
    "import numpy as np\n",
    "import json\n",
    "import pickle\n",
    "import glob\n",
    "from collections import defaultdict\n",
    "import torch\n",
    "from pymatgen import core as mg\n",
    "from sklearn.model_selection import train_test_split\n",
    "from torch.utils.data import DataLoader\n",
    "import torch.optim as optim\n",
    "import tqdm\n",
    "import os\n",
    "import joblib\n",
    "import random\n",
    "from uncertainties import ufloat\n",
    "from sklearn.metrics import classification_report\n",
    "import seaborn as sns\n",
    "import matplotlib.pyplot as plt\n",
    "from modules.function import pymatgen_comp, data_generator_vec, check_cuda, get_metrics\n",
    "from modules.encoder import Encoder1D, EncoderDNN\n",
    "from modules.representation_schemes import get_vectorized_featues, get_atomic_number_features, get_pettifor_features, get_modified_pettifor_features, get_random_features, get_random_features_dense, random_order_alpha"
   ]
  },
  {
   "cell_type": "code",
   "execution_count": 3,
   "metadata": {},
   "outputs": [
    {
     "data": {
      "text/plain": [
       "<torch._C.Generator at 0x7fb849e48c50>"
      ]
     },
     "execution_count": 3,
     "metadata": {},
     "output_type": "execute_result"
    }
   ],
   "source": [
    "random.seed(0)\n",
    "torch.manual_seed(0)"
   ]
  },
  {
   "cell_type": "code",
   "execution_count": 4,
   "metadata": {},
   "outputs": [
    {
     "name": "stdout",
     "output_type": "stream",
     "text": [
      "Enabling notebook extension jupyter-js-widgets/extension...\n",
      "      - Validating: \u001b[32mOK\u001b[0m\n"
     ]
    }
   ],
   "source": [
    "!jupyter nbextension enable --py widgetsnbextension"
   ]
  },
  {
   "cell_type": "code",
   "execution_count": 5,
   "metadata": {},
   "outputs": [],
   "source": [
    "alternate_orders_file = 'dataset/alternate_orders.pkl'\n",
    "with open(alternate_orders_file,'rb') as fid:\n",
    "    alternate_order_dict = pickle.load(fid)\n",
    "pettifor_order = alternate_order_dict['pettifor']\n",
    "modified_pettifor_order = alternate_order_dict['modified_pettifor']\n",
    "random_order = random_order_alpha"
   ]
  },
  {
   "cell_type": "code",
   "execution_count": 6,
   "metadata": {},
   "outputs": [],
   "source": [
    "gfa_dataset_file = 'gfa_dataset.txt'\n",
    "z_row_column_file = 'Z_row_column.txt'\n",
    "element_property_file = 'element_property.txt'\n",
    "common_path = \"Files_from_GTDL_paper/{}\" \n",
    "gfa_dataset = pickle.load(open(common_path.format(gfa_dataset_file), 'rb'))  \n",
    "RC = pickle.load(open(common_path.format(z_row_column_file), 'rb')) \n",
    "new_index=[int(i[4]) for i in RC]#new order \n",
    "Z_row_column = pickle.load(open(common_path.format(z_row_column_file), 'rb'))\n",
    "[property_name_list,property_list,element_name,_]=pickle.load(open(common_path.format(element_property_file), 'rb'))"
   ]
  },
  {
   "cell_type": "code",
   "execution_count": 65,
   "metadata": {},
   "outputs": [],
   "source": [
    "import re\n",
    "\n",
    "to_discard = ['Rf','Db','Sg','Bh','Hs']\n",
    "\n",
    "def alt_read_gfa_dataset(dataset = gfa_dataset):\n",
    "    str_comp = []\n",
    "    Y = []\n",
    "    p = []\n",
    "    for i in  gfa_dataset:\n",
    "        \n",
    "        gfa=re.findall('\\[[a-c]?\\]',i)[0]\n",
    "        tx1_element=re.findall('[A-Z][a-z]?', i)#[B, Fe, P,No]\n",
    "        tx2_temp=re.findall('\\$_{[0-9.]+}\\$', i)#[$_{[50]}$, ] [50 30 20]\n",
    "        tx2_value=[float(re.findall('[0-9.]+', i_tx2)[0]) for i_tx2 in tx2_temp]\n",
    "        test = ''.join([x+str(y) for x,y in zip(tx1_element,tx2_value)])\n",
    "        if gfa=='[c]':\n",
    "            y= [0,0]\n",
    "        if gfa=='[b]':\n",
    "             y = [1,0]\n",
    "        if gfa == '[a]': \n",
    "            y = [1,1]\n",
    "        if len(set(tx1_element).intersection(set(to_discard))) == 0:\n",
    "            str_comp.extend([test]*2)\n",
    "            Y.extend(y)\n",
    "            p.extend([0,1])\n",
    "    return pymatgen_comp(str_comp),Y, p"
   ]
  },
  {
   "cell_type": "code",
   "execution_count": 73,
   "metadata": {},
   "outputs": [],
   "source": [
    "saveloc = 'saved_models/Encoders'\n",
    "if not os.path.exists(saveloc):\n",
    "    os.makedirs(f'{saveloc}')\n",
    "with open('misc/kfold.pkl','rb') as fid:\n",
    "    fold_dict = pickle.load(fid)\n",
    "folds = len(list(fold_dict.keys()))"
   ]
  },
  {
   "cell_type": "code",
   "execution_count": 12,
   "metadata": {},
   "outputs": [],
   "source": [
    "if os.path.exists('results/representation_stats.json'):\n",
    "    with open('results/representation_stats.json','rb') as fid:\n",
    "        data_file = json.load(fid)\n",
    "else:\n",
    "    print('File does not exist!')"
   ]
  },
  {
   "cell_type": "code",
   "execution_count": 15,
   "metadata": {},
   "outputs": [
    {
     "name": "stdout",
     "output_type": "stream",
     "text": [
      "Representation : random-tr\n",
      "Fold 0\n"
     ]
    },
    {
     "data": {
      "application/json": {
       "ascii": false,
       "bar_format": null,
       "colour": null,
       "elapsed": 0.011918067932128906,
       "initial": 0,
       "n": 0,
       "ncols": null,
       "nrows": null,
       "postfix": null,
       "prefix": "",
       "rate": null,
       "total": 2000,
       "unit": "it",
       "unit_divisor": 1000,
       "unit_scale": false
      },
      "application/vnd.jupyter.widget-view+json": {
       "model_id": "7d597526fc97477f824cf3a7c800f1ea",
       "version_major": 2,
       "version_minor": 0
      },
      "text/plain": [
       "  0%|          | 0/2000 [00:00<?, ?it/s]"
      ]
     },
     "metadata": {},
     "output_type": "display_data"
    },
    {
     "name": "stdout",
     "output_type": "stream",
     "text": [
      "Epoch : 1, Loss : 182.52744117379189\n",
      "Epoch : 500, Loss : 41.51956319063902\n",
      "Epoch : 1000, Loss : 33.382490085437894\n",
      "Epoch : 1500, Loss : 29.65093112923205\n",
      "Epoch : 2000, Loss : 27.473587019369006\n",
      "accuracy : 0.9492,precision : 0.9494,recall : 0.9492,F1 : 0.9493\n",
      "Fold 1\n"
     ]
    },
    {
     "data": {
      "application/json": {
       "ascii": false,
       "bar_format": null,
       "colour": null,
       "elapsed": 0.027957916259765625,
       "initial": 0,
       "n": 0,
       "ncols": null,
       "nrows": null,
       "postfix": null,
       "prefix": "",
       "rate": null,
       "total": 2000,
       "unit": "it",
       "unit_divisor": 1000,
       "unit_scale": false
      },
      "application/vnd.jupyter.widget-view+json": {
       "model_id": "bda1dcf4479b4718aa3a5cd5aa77c9a9",
       "version_major": 2,
       "version_minor": 0
      },
      "text/plain": [
       "  0%|          | 0/2000 [00:00<?, ?it/s]"
      ]
     },
     "metadata": {},
     "output_type": "display_data"
    },
    {
     "name": "stdout",
     "output_type": "stream",
     "text": [
      "Epoch : 1, Loss : 184.92027980089188\n",
      "Epoch : 500, Loss : 47.721889935433865\n",
      "Epoch : 1000, Loss : 37.51659085974097\n",
      "Epoch : 1500, Loss : 33.24518719129264\n",
      "Epoch : 2000, Loss : 29.042731983587146\n",
      "accuracy : 0.9502,precision : 0.9507,recall : 0.9502,F1 : 0.9504\n",
      "Fold 2\n"
     ]
    },
    {
     "data": {
      "application/json": {
       "ascii": false,
       "bar_format": null,
       "colour": null,
       "elapsed": 0.011661767959594727,
       "initial": 0,
       "n": 0,
       "ncols": null,
       "nrows": null,
       "postfix": null,
       "prefix": "",
       "rate": null,
       "total": 2000,
       "unit": "it",
       "unit_divisor": 1000,
       "unit_scale": false
      },
      "application/vnd.jupyter.widget-view+json": {
       "model_id": "b4609d22e30a494d8959dad39e98e98c",
       "version_major": 2,
       "version_minor": 0
      },
      "text/plain": [
       "  0%|          | 0/2000 [00:00<?, ?it/s]"
      ]
     },
     "metadata": {},
     "output_type": "display_data"
    },
    {
     "name": "stdout",
     "output_type": "stream",
     "text": [
      "Epoch : 1, Loss : 183.662113904953\n",
      "Epoch : 500, Loss : 41.40961882472038\n",
      "Epoch : 1000, Loss : 32.86569892056286\n",
      "Epoch : 1500, Loss : 29.12355323880911\n",
      "Epoch : 2000, Loss : 25.52769216056913\n",
      "accuracy : 0.9396,precision : 0.941,recall : 0.9396,F1 : 0.94\n",
      "Fold 3\n"
     ]
    },
    {
     "data": {
      "application/json": {
       "ascii": false,
       "bar_format": null,
       "colour": null,
       "elapsed": 0.011995792388916016,
       "initial": 0,
       "n": 0,
       "ncols": null,
       "nrows": null,
       "postfix": null,
       "prefix": "",
       "rate": null,
       "total": 2000,
       "unit": "it",
       "unit_divisor": 1000,
       "unit_scale": false
      },
      "application/vnd.jupyter.widget-view+json": {
       "model_id": "aba231d2031a4f05b12a38837a482910",
       "version_major": 2,
       "version_minor": 0
      },
      "text/plain": [
       "  0%|          | 0/2000 [00:00<?, ?it/s]"
      ]
     },
     "metadata": {},
     "output_type": "display_data"
    },
    {
     "name": "stdout",
     "output_type": "stream",
     "text": [
      "Epoch : 1, Loss : 183.796616345644\n",
      "Epoch : 500, Loss : 39.34574678167701\n",
      "Epoch : 1000, Loss : 31.524614587426186\n",
      "Epoch : 1500, Loss : 27.293838925659657\n",
      "Epoch : 2000, Loss : 24.74633719306439\n",
      "accuracy : 0.9353,precision : 0.9351,recall : 0.9353,F1 : 0.9352\n",
      "Fold 4\n"
     ]
    },
    {
     "data": {
      "application/json": {
       "ascii": false,
       "bar_format": null,
       "colour": null,
       "elapsed": 0.01191091537475586,
       "initial": 0,
       "n": 0,
       "ncols": null,
       "nrows": null,
       "postfix": null,
       "prefix": "",
       "rate": null,
       "total": 2000,
       "unit": "it",
       "unit_divisor": 1000,
       "unit_scale": false
      },
      "application/vnd.jupyter.widget-view+json": {
       "model_id": "6987b44354704cc187f814e91d5617c6",
       "version_major": 2,
       "version_minor": 0
      },
      "text/plain": [
       "  0%|          | 0/2000 [00:00<?, ?it/s]"
      ]
     },
     "metadata": {},
     "output_type": "display_data"
    },
    {
     "name": "stdout",
     "output_type": "stream",
     "text": [
      "Epoch : 1, Loss : 184.57087406516075\n",
      "Epoch : 500, Loss : 43.10221294313669\n",
      "Epoch : 1000, Loss : 35.39653139188886\n",
      "Epoch : 1500, Loss : 31.606360072270036\n",
      "Epoch : 2000, Loss : 28.884409487247467\n",
      "accuracy : 0.9353,precision : 0.9386,recall : 0.9353,F1 : 0.936\n",
      "Fold 5\n"
     ]
    },
    {
     "data": {
      "application/json": {
       "ascii": false,
       "bar_format": null,
       "colour": null,
       "elapsed": 0.01160883903503418,
       "initial": 0,
       "n": 0,
       "ncols": null,
       "nrows": null,
       "postfix": null,
       "prefix": "",
       "rate": null,
       "total": 2000,
       "unit": "it",
       "unit_divisor": 1000,
       "unit_scale": false
      },
      "application/vnd.jupyter.widget-view+json": {
       "model_id": "bd0e2d005d9044ef93a6f970a8867956",
       "version_major": 2,
       "version_minor": 0
      },
      "text/plain": [
       "  0%|          | 0/2000 [00:00<?, ?it/s]"
      ]
     },
     "metadata": {},
     "output_type": "display_data"
    },
    {
     "name": "stdout",
     "output_type": "stream",
     "text": [
      "Epoch : 1, Loss : 183.63689136505127\n",
      "Epoch : 500, Loss : 44.339297749102116\n",
      "Epoch : 1000, Loss : 35.31958330795169\n",
      "Epoch : 1500, Loss : 30.250283317640424\n",
      "Epoch : 2000, Loss : 27.03798684105277\n",
      "accuracy : 0.9468,precision : 0.9476,recall : 0.9468,F1 : 0.9471\n",
      "Fold 6\n"
     ]
    },
    {
     "data": {
      "application/json": {
       "ascii": false,
       "bar_format": null,
       "colour": null,
       "elapsed": 0.011656761169433594,
       "initial": 0,
       "n": 0,
       "ncols": null,
       "nrows": null,
       "postfix": null,
       "prefix": "",
       "rate": null,
       "total": 2000,
       "unit": "it",
       "unit_divisor": 1000,
       "unit_scale": false
      },
      "application/vnd.jupyter.widget-view+json": {
       "model_id": "655fc3c8a26549dc97369f4b17a2a159",
       "version_major": 2,
       "version_minor": 0
      },
      "text/plain": [
       "  0%|          | 0/2000 [00:00<?, ?it/s]"
      ]
     },
     "metadata": {},
     "output_type": "display_data"
    },
    {
     "name": "stdout",
     "output_type": "stream",
     "text": [
      "Epoch : 1, Loss : 182.88332623243332\n",
      "Epoch : 500, Loss : 43.50636814534664\n",
      "Epoch : 1000, Loss : 34.2111446633935\n",
      "Epoch : 1500, Loss : 28.931780733168125\n",
      "Epoch : 2000, Loss : 26.530265354551375\n",
      "accuracy : 0.9521,precision : 0.9523,recall : 0.9521,F1 : 0.9522\n",
      "Fold 7\n"
     ]
    },
    {
     "data": {
      "application/json": {
       "ascii": false,
       "bar_format": null,
       "colour": null,
       "elapsed": 0.01183319091796875,
       "initial": 0,
       "n": 0,
       "ncols": null,
       "nrows": null,
       "postfix": null,
       "prefix": "",
       "rate": null,
       "total": 2000,
       "unit": "it",
       "unit_divisor": 1000,
       "unit_scale": false
      },
      "application/vnd.jupyter.widget-view+json": {
       "model_id": "c6916395639f48048e03c12ebddea080",
       "version_major": 2,
       "version_minor": 0
      },
      "text/plain": [
       "  0%|          | 0/2000 [00:00<?, ?it/s]"
      ]
     },
     "metadata": {},
     "output_type": "display_data"
    },
    {
     "name": "stdout",
     "output_type": "stream",
     "text": [
      "Epoch : 1, Loss : 183.86585348844528\n",
      "Epoch : 500, Loss : 45.96494122222066\n",
      "Epoch : 1000, Loss : 35.37571522593498\n",
      "Epoch : 1500, Loss : 30.15657110698521\n",
      "Epoch : 2000, Loss : 27.819719141349196\n",
      "accuracy : 0.9459,precision : 0.9459,recall : 0.9459,F1 : 0.9459\n",
      "Fold 8\n"
     ]
    },
    {
     "data": {
      "application/json": {
       "ascii": false,
       "bar_format": null,
       "colour": null,
       "elapsed": 0.011871576309204102,
       "initial": 0,
       "n": 0,
       "ncols": null,
       "nrows": null,
       "postfix": null,
       "prefix": "",
       "rate": null,
       "total": 2000,
       "unit": "it",
       "unit_divisor": 1000,
       "unit_scale": false
      },
      "application/vnd.jupyter.widget-view+json": {
       "model_id": "88bbeca64e094f39abed41f49d6adfec",
       "version_major": 2,
       "version_minor": 0
      },
      "text/plain": [
       "  0%|          | 0/2000 [00:00<?, ?it/s]"
      ]
     },
     "metadata": {},
     "output_type": "display_data"
    },
    {
     "name": "stdout",
     "output_type": "stream",
     "text": [
      "Epoch : 1, Loss : 187.03645503520966\n",
      "Epoch : 500, Loss : 44.95496080443263\n",
      "Epoch : 1000, Loss : 35.982049683108926\n",
      "Epoch : 1500, Loss : 31.839947324246168\n",
      "Epoch : 2000, Loss : 29.056600335985422\n",
      "accuracy : 0.9487,precision : 0.9488,recall : 0.9487,F1 : 0.9488\n",
      "Fold 9\n"
     ]
    },
    {
     "data": {
      "application/json": {
       "ascii": false,
       "bar_format": null,
       "colour": null,
       "elapsed": 0.011812210083007812,
       "initial": 0,
       "n": 0,
       "ncols": null,
       "nrows": null,
       "postfix": null,
       "prefix": "",
       "rate": null,
       "total": 2000,
       "unit": "it",
       "unit_divisor": 1000,
       "unit_scale": false
      },
      "application/vnd.jupyter.widget-view+json": {
       "model_id": "c6d59c72386a4eb98f2bac9e88784458",
       "version_major": 2,
       "version_minor": 0
      },
      "text/plain": [
       "  0%|          | 0/2000 [00:00<?, ?it/s]"
      ]
     },
     "metadata": {},
     "output_type": "display_data"
    },
    {
     "name": "stdout",
     "output_type": "stream",
     "text": [
      "Epoch : 1, Loss : 185.27419820427895\n",
      "Epoch : 500, Loss : 43.39828921109438\n",
      "Epoch : 1000, Loss : 33.90853646211326\n",
      "Epoch : 1500, Loss : 29.607814209535718\n",
      "Epoch : 2000, Loss : 26.591716636903584\n",
      "accuracy : 0.9415,precision : 0.9412,recall : 0.9415,F1 : 0.9411\n"
     ]
    }
   ],
   "source": [
    "comp_gfa, y_gfa,p = alt_read_gfa_dataset()\n",
    "#types = ['atomic','pettifor','mod_pettifor','random','dense']\n",
    "types = ['random-tr']\n",
    "order_dict = {}\n",
    "sup_metrics_dict = {}\n",
    "y_all = np.array(y_gfa).reshape(-1,1).astype('float32')\n",
    "p_all = np.array(p).reshape(-1,1).astype('float32')\n",
    "for i,k in enumerate(types):\n",
    "    metrics_list = {}\n",
    "    print('Representation : {}'.format(k))\n",
    "    if k == 'atomic':\n",
    "        comp, at_order  = get_atomic_number_features(comp_gfa)\n",
    "        order_dict['atomic'] = at_order\n",
    "    elif k == 'pettifor':\n",
    "        comp, _  = get_pettifor_features(comp_gfa)\n",
    "        order_dict['pettifor'] = pettifor_order\n",
    "    elif k == 'mod_pettifor':\n",
    "        comp, _  = get_modified_pettifor_features(comp_gfa)\n",
    "        order_dict['mod_pettifor'] = modified_pettifor_order\n",
    "    elif k == 'random':\n",
    "        comp,_ = get_random_features(comp_gfa)\n",
    "        order_dict['random'] = random_order\n",
    "    elif k == 'random-tr':\n",
    "        comp,_ = get_random_features(comp_gfa,alpha=False)\n",
    "        order_dict['random'] = random_order\n",
    "    elif k == 'dense':\n",
    "        comp,_ = get_random_features_dense(comp_gfa, random_order)\n",
    "        order_dict['random'] = random_order\n",
    "    X_all = comp.astype('float32')\n",
    "    \n",
    "    for fold in range(folds):\n",
    "        print('Fold {}'.format(fold))\n",
    "        i_tr= fold_dict[fold]['train_inds']\n",
    "        i_te= fold_dict[fold]['test_inds']\n",
    "        X_train, X_test = X_all[i_tr], X_all[i_te]\n",
    "        y_train, y_test = y_all[i_tr], y_all[i_te]\n",
    "        p_train, p_test = p_all[i_tr], p_all[i_te]\n",
    "        batch = 64\n",
    "        Xy = [(X_train[i],y_train[i],p_train[i]) for i in range(len(y_train))]\n",
    "        train_loader = DataLoader(Xy, batch_size = batch , shuffle=True)\n",
    "        if k!= 'dense':\n",
    "            encoder1D = Encoder1D(1,1)\n",
    "        else:\n",
    "            encoder1D = EncoderDNN(X_train.shape[-1],3,42,1)\n",
    "        e_optimizer = optim.Adam(encoder1D.parameters(),lr = 2e-4)\n",
    "        num_iterations = 2000\n",
    "        cuda = check_cuda()\n",
    "        if cuda:\n",
    "            encoder1D = encoder1D.cuda()\n",
    "        log_interval = int(5e2)\n",
    "        for iter in tqdm.notebook.tqdm(range(num_iterations)):\n",
    "            train_loss = 0.0\n",
    "            for data in train_loader:\n",
    "                X,y,p = data\n",
    "                if cuda:\n",
    "                    X = X.cuda()\n",
    "                    y = y.cuda()\n",
    "                    p = p.cuda()\n",
    "                e_optimizer.zero_grad()\n",
    "                target = encoder1D(X,p)\n",
    "                if cuda:\n",
    "                    target = target.cuda()\n",
    "                e_error = torch.nn.BCELoss()(target,y)\n",
    "                e_error.backward(retain_graph=True)\n",
    "                e_optimizer.step()\n",
    "                train_loss += e_error.cpu().item()\n",
    "            if iter == 0 or (iter + 1) % log_interval == 0:  \n",
    "                print('Epoch : {}, Loss : {}'.format(iter+1,train_loss))\n",
    "        spec_saveloc = os.path.join(saveloc,k)\n",
    "        if not os.path.exists(spec_saveloc):\n",
    "            os.makedirs(f'{spec_saveloc}')\n",
    "        model_scripted = torch.jit.script(encoder1D.cpu())\n",
    "        model_scripted.save(os.path.join(spec_saveloc,'Encoder1D_{}_fold{}.pt'.format(k,fold)))\n",
    "        if X_test.dtype != torch.float32:\n",
    "            X_test = torch.from_numpy(X_test)\n",
    "        if p_test.dtype != torch.float32:\n",
    "            p_test = torch.from_numpy(p_test)\n",
    "        y_predict = (encoder1D(X_test,p_test)).to('cpu').detach().numpy()\n",
    "        metrics = get_metrics(y_test,np.round(y_predict))\n",
    "        metrics_list[fold] = metrics\n",
    "        print('accuracy : {},precision : {},recall : {},F1 : {}'.format(metrics[0],metrics[1],metrics[2],metrics[3]))\n",
    "    sup_metrics_dict[k] = metrics_list\n",
    "    updated_file = data_file|sup_metrics_dict\n",
    "    with open('results/representation_stats.json','w') as f:\n",
    "        json.dump(updated_file,f)"
   ]
  },
  {
   "cell_type": "code",
   "execution_count": 16,
   "metadata": {},
   "outputs": [
    {
     "name": "stdout",
     "output_type": "stream",
     "text": [
      "ptr \n",
      "Accuracy : 0.949+/-0.005, \n",
      "Precision : 0.950+/-0.005, \n",
      "Recall : 0.949+/-0.005, \n",
      "F1 Score : 0.949+/-0.005\n",
      "atomic \n",
      "Accuracy : 0.950+/-0.005, \n",
      "Precision : 0.951+/-0.005, \n",
      "Recall : 0.950+/-0.005, \n",
      "F1 Score : 0.950+/-0.005\n",
      "pettifor \n",
      "Accuracy : 0.945+/-0.008, \n",
      "Precision : 0.946+/-0.008, \n",
      "Recall : 0.945+/-0.008, \n",
      "F1 Score : 0.945+/-0.008\n",
      "mod_pettifor \n",
      "Accuracy : 0.947+/-0.006, \n",
      "Precision : 0.948+/-0.006, \n",
      "Recall : 0.947+/-0.006, \n",
      "F1 Score : 0.948+/-0.006\n",
      "random \n",
      "Accuracy : 0.940+/-0.007, \n",
      "Precision : 0.941+/-0.007, \n",
      "Recall : 0.940+/-0.007, \n",
      "F1 Score : 0.940+/-0.007\n",
      "dense \n",
      "Accuracy : 0.947+/-0.006, \n",
      "Precision : 0.948+/-0.006, \n",
      "Recall : 0.947+/-0.006, \n",
      "F1 Score : 0.947+/-0.006\n",
      "random-tr \n",
      "Accuracy : 0.944+/-0.006, \n",
      "Precision : 0.945+/-0.005, \n",
      "Recall : 0.944+/-0.006, \n",
      "F1 Score : 0.945+/-0.006\n"
     ]
    }
   ],
   "source": [
    "for key in updated_file.keys():\n",
    "    specific_dict = updated_file[key]\n",
    "    col_names = ['Accuracy','Precision','Recall','F1 Score']\n",
    "    stat_df = pd.DataFrame.from_dict(specific_dict,orient='index',columns=col_names)\n",
    "    mean_stats, std_stats = stat_df.values.mean(axis=0), stat_df.values.std(axis=0)\n",
    "    best_ind = np.argwhere(stat_df['F1 Score'].values == np.max(stat_df['F1 Score'])).item()\n",
    "    vals = [ufloat(np.round(mean_stats[i],3), np.round(std_stats[i],3)) for i in range(len(mean_stats))]\n",
    "    print('{} \\nAccuracy : {}, \\nPrecision : {}, \\nRecall : {}, \\nF1 Score : {}'.format(key,vals[0],vals[1],vals[2],vals[3]))"
   ]
  },
  {
   "cell_type": "code",
   "execution_count": 24,
   "metadata": {},
   "outputs": [],
   "source": [
    "with open('results/representation_stats.json','r') as f:\n",
    "        sup_metrics_dict = json.load(f)"
   ]
  },
  {
   "cell_type": "code",
   "execution_count": 43,
   "metadata": {},
   "outputs": [],
   "source": [
    "import shutil\n",
    "saveloc = 'saved_models/Encoders'\n",
    "best_model_loc = 'saved_models/best_models'\n",
    "if not os.path.exists(best_model_loc):\n",
    "    os.makedirs(f'{best_model_loc}')\n",
    "for key in list(sup_metrics_dict.keys()):\n",
    "    if key != 'ptr':\n",
    "        col_names = ['Accuracy','Precision','Recall','F1 Score']\n",
    "        stat_df = pd.DataFrame.from_dict(sup_metrics_dict[key],orient='index',columns=col_names)\n",
    "        spec_saveloc = os.path.join(saveloc,key)\n",
    "        best_ind = np.argwhere(stat_df['F1 Score'].values == np.max(stat_df['F1 Score'])).item()\n",
    "        best_model_name = sorted(os.listdir(spec_saveloc))[best_ind]\n",
    "        shutil.copy(os.path.join(spec_saveloc,best_model_name), os.path.join(best_model_loc,'1DEncoder_{}.pt'.format(key))) "
   ]
  },
  {
   "cell_type": "code",
   "execution_count": 26,
   "metadata": {},
   "outputs": [
    {
     "name": "stderr",
     "output_type": "stream",
     "text": [
      "/tmp/ipykernel_1661622/2445820254.py:19: UserWarning: FixedFormatter should only be used together with FixedLocator\n",
      "  ax[i].set_xticklabels(names, rotation=45)\n",
      "/tmp/ipykernel_1661622/2445820254.py:19: UserWarning: FixedFormatter should only be used together with FixedLocator\n",
      "  ax[i].set_xticklabels(names, rotation=45)\n",
      "/tmp/ipykernel_1661622/2445820254.py:19: UserWarning: FixedFormatter should only be used together with FixedLocator\n",
      "  ax[i].set_xticklabels(names, rotation=45)\n",
      "/tmp/ipykernel_1661622/2445820254.py:19: UserWarning: FixedFormatter should only be used together with FixedLocator\n",
      "  ax[i].set_xticklabels(names, rotation=45)\n"
     ]
    },
    {
     "data": {
      "image/png": "[encoded data removed]",
      "text/plain": [
       "<Figure size 720x720 with 4 Axes>"
      ]
     },
     "metadata": {
      "needs_background": "light"
     },
     "output_type": "display_data"
    }
   ],
   "source": [
    "col_names = ['Accuracy','Precision','Recall','F1 Score']\n",
    "methods = ['dense','atomic','random','random-tr','pettifor','mod_pettifor','ptr']\n",
    "names = ['DNN','CNN1-atom','CNN1-alph','CNN1-rand','CNN1-pet','CNN1-modpet','CNN2-PTR']\n",
    "with open('results/representation_stats.json','rb') as fid:\n",
    "        data_file = json.load(fid)\n",
    "mean_list = []\n",
    "std_list = []\n",
    "for i, k in enumerate(methods):\n",
    "        stat_arr = np.array(list(data_file[k].values()))\n",
    "        mean_list.append(stat_arr.mean(axis=0))\n",
    "        std_list.append(stat_arr.std(axis=0))\n",
    "mean_list = np.array(mean_list).T\n",
    "std_list = np.array(std_list).T\n",
    "fig, ax = plt.subplots(2,2,figsize=(10,10))\n",
    "ax = ax.ravel()\n",
    "for i, k in enumerate(col_names):\n",
    "        ax[i].bar(methods, mean_list[i], yerr = std_list[i],align='center', alpha=0.5, ecolor='black', capsize=10)\n",
    "        ax[i].set_title('Average {}'.format(k))\n",
    "        ax[i].set_xticklabels(names, rotation=45)\n",
    "\n",
    "fig.suptitle('10-fold CV on GFA dataset', fontsize = 14)\n",
    "plt.tight_layout()"
   ]
  },
  {
   "cell_type": "markdown",
   "metadata": {},
   "source": [
    "## Statistical significance"
   ]
  },
  {
   "cell_type": "code",
   "execution_count": 67,
   "metadata": {},
   "outputs": [],
   "source": [
    "from modules.function import PTR \n",
    "def get_1D_features_gfa(k:str):\n",
    "    comp_gfa, y, p = alt_read_gfa_dataset()\n",
    "    y = np.array(y).reshape(-1,1).astype('float32')\n",
    "    p = np.array(p).reshape(-1,1).astype('float32')\n",
    "    if k not in ['atomic','pettifor','mod_pettifor','random','random-tr']:\n",
    "        print('Unsupported format')\n",
    "        return None, None, None\n",
    "    else:\n",
    "        if k == 'atomic':\n",
    "            comp, at_order  = get_atomic_number_features(comp_gfa)\n",
    "        elif k == 'pettifor':\n",
    "            comp, _  = get_pettifor_features(comp_gfa)\n",
    "        elif k == 'mod_pettifor':\n",
    "            comp, _  = get_modified_pettifor_features(comp_gfa)\n",
    "        elif k == 'random':\n",
    "            comp,_ = get_random_features(comp_gfa)\n",
    "        elif k == 'random-tr':\n",
    "            comp,_ = get_random_features(comp_gfa,alpha = False)\n",
    "        return comp, y, p\n",
    "\n",
    "def get_dense_features_gfa():\n",
    "    comp_gfa, y, p = alt_read_gfa_dataset()\n",
    "    y = np.array(y).reshape(-1,1).astype('float32')\n",
    "    p = np.array(p).reshape(-1,1).astype('float32') \n",
    "    comp,_ = get_random_features_dense(comp_gfa, random_order)\n",
    "    return comp, y, p\n",
    "\n",
    "def get_ptr_features_gfa(gfa_dataset=gfa_dataset):\n",
    "\n",
    "    gfa_i=[]\n",
    "    gfa_a=[]\n",
    "    gfa_b=[]\n",
    "    gfa_c=[]\n",
    "    to_discard = ['Rf','Db','Sg','Bh','Hs']\n",
    "    for i in  gfa_dataset:\n",
    "        tx_gfa=re.findall('\\[[a-c]?\\]', i)\n",
    "        tx1_element=re.findall('[A-Z][a-z]?', i)#[B, Fe, P,No]\n",
    "        if len(set(tx1_element).intersection(set(to_discard))) == 0:      \n",
    "            gfa_i.extend(tx_gfa)\n",
    "            if tx_gfa[0]=='[a]':\n",
    "                gfa_a.append(gfa_dataset.index(i))\n",
    "            elif tx_gfa[0]=='[b]':\n",
    "                gfa_b.append(gfa_dataset.index(i)) \n",
    "            else:\n",
    "                gfa_c.append(gfa_dataset.index(i))\n",
    "        \n",
    "    gfa_data_form=[]\n",
    "    gfa_data_form_p = []\n",
    "    gfa_data_form_b=[]\n",
    "\n",
    "#------------------------------------------------------------------------------\n",
    "#map raw data to 2-D image using PTR\n",
    "    for i in gfa_a:\n",
    "        x,p,y = PTR(gfa_dataset[i])\n",
    "        gfa_data_form=gfa_data_form+x\n",
    "        gfa_data_form_p = gfa_data_form_p+p\n",
    "        gfa_data_form_b=gfa_data_form_b+y\n",
    "    for i in gfa_c:\n",
    "        x,p,y = PTR(gfa_dataset[i])\n",
    "        gfa_data_form=gfa_data_form+x\n",
    "        gfa_data_form_p = gfa_data_form_p+p\n",
    "        gfa_data_form_b=gfa_data_form_b+y \n",
    "    for i in gfa_b:\n",
    "        x,p,y = PTR(gfa_dataset[i])\n",
    "        gfa_data_form=gfa_data_form+x\n",
    "        gfa_data_form_p = gfa_data_form_p+p\n",
    "        gfa_data_form_b=gfa_data_form_b+y\n",
    "\n",
    "    X_all = np.array(gfa_data_form).reshape(-1, 1,9, 18).astype('float32') \n",
    "    y_all = np.array(gfa_data_form_b).reshape(-1,1).astype('float32')\n",
    "    p_all = np.array(gfa_data_form_p).reshape(-1,1).astype('float32')\n",
    "    return X_all, y_all, p_all"
   ]
  },
  {
   "cell_type": "code",
   "execution_count": 166,
   "metadata": {},
   "outputs": [],
   "source": [
    "import glob\n",
    "from sklearn.metrics import mean_squared_error\n",
    "best_model_loc= 'saved_models/Encoders'\n",
    "best_models = glob.glob(f'{best_model_loc}/*')\n",
    "prediction_dict = {}\n",
    "for bm  in best_models:\n",
    "    model_type = bm.split('/')[-1]\n",
    "    fold_models = glob.glob(f'{bm}/*')\n",
    "    if model_type in ['pettifor','atomic','random','mod_pettifor','random-tr']:\n",
    "        comp_gfa, y, p  = get_1D_features_gfa(model_type)\n",
    "    elif model_type == 'PTR':\n",
    "        comp_gfa, y, p  = get_ptr_features_gfa()\n",
    "    elif model_type == 'dense':\n",
    "        comp_gfa, y, p  = get_dense_features_gfa()\n",
    "    comp_gfa = torch.from_numpy(comp_gfa)\n",
    "    p = torch.from_numpy(p)\n",
    "    model_predictions = {}\n",
    "    for i,fm in enumerate(fold_models):\n",
    "        yes =[]\n",
    "        model = torch.jit.load(fm)\n",
    "        with torch.no_grad():\n",
    "            model_predict = model(comp_gfa,p)\n",
    "        for j, pred in enumerate(model_predict):\n",
    "            if torch.round(pred).item() == y[j].item():\n",
    "                yes.append(1)\n",
    "            else:\n",
    "                yes.append(0)\n",
    "        model_predictions[i] = yes\n",
    "    prediction_dict[model_type] = model_predictions\n",
    "    #print(model_type,mean_squared_error(model_predict,y))"
   ]
  },
  {
   "cell_type": "code",
   "execution_count": 188,
   "metadata": {},
   "outputs": [
    {
     "name": "stdout",
     "output_type": "stream",
     "text": [
      "[[1.00000000e+00 3.77299728e-01 2.51947455e-15 4.46916523e-01\n",
      "  1.21539277e-09 1.63082946e-01 5.91058959e-02]\n",
      " [1.00000000e+00 1.00000000e+00 1.34809710e-11 7.18918273e-01\n",
      "  3.48725950e-04 5.16954935e-02 6.28059859e-01]\n",
      " [1.00000000e+00 1.00000000e+00 1.00000000e+00 2.60068952e-17\n",
      "  1.14611986e-42 5.07800380e-13 6.83337323e-24]\n",
      " [1.00000000e+00 1.00000000e+00 1.00000000e+00 1.00000000e+00\n",
      "  1.24496550e-08 2.48366119e-02 1.95181298e-01]\n",
      " [1.00000000e+00 1.00000000e+00 1.00000000e+00 1.00000000e+00\n",
      "  1.00000000e+00 1.62561243e-15 4.91525891e-06]\n",
      " [1.00000000e+00 1.00000000e+00 1.00000000e+00 1.00000000e+00\n",
      "  1.00000000e+00 1.00000000e+00 1.65458922e-04]\n",
      " [1.00000000e+00 1.00000000e+00 1.00000000e+00 1.00000000e+00\n",
      "  1.00000000e+00 1.00000000e+00 1.00000000e+00]]\n",
      "[[1.00000000e+00 4.51481654e-04 4.46548526e-05 9.05812052e-04\n",
      "  5.07056627e-08 5.18717809e-03 8.25301396e-02]\n",
      " [1.00000000e+00 1.00000000e+00 2.25692379e-10 1.28905994e-01\n",
      "  6.13179559e-01 1.49122486e-01 3.04087544e-06]\n",
      " [1.00000000e+00 1.00000000e+00 1.00000000e+00 1.46042588e-11\n",
      "  6.24447562e-21 1.62062937e-12 1.46338746e-02]\n",
      " [1.00000000e+00 1.00000000e+00 1.00000000e+00 1.00000000e+00\n",
      "  6.06731418e-03 9.43739059e-01 2.15848528e-06]\n",
      " [1.00000000e+00 1.00000000e+00 1.00000000e+00 1.00000000e+00\n",
      "  1.00000000e+00 4.28808557e-03 3.31895106e-14]\n",
      " [1.00000000e+00 1.00000000e+00 1.00000000e+00 1.00000000e+00\n",
      "  1.00000000e+00 1.00000000e+00 2.30721622e-06]\n",
      " [1.00000000e+00 1.00000000e+00 1.00000000e+00 1.00000000e+00\n",
      "  1.00000000e+00 1.00000000e+00 1.00000000e+00]]\n",
      "[[1.00000000e+00 8.88495705e-06 2.62767098e-18 2.12212591e-04\n",
      "  1.48873855e-04 1.82802311e-02 3.51301823e-01]\n",
      " [1.00000000e+00 1.00000000e+00 6.38694881e-02 1.56129760e-12\n",
      "  2.57120627e-13 5.86261317e-03 1.40511771e-04]\n",
      " [1.00000000e+00 1.00000000e+00 1.00000000e+00 1.04808806e-38\n",
      "  1.24096705e-38 4.58313902e-11 7.03462907e-17]\n",
      " [1.00000000e+00 1.00000000e+00 1.00000000e+00 1.00000000e+00\n",
      "  7.94489733e-01 6.80563151e-10 4.53638726e-07]\n",
      " [1.00000000e+00 1.00000000e+00 1.00000000e+00 1.00000000e+00\n",
      "  1.00000000e+00 7.30380524e-11 6.68467881e-07]\n",
      " [1.00000000e+00 1.00000000e+00 1.00000000e+00 1.00000000e+00\n",
      "  1.00000000e+00 1.00000000e+00 1.24381084e-01]\n",
      " [1.00000000e+00 1.00000000e+00 1.00000000e+00 1.00000000e+00\n",
      "  1.00000000e+00 1.00000000e+00 1.00000000e+00]]\n",
      "[[1.00000000e+00 6.22380566e-11 1.49543429e-27 9.75816073e-02\n",
      "  8.63607541e-03 1.22298005e-05 2.15659367e-02]\n",
      " [1.00000000e+00 1.00000000e+00 1.23138396e-01 3.99624061e-08\n",
      "  2.64756596e-06 5.58824755e-04 2.67869084e-07]\n",
      " [1.00000000e+00 1.00000000e+00 1.00000000e+00 1.53787564e-23\n",
      "  2.35056161e-17 8.98122462e-13 4.01526062e-19]\n",
      " [1.00000000e+00 1.00000000e+00 1.00000000e+00 1.00000000e+00\n",
      "  2.37918456e-01 3.06110765e-03 6.08036718e-01]\n",
      " [1.00000000e+00 1.00000000e+00 1.00000000e+00 1.00000000e+00\n",
      "  1.00000000e+00 7.17637680e-02 5.65997977e-01]\n",
      " [1.00000000e+00 1.00000000e+00 1.00000000e+00 1.00000000e+00\n",
      "  1.00000000e+00 1.00000000e+00 2.00458653e-02]\n",
      " [1.00000000e+00 1.00000000e+00 1.00000000e+00 1.00000000e+00\n",
      "  1.00000000e+00 1.00000000e+00 1.00000000e+00]]\n",
      "[[1.00000000e+00 9.89269283e-02 2.32652957e-21 3.88615610e-11\n",
      "  3.00599027e-05 3.01753462e-02 1.35586552e-02]\n",
      " [1.00000000e+00 1.00000000e+00 6.15220935e-07 1.01653714e-09\n",
      "  7.45741970e-06 8.93851470e-01 9.36638739e-01]\n",
      " [1.00000000e+00 1.00000000e+00 1.00000000e+00 5.55930709e-43\n",
      "  7.89095210e-34 4.03210673e-12 1.57225806e-12]\n",
      " [1.00000000e+00 1.00000000e+00 1.00000000e+00 1.00000000e+00\n",
      "  3.18393159e-02 3.31913684e-15 7.48753954e-19]\n",
      " [1.00000000e+00 1.00000000e+00 1.00000000e+00 1.00000000e+00\n",
      "  1.00000000e+00 3.35891800e-09 6.11640102e-10]\n",
      " [1.00000000e+00 1.00000000e+00 1.00000000e+00 1.00000000e+00\n",
      "  1.00000000e+00 1.00000000e+00 9.67494155e-01]\n",
      " [1.00000000e+00 1.00000000e+00 1.00000000e+00 1.00000000e+00\n",
      "  1.00000000e+00 1.00000000e+00 1.00000000e+00]]\n",
      "[[1.00000000e+00 9.79618328e-01 4.33385128e-25 1.81111079e-02\n",
      "  8.15787309e-07 1.22327372e-03 3.79878899e-01]\n",
      " [1.00000000e+00 1.00000000e+00 1.26390215e-13 1.51292996e-01\n",
      "  5.35862791e-04 1.93684290e-02 5.93293435e-01]\n",
      " [1.00000000e+00 1.00000000e+00 1.00000000e+00 3.47433871e-37\n",
      "  2.30707577e-46 1.62062937e-12 1.34891783e-26]\n",
      " [1.00000000e+00 1.00000000e+00 1.00000000e+00 1.00000000e+00\n",
      "  4.71061703e-03 2.99108079e-08 1.89590695e-01]\n",
      " [1.00000000e+00 1.00000000e+00 1.00000000e+00 1.00000000e+00\n",
      "  1.00000000e+00 6.47083803e-16 5.46352555e-06]\n",
      " [1.00000000e+00 1.00000000e+00 1.00000000e+00 1.00000000e+00\n",
      "  1.00000000e+00 1.00000000e+00 3.14442815e-05]\n",
      " [1.00000000e+00 1.00000000e+00 1.00000000e+00 1.00000000e+00\n",
      "  1.00000000e+00 1.00000000e+00 1.00000000e+00]]\n",
      "[[1.00000000e+00 4.99790586e-03 1.08857751e-06 5.80261639e-01\n",
      "  4.96846001e-19 3.68838537e-07 1.53789111e-11]\n",
      " [1.00000000e+00 1.00000000e+00 2.39857517e-01 1.13604625e-03\n",
      "  1.68207726e-23 5.05819899e-01 1.06983968e-01]\n",
      " [1.00000000e+00 1.00000000e+00 1.00000000e+00 4.30174999e-11\n",
      "  2.40074784e-52 5.54207728e-01 5.72422806e-01]\n",
      " [1.00000000e+00 1.00000000e+00 1.00000000e+00 1.00000000e+00\n",
      "  1.94406034e-23 4.84544059e-07 2.65292619e-12]\n",
      " [1.00000000e+00 1.00000000e+00 1.00000000e+00 1.00000000e+00\n",
      "  1.00000000e+00 1.55672641e-42 4.75687948e-54]\n",
      " [1.00000000e+00 1.00000000e+00 1.00000000e+00 1.00000000e+00\n",
      "  1.00000000e+00 1.00000000e+00 1.70554900e-01]\n",
      " [1.00000000e+00 1.00000000e+00 1.00000000e+00 1.00000000e+00\n",
      "  1.00000000e+00 1.00000000e+00 1.00000000e+00]]\n",
      "[[1.00000000e+00 5.34355241e-01 7.51570428e-06 1.66913490e-07\n",
      "  1.71953655e-02 5.42913824e-04 1.98753536e-01]\n",
      " [1.00000000e+00 1.00000000e+00 2.34170143e-04 2.71087421e-03\n",
      "  3.00348414e-01 8.58197090e-02 8.50438195e-01]\n",
      " [1.00000000e+00 1.00000000e+00 1.00000000e+00 6.33087879e-23\n",
      "  1.35533486e-10 1.17332511e-13 3.83520298e-08]\n",
      " [1.00000000e+00 1.00000000e+00 1.00000000e+00 1.00000000e+00\n",
      "  9.79299071e-03 7.42765754e-02 6.48069932e-05]\n",
      " [1.00000000e+00 1.00000000e+00 1.00000000e+00 1.00000000e+00\n",
      "  1.00000000e+00 3.79732291e-01 2.40627472e-01]\n",
      " [1.00000000e+00 1.00000000e+00 1.00000000e+00 1.00000000e+00\n",
      "  1.00000000e+00 1.00000000e+00 3.83510899e-02]\n",
      " [1.00000000e+00 1.00000000e+00 1.00000000e+00 1.00000000e+00\n",
      "  1.00000000e+00 1.00000000e+00 1.00000000e+00]]\n",
      "[[1.00000000e+00 3.63149810e-02 1.05724578e-15 9.51980968e-02\n",
      "  1.00000000e+00 9.66440437e-03 6.35717209e-07]\n",
      " [1.00000000e+00 1.00000000e+00 1.21449237e-03 2.69536448e-01\n",
      "  3.95844727e-02 7.89499492e-01 2.55266133e-01]\n",
      " [1.00000000e+00 1.00000000e+00 1.00000000e+00 2.21382808e-11\n",
      "  1.11255688e-12 6.57278941e-07 2.36563531e-03]\n",
      " [1.00000000e+00 1.00000000e+00 1.00000000e+00 1.00000000e+00\n",
      "  2.01647221e-01 2.39952583e-01 4.16871142e-04]\n",
      " [1.00000000e+00 1.00000000e+00 1.00000000e+00 1.00000000e+00\n",
      "  1.00000000e+00 1.63567844e-02 2.86620951e-06]\n",
      " [1.00000000e+00 1.00000000e+00 1.00000000e+00 1.00000000e+00\n",
      "  1.00000000e+00 1.00000000e+00 3.72574832e-02]\n",
      " [1.00000000e+00 1.00000000e+00 1.00000000e+00 1.00000000e+00\n",
      "  1.00000000e+00 1.00000000e+00 1.00000000e+00]]\n",
      "[[1.00000000e+00 1.68178090e-05 5.05644268e-07 1.33206501e-01\n",
      "  1.18015134e-10 1.11472958e-02 8.02108427e-01]\n",
      " [1.00000000e+00 1.00000000e+00 4.03296350e-01 1.72729937e-07\n",
      "  6.89701875e-18 9.52127132e-10 4.03957157e-05]\n",
      " [1.00000000e+00 1.00000000e+00 1.00000000e+00 1.30286798e-10\n",
      "  2.09914580e-28 5.24938124e-12 2.39356821e-06]\n",
      " [1.00000000e+00 1.00000000e+00 1.00000000e+00 1.00000000e+00\n",
      "  2.20470140e-06 2.24786724e-01 9.21033518e-02]\n",
      " [1.00000000e+00 1.00000000e+00 1.00000000e+00 1.00000000e+00\n",
      "  1.00000000e+00 6.67041850e-04 1.36928386e-10]\n",
      " [1.00000000e+00 1.00000000e+00 1.00000000e+00 1.00000000e+00\n",
      "  1.00000000e+00 1.00000000e+00 6.16263526e-03]\n",
      " [1.00000000e+00 1.00000000e+00 1.00000000e+00 1.00000000e+00\n",
      "  1.00000000e+00 1.00000000e+00 1.00000000e+00]]\n"
     ]
    }
   ],
   "source": [
    "from itertools import combinations\n",
    "from statsmodels.stats.contingency_tables import mcnemar\n",
    "compare_keys = list(combinations(methods,2))\n",
    "zero_sup = np.ones((len(methods),len(methods)))\n",
    "for j in range(10):\n",
    "    zero = np.ones((len(methods),len(methods)))\n",
    "    for key in compare_keys:\n",
    "        contengency = np.zeros((2,2))\n",
    "        a,b = key\n",
    "        cl_met1 = prediction_dict[a][j]\n",
    "        cl_met2 = prediction_dict[b][j]\n",
    "        ind1 = np.argwhere(np.array(methods)==a)\n",
    "        ind2 = np.argwhere(np.array(methods)==b)\n",
    "        for i in range(len(cl_met1)):\n",
    "            if cl_met1[i] == cl_met2[i]== 1:\n",
    "                contengency[0,0] +=1\n",
    "            elif (cl_met1[i] == 1)*(cl_met2[i] == 0):\n",
    "                contengency[0,1] += 1\n",
    "            elif (cl_met1[i] == 0)*(cl_met2[i] == 1):\n",
    "                contengency[1,0] += 1\n",
    "            elif cl_met1[i] == cl_met2[i]== 0:\n",
    "                contengency[1,1] += 1\n",
    "        result = mcnemar(contengency, exact=True)\n",
    "        alpha = 0.05\n",
    "        zero[ind1,ind2] = result.pvalue\n",
    "    print(zero)\n",
    "    zero_sup += zero"
   ]
  },
  {
   "cell_type": "code",
   "execution_count": 193,
   "metadata": {},
   "outputs": [
    {
     "data": {
      "text/plain": [
       "<matplotlib.image.AxesImage at 0x7fb80004e380>"
      ]
     },
     "execution_count": 193,
     "metadata": {},
     "output_type": "execute_result"
    },
    {
     "data": {
      "image/png": "[encoded data removed]",
      "text/plain": [
       "<Figure size 432x288 with 1 Axes>"
      ]
     },
     "metadata": {
      "needs_background": "light"
     },
     "output_type": "display_data"
    }
   ],
   "source": [
    "plt.imshow(zero_sup/11, vmin = 0, vmax = 0.1, cmap = 'RdBu')\n"
   ]
  }
 ],
 "metadata": {
  "kernelspec": {
   "display_name": "Python 3.10.4 ('representations': conda)",
   "language": "python",
   "name": "python3"
  },
  "language_info": {
   "codemirror_mode": {
    "name": "ipython",
    "version": 3
   },
   "file_extension": ".py",
   "mimetype": "text/x-python",
   "name": "python",
   "nbconvert_exporter": "python",
   "pygments_lexer": "ipython3",
   "version": "3.10.4"
  },
  "orig_nbformat": 4,
  "vscode": {
   "interpreter": {
    "hash": "5d6d4f329abd04bfe6379b099819ba9ed35c0bee691259b7aa14222222f8ecb9"
   }
  }
 },
 "nbformat": 4,
 "nbformat_minor": 2
}
