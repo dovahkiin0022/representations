{
 "cells": [
  {
   "cell_type": "code",
   "execution_count": 1,
   "metadata": {},
   "outputs": [],
   "source": [
    "import os\n",
    "import sys\n",
    "module_path = os.path.abspath(os.path.join('..'))\n",
    "if module_path not in sys.path:\n",
    "    sys.path.append(module_path)\n",
    "os.chdir('..')"
   ]
  },
  {
   "cell_type": "code",
   "execution_count": 2,
   "metadata": {},
   "outputs": [],
   "source": [
    "import pandas as pd\n",
    "import numpy as np\n",
    "import json\n",
    "import pickle\n",
    "import glob\n",
    "from collections import defaultdict\n",
    "import torch\n",
    "from pymatgen import core as mg\n",
    "from sklearn.model_selection import train_test_split\n",
    "from torch.utils.data import DataLoader\n",
    "import torch.optim as optim\n",
    "import tqdm\n",
    "import os\n",
    "import joblib\n",
    "import random\n",
    "from uncertainties import ufloat\n",
    "from sklearn.metrics import classification_report\n",
    "import seaborn as sns\n",
    "import matplotlib.pyplot as plt\n",
    "from modules.function import pymatgen_comp, data_generator_vec, check_cuda, get_metrics\n",
    "from modules.encoder import Encoder1D, EncoderDNN\n",
    "from modules.representation_schemes import get_vectorized_featues, get_atomic_number_features, get_pettifor_features, get_modified_pettifor_features, get_random_features, get_random_features_dense, random_order"
   ]
  },
  {
   "cell_type": "code",
   "execution_count": 3,
   "metadata": {},
   "outputs": [
    {
     "data": {
      "text/plain": [
       "<torch._C.Generator at 0x7f4f46e5cc50>"
      ]
     },
     "execution_count": 3,
     "metadata": {},
     "output_type": "execute_result"
    }
   ],
   "source": [
    "random.seed(0)\n",
    "torch.manual_seed(0)"
   ]
  },
  {
   "cell_type": "code",
   "execution_count": 4,
   "metadata": {},
   "outputs": [
    {
     "name": "stdout",
     "output_type": "stream",
     "text": [
      "Enabling notebook extension jupyter-js-widgets/extension...\n",
      "      - Validating: \u001b[32mOK\u001b[0m\n"
     ]
    }
   ],
   "source": [
    "!jupyter nbextension enable --py widgetsnbextension"
   ]
  },
  {
   "cell_type": "code",
   "execution_count": 5,
   "metadata": {},
   "outputs": [],
   "source": [
    "alternate_orders_file = 'dataset/alternate_orders.pkl'\n",
    "with open(alternate_orders_file,'rb') as fid:\n",
    "    alternate_order_dict = pickle.load(fid)\n",
    "pettifor_order = alternate_order_dict['pettifor']\n",
    "modified_pettifor_order = alternate_order_dict['modified_pettifor']\n",
    "random_order = random_order"
   ]
  },
  {
   "cell_type": "code",
   "execution_count": 6,
   "metadata": {},
   "outputs": [],
   "source": [
    "gfa_dataset_file = 'gfa_dataset.txt'\n",
    "z_row_column_file = 'Z_row_column.txt'\n",
    "element_property_file = 'element_property.txt'\n",
    "common_path = \"Files_from_GTDL_paper/{}\" \n",
    "gfa_dataset = pickle.load(open(common_path.format(gfa_dataset_file), 'rb'))  \n",
    "RC = pickle.load(open(common_path.format(z_row_column_file), 'rb')) \n",
    "new_index=[int(i[4]) for i in RC]#new order \n",
    "Z_row_column = pickle.load(open(common_path.format(z_row_column_file), 'rb'))\n",
    "[property_name_list,property_list,element_name,_]=pickle.load(open(common_path.format(element_property_file), 'rb'))"
   ]
  },
  {
   "cell_type": "code",
   "execution_count": 7,
   "metadata": {},
   "outputs": [],
   "source": [
    "import re\n",
    "\n",
    "to_discard = ['Rf','Db','Sg','Bh','Hs']\n",
    "\n",
    "def alt_read_gfa_dataset(dataset = gfa_dataset):\n",
    "    str_comp = []\n",
    "    Y = []\n",
    "    p = []\n",
    "    for i in  gfa_dataset:\n",
    "        \n",
    "        gfa=re.findall('\\[[a-c]?\\]',i)[0]\n",
    "        tx1_element=re.findall('[A-Z][a-z]?', i)#[B, Fe, P,No]\n",
    "        tx2_temp=re.findall('\\$_{[0-9.]+}\\$', i)#[$_{[50]}$, ] [50 30 20]\n",
    "        tx2_value=[float(re.findall('[0-9.]+', i_tx2)[0]) for i_tx2 in tx2_temp]\n",
    "        test = ''.join([x+str(y) for x,y in zip(tx1_element,tx2_value)])\n",
    "        if gfa=='[c]':\n",
    "            y= [0,0]\n",
    "        if gfa=='[b]':\n",
    "             y = [1,0]\n",
    "        if gfa == '[a]': \n",
    "            y = [1,1]\n",
    "        if len(set(tx1_element).intersection(set(to_discard))) == 0:\n",
    "            str_comp.extend([test]*2)\n",
    "            Y.extend(y)\n",
    "            p.extend([0,1])\n",
    "    return pymatgen_comp(str_comp),Y, p"
   ]
  },
  {
   "cell_type": "code",
   "execution_count": 8,
   "metadata": {},
   "outputs": [],
   "source": [
    "saveloc = 'saved_models/Encoders'\n",
    "if not os.path.exists(saveloc):\n",
    "    os.makedirs(f'{saveloc}')\n",
    "with open('misc/kfold.pkl','rb') as fid:\n",
    "    fold_dict = pickle.load(fid)\n",
    "folds = len(list(fold_dict.keys()))"
   ]
  },
  {
   "cell_type": "code",
   "execution_count": 8,
   "metadata": {},
   "outputs": [],
   "source": [
    "if os.path.exists('results/representation_stats.json'):\n",
    "    with open('results/representation_stats.json','rb') as fid:\n",
    "        data_file = json.load(fid)\n",
    "else:\n",
    "    print('File does not exist!')"
   ]
  },
  {
   "cell_type": "code",
   "execution_count": 13,
   "metadata": {},
   "outputs": [
    {
     "name": "stdout",
     "output_type": "stream",
     "text": [
      "Representation : mod_pettifor\n",
      "Fold 0\n"
     ]
    },
    {
     "data": {
      "application/json": {
       "ascii": false,
       "bar_format": null,
       "colour": null,
       "elapsed": 0.018114328384399414,
       "initial": 0,
       "n": 0,
       "ncols": null,
       "nrows": null,
       "postfix": null,
       "prefix": "",
       "rate": null,
       "total": 2000,
       "unit": "it",
       "unit_divisor": 1000,
       "unit_scale": false
      },
      "application/vnd.jupyter.widget-view+json": {
       "model_id": "4410fb4746a14ff7bbe2825c2b3eb471",
       "version_major": 2,
       "version_minor": 0
      },
      "text/plain": [
       "  0%|          | 0/2000 [00:00<?, ?it/s]"
      ]
     },
     "metadata": {},
     "output_type": "display_data"
    },
    {
     "name": "stdout",
     "output_type": "stream",
     "text": [
      "Epoch : 1, Loss : 183.997124761343\n",
      "Epoch : 500, Loss : 44.31302625872195\n",
      "Epoch : 1000, Loss : 36.618306782096624\n",
      "Epoch : 1500, Loss : 32.23338754661381\n",
      "Epoch : 2000, Loss : 28.992148185148835\n",
      "accuracy : 0.9492,precision : 0.949,recall : 0.9492,F1 : 0.9489\n",
      "Fold 1\n"
     ]
    },
    {
     "data": {
      "application/json": {
       "ascii": false,
       "bar_format": null,
       "colour": null,
       "elapsed": 0.010676145553588867,
       "initial": 0,
       "n": 0,
       "ncols": null,
       "nrows": null,
       "postfix": null,
       "prefix": "",
       "rate": null,
       "total": 2000,
       "unit": "it",
       "unit_divisor": 1000,
       "unit_scale": false
      },
      "application/vnd.jupyter.widget-view+json": {
       "model_id": "a4eb402f239a4add8da5e74944499dc8",
       "version_major": 2,
       "version_minor": 0
      },
      "text/plain": [
       "  0%|          | 0/2000 [00:00<?, ?it/s]"
      ]
     },
     "metadata": {},
     "output_type": "display_data"
    },
    {
     "name": "stdout",
     "output_type": "stream",
     "text": [
      "Epoch : 1, Loss : 182.73948046565056\n",
      "Epoch : 500, Loss : 45.13342610374093\n",
      "Epoch : 1000, Loss : 37.79682997055352\n",
      "Epoch : 1500, Loss : 32.988039871677756\n",
      "Epoch : 2000, Loss : 30.34194364771247\n",
      "accuracy : 0.9545,precision : 0.9556,recall : 0.9545,F1 : 0.9548\n",
      "Fold 2\n"
     ]
    },
    {
     "data": {
      "application/json": {
       "ascii": false,
       "bar_format": null,
       "colour": null,
       "elapsed": 0.010355710983276367,
       "initial": 0,
       "n": 0,
       "ncols": null,
       "nrows": null,
       "postfix": null,
       "prefix": "",
       "rate": null,
       "total": 2000,
       "unit": "it",
       "unit_divisor": 1000,
       "unit_scale": false
      },
      "application/vnd.jupyter.widget-view+json": {
       "model_id": "d8c53c7d728d4d22adef5f3d74c6b5e6",
       "version_major": 2,
       "version_minor": 0
      },
      "text/plain": [
       "  0%|          | 0/2000 [00:00<?, ?it/s]"
      ]
     },
     "metadata": {},
     "output_type": "display_data"
    },
    {
     "name": "stdout",
     "output_type": "stream",
     "text": [
      "Epoch : 1, Loss : 182.24989676475525\n",
      "Epoch : 500, Loss : 40.285660937428474\n",
      "Epoch : 1000, Loss : 34.21734282374382\n",
      "Epoch : 1500, Loss : 30.39402286708355\n",
      "Epoch : 2000, Loss : 27.638978770002723\n",
      "accuracy : 0.9444,precision : 0.9441,recall : 0.9444,F1 : 0.9442\n",
      "Fold 3\n"
     ]
    },
    {
     "data": {
      "application/json": {
       "ascii": false,
       "bar_format": null,
       "colour": null,
       "elapsed": 0.010384559631347656,
       "initial": 0,
       "n": 0,
       "ncols": null,
       "nrows": null,
       "postfix": null,
       "prefix": "",
       "rate": null,
       "total": 2000,
       "unit": "it",
       "unit_divisor": 1000,
       "unit_scale": false
      },
      "application/vnd.jupyter.widget-view+json": {
       "model_id": "a29dd6c9a7cf4bfc94baa856981b8b64",
       "version_major": 2,
       "version_minor": 0
      },
      "text/plain": [
       "  0%|          | 0/2000 [00:00<?, ?it/s]"
      ]
     },
     "metadata": {},
     "output_type": "display_data"
    },
    {
     "name": "stdout",
     "output_type": "stream",
     "text": [
      "Epoch : 1, Loss : 185.25969171524048\n",
      "Epoch : 500, Loss : 46.32013286277652\n",
      "Epoch : 1000, Loss : 37.688307674601674\n",
      "Epoch : 1500, Loss : 32.88511062040925\n",
      "Epoch : 2000, Loss : 29.633148286491632\n",
      "accuracy : 0.9348,precision : 0.9354,recall : 0.9348,F1 : 0.9351\n",
      "Fold 4\n"
     ]
    },
    {
     "data": {
      "application/json": {
       "ascii": false,
       "bar_format": null,
       "colour": null,
       "elapsed": 0.010293960571289062,
       "initial": 0,
       "n": 0,
       "ncols": null,
       "nrows": null,
       "postfix": null,
       "prefix": "",
       "rate": null,
       "total": 2000,
       "unit": "it",
       "unit_divisor": 1000,
       "unit_scale": false
      },
      "application/vnd.jupyter.widget-view+json": {
       "model_id": "0fd05f251f1447f8ad78c767a2d165a9",
       "version_major": 2,
       "version_minor": 0
      },
      "text/plain": [
       "  0%|          | 0/2000 [00:00<?, ?it/s]"
      ]
     },
     "metadata": {},
     "output_type": "display_data"
    },
    {
     "name": "stdout",
     "output_type": "stream",
     "text": [
      "Epoch : 1, Loss : 183.39516219496727\n",
      "Epoch : 500, Loss : 46.1575542986393\n",
      "Epoch : 1000, Loss : 37.88871372118592\n",
      "Epoch : 1500, Loss : 33.246695471927524\n",
      "Epoch : 2000, Loss : 31.205438947305083\n",
      "accuracy : 0.9463,precision : 0.948,recall : 0.9463,F1 : 0.9468\n",
      "Fold 5\n"
     ]
    },
    {
     "data": {
      "application/json": {
       "ascii": false,
       "bar_format": null,
       "colour": null,
       "elapsed": 0.010763406753540039,
       "initial": 0,
       "n": 0,
       "ncols": null,
       "nrows": null,
       "postfix": null,
       "prefix": "",
       "rate": null,
       "total": 2000,
       "unit": "it",
       "unit_divisor": 1000,
       "unit_scale": false
      },
      "application/vnd.jupyter.widget-view+json": {
       "model_id": "783bb9910cc2466997de5018b0cd5bca",
       "version_major": 2,
       "version_minor": 0
      },
      "text/plain": [
       "  0%|          | 0/2000 [00:00<?, ?it/s]"
      ]
     },
     "metadata": {},
     "output_type": "display_data"
    },
    {
     "name": "stdout",
     "output_type": "stream",
     "text": [
      "Epoch : 1, Loss : 183.31727200746536\n",
      "Epoch : 500, Loss : 43.39103328809142\n",
      "Epoch : 1000, Loss : 37.65545208379626\n",
      "Epoch : 1500, Loss : 33.64896718598902\n",
      "Epoch : 2000, Loss : 31.07921956293285\n",
      "accuracy : 0.9459,precision : 0.947,recall : 0.9459,F1 : 0.9462\n",
      "Fold 6\n"
     ]
    },
    {
     "data": {
      "application/json": {
       "ascii": false,
       "bar_format": null,
       "colour": null,
       "elapsed": 0.010343313217163086,
       "initial": 0,
       "n": 0,
       "ncols": null,
       "nrows": null,
       "postfix": null,
       "prefix": "",
       "rate": null,
       "total": 2000,
       "unit": "it",
       "unit_divisor": 1000,
       "unit_scale": false
      },
      "application/vnd.jupyter.widget-view+json": {
       "model_id": "83379c934f1c425ba0aff7f190c6fe80",
       "version_major": 2,
       "version_minor": 0
      },
      "text/plain": [
       "  0%|          | 0/2000 [00:00<?, ?it/s]"
      ]
     },
     "metadata": {},
     "output_type": "display_data"
    },
    {
     "name": "stdout",
     "output_type": "stream",
     "text": [
      "Epoch : 1, Loss : 184.21085187792778\n",
      "Epoch : 500, Loss : 42.24876484274864\n",
      "Epoch : 1000, Loss : 35.485686376690865\n",
      "Epoch : 1500, Loss : 32.48426077887416\n",
      "Epoch : 2000, Loss : 29.64475983195007\n",
      "accuracy : 0.9506,precision : 0.9512,recall : 0.9506,F1 : 0.9508\n",
      "Fold 7\n"
     ]
    },
    {
     "data": {
      "application/json": {
       "ascii": false,
       "bar_format": null,
       "colour": null,
       "elapsed": 0.01024627685546875,
       "initial": 0,
       "n": 0,
       "ncols": null,
       "nrows": null,
       "postfix": null,
       "prefix": "",
       "rate": null,
       "total": 2000,
       "unit": "it",
       "unit_divisor": 1000,
       "unit_scale": false
      },
      "application/vnd.jupyter.widget-view+json": {
       "model_id": "3aa489d85dcf46f4a77ea8614a8cda5a",
       "version_major": 2,
       "version_minor": 0
      },
      "text/plain": [
       "  0%|          | 0/2000 [00:00<?, ?it/s]"
      ]
     },
     "metadata": {},
     "output_type": "display_data"
    },
    {
     "name": "stdout",
     "output_type": "stream",
     "text": [
      "Epoch : 1, Loss : 183.05093491077423\n",
      "Epoch : 500, Loss : 42.773121766746044\n",
      "Epoch : 1000, Loss : 35.045041639357805\n",
      "Epoch : 1500, Loss : 31.32963703200221\n",
      "Epoch : 2000, Loss : 28.319055393338203\n",
      "accuracy : 0.9535,precision : 0.9538,recall : 0.9535,F1 : 0.9536\n",
      "Fold 8\n"
     ]
    },
    {
     "data": {
      "application/json": {
       "ascii": false,
       "bar_format": null,
       "colour": null,
       "elapsed": 0.00975799560546875,
       "initial": 0,
       "n": 0,
       "ncols": null,
       "nrows": null,
       "postfix": null,
       "prefix": "",
       "rate": null,
       "total": 2000,
       "unit": "it",
       "unit_divisor": 1000,
       "unit_scale": false
      },
      "application/vnd.jupyter.widget-view+json": {
       "model_id": "2f3eb1431fe3401d8670fa66d7fa19c3",
       "version_major": 2,
       "version_minor": 0
      },
      "text/plain": [
       "  0%|          | 0/2000 [00:00<?, ?it/s]"
      ]
     },
     "metadata": {},
     "output_type": "display_data"
    },
    {
     "name": "stdout",
     "output_type": "stream",
     "text": [
      "Epoch : 1, Loss : 182.7276603281498\n",
      "Epoch : 500, Loss : 45.81472922861576\n",
      "Epoch : 1000, Loss : 37.547107733786106\n",
      "Epoch : 1500, Loss : 33.20359028875828\n",
      "Epoch : 2000, Loss : 30.414381997659802\n",
      "accuracy : 0.955,precision : 0.9549,recall : 0.955,F1 : 0.9549\n",
      "Fold 9\n"
     ]
    },
    {
     "data": {
      "application/json": {
       "ascii": false,
       "bar_format": null,
       "colour": null,
       "elapsed": 0.010669469833374023,
       "initial": 0,
       "n": 0,
       "ncols": null,
       "nrows": null,
       "postfix": null,
       "prefix": "",
       "rate": null,
       "total": 2000,
       "unit": "it",
       "unit_divisor": 1000,
       "unit_scale": false
      },
      "application/vnd.jupyter.widget-view+json": {
       "model_id": "489978fce97e4f1abae7c47d5ad717b9",
       "version_major": 2,
       "version_minor": 0
      },
      "text/plain": [
       "  0%|          | 0/2000 [00:00<?, ?it/s]"
      ]
     },
     "metadata": {},
     "output_type": "display_data"
    },
    {
     "name": "stdout",
     "output_type": "stream",
     "text": [
      "Epoch : 1, Loss : 183.60839349031448\n",
      "Epoch : 500, Loss : 47.19789568707347\n",
      "Epoch : 1000, Loss : 37.835707772523165\n",
      "Epoch : 1500, Loss : 32.85191204957664\n",
      "Epoch : 2000, Loss : 30.25437216833234\n",
      "accuracy : 0.9406,precision : 0.9402,recall : 0.9406,F1 : 0.9401\n",
      "Representation : random\n",
      "Fold 0\n"
     ]
    },
    {
     "data": {
      "application/json": {
       "ascii": false,
       "bar_format": null,
       "colour": null,
       "elapsed": 0.009747028350830078,
       "initial": 0,
       "n": 0,
       "ncols": null,
       "nrows": null,
       "postfix": null,
       "prefix": "",
       "rate": null,
       "total": 2000,
       "unit": "it",
       "unit_divisor": 1000,
       "unit_scale": false
      },
      "application/vnd.jupyter.widget-view+json": {
       "model_id": "b3477ac196bd428986c95522c7b75ea1",
       "version_major": 2,
       "version_minor": 0
      },
      "text/plain": [
       "  0%|          | 0/2000 [00:00<?, ?it/s]"
      ]
     },
     "metadata": {},
     "output_type": "display_data"
    },
    {
     "name": "stdout",
     "output_type": "stream",
     "text": [
      "Epoch : 1, Loss : 186.8295509815216\n",
      "Epoch : 500, Loss : 50.9417607486248\n",
      "Epoch : 1000, Loss : 41.35565663874149\n",
      "Epoch : 1500, Loss : 35.58691807463765\n",
      "Epoch : 2000, Loss : 32.333315034396946\n",
      "accuracy : 0.9415,precision : 0.9433,recall : 0.9415,F1 : 0.942\n",
      "Fold 1\n"
     ]
    },
    {
     "data": {
      "application/json": {
       "ascii": false,
       "bar_format": null,
       "colour": null,
       "elapsed": 0.01042938232421875,
       "initial": 0,
       "n": 0,
       "ncols": null,
       "nrows": null,
       "postfix": null,
       "prefix": "",
       "rate": null,
       "total": 2000,
       "unit": "it",
       "unit_divisor": 1000,
       "unit_scale": false
      },
      "application/vnd.jupyter.widget-view+json": {
       "model_id": "4d1d92d3273541519661b9f0bf97258c",
       "version_major": 2,
       "version_minor": 0
      },
      "text/plain": [
       "  0%|          | 0/2000 [00:00<?, ?it/s]"
      ]
     },
     "metadata": {},
     "output_type": "display_data"
    },
    {
     "name": "stdout",
     "output_type": "stream",
     "text": [
      "Epoch : 1, Loss : 186.0861073434353\n",
      "Epoch : 500, Loss : 54.23141510784626\n",
      "Epoch : 1000, Loss : 44.33808686584234\n",
      "Epoch : 1500, Loss : 39.56832420825958\n",
      "Epoch : 2000, Loss : 34.8561887871474\n",
      "accuracy : 0.9396,precision : 0.9397,recall : 0.9396,F1 : 0.9388\n",
      "Fold 2\n"
     ]
    },
    {
     "data": {
      "application/json": {
       "ascii": false,
       "bar_format": null,
       "colour": null,
       "elapsed": 0.010427236557006836,
       "initial": 0,
       "n": 0,
       "ncols": null,
       "nrows": null,
       "postfix": null,
       "prefix": "",
       "rate": null,
       "total": 2000,
       "unit": "it",
       "unit_divisor": 1000,
       "unit_scale": false
      },
      "application/vnd.jupyter.widget-view+json": {
       "model_id": "3d3e070980f544bea8827eac91633399",
       "version_major": 2,
       "version_minor": 0
      },
      "text/plain": [
       "  0%|          | 0/2000 [00:00<?, ?it/s]"
      ]
     },
     "metadata": {},
     "output_type": "display_data"
    },
    {
     "name": "stdout",
     "output_type": "stream",
     "text": [
      "Epoch : 1, Loss : 186.94245201349258\n",
      "Epoch : 500, Loss : 51.797152638435364\n",
      "Epoch : 1000, Loss : 41.455628883093596\n",
      "Epoch : 1500, Loss : 36.43550281226635\n",
      "Epoch : 2000, Loss : 32.980134127661586\n",
      "accuracy : 0.9363,precision : 0.9359,recall : 0.9363,F1 : 0.9358\n",
      "Fold 3\n"
     ]
    },
    {
     "data": {
      "application/json": {
       "ascii": false,
       "bar_format": null,
       "colour": null,
       "elapsed": 0.010402679443359375,
       "initial": 0,
       "n": 0,
       "ncols": null,
       "nrows": null,
       "postfix": null,
       "prefix": "",
       "rate": null,
       "total": 2000,
       "unit": "it",
       "unit_divisor": 1000,
       "unit_scale": false
      },
      "application/vnd.jupyter.widget-view+json": {
       "model_id": "34fd40039a2241378dbc8f4e731cd274",
       "version_major": 2,
       "version_minor": 0
      },
      "text/plain": [
       "  0%|          | 0/2000 [00:00<?, ?it/s]"
      ]
     },
     "metadata": {},
     "output_type": "display_data"
    },
    {
     "name": "stdout",
     "output_type": "stream",
     "text": [
      "Epoch : 1, Loss : 185.37481009960175\n",
      "Epoch : 500, Loss : 46.444133039563894\n",
      "Epoch : 1000, Loss : 36.84095998480916\n",
      "Epoch : 1500, Loss : 32.51575689949095\n",
      "Epoch : 2000, Loss : 28.17102501541376\n",
      "accuracy : 0.9291,precision : 0.9286,recall : 0.9291,F1 : 0.9287\n",
      "Fold 4\n"
     ]
    },
    {
     "data": {
      "application/json": {
       "ascii": false,
       "bar_format": null,
       "colour": null,
       "elapsed": 0.010436534881591797,
       "initial": 0,
       "n": 0,
       "ncols": null,
       "nrows": null,
       "postfix": null,
       "prefix": "",
       "rate": null,
       "total": 2000,
       "unit": "it",
       "unit_divisor": 1000,
       "unit_scale": false
      },
      "application/vnd.jupyter.widget-view+json": {
       "model_id": "a3e680da320a43da9524795f99a3afdc",
       "version_major": 2,
       "version_minor": 0
      },
      "text/plain": [
       "  0%|          | 0/2000 [00:00<?, ?it/s]"
      ]
     },
     "metadata": {},
     "output_type": "display_data"
    },
    {
     "name": "stdout",
     "output_type": "stream",
     "text": [
      "Epoch : 1, Loss : 186.53930753469467\n",
      "Epoch : 500, Loss : 54.1713310778141\n",
      "Epoch : 1000, Loss : 44.37210022471845\n",
      "Epoch : 1500, Loss : 38.686462465673685\n",
      "Epoch : 2000, Loss : 33.71928973682225\n",
      "accuracy : 0.9368,precision : 0.9368,recall : 0.9368,F1 : 0.9368\n",
      "Fold 5\n"
     ]
    },
    {
     "data": {
      "application/json": {
       "ascii": false,
       "bar_format": null,
       "colour": null,
       "elapsed": 0.010644674301147461,
       "initial": 0,
       "n": 0,
       "ncols": null,
       "nrows": null,
       "postfix": null,
       "prefix": "",
       "rate": null,
       "total": 2000,
       "unit": "it",
       "unit_divisor": 1000,
       "unit_scale": false
      },
      "application/vnd.jupyter.widget-view+json": {
       "model_id": "72f694720d77462ebf062fc44232dce7",
       "version_major": 2,
       "version_minor": 0
      },
      "text/plain": [
       "  0%|          | 0/2000 [00:00<?, ?it/s]"
      ]
     },
     "metadata": {},
     "output_type": "display_data"
    },
    {
     "name": "stdout",
     "output_type": "stream",
     "text": [
      "Epoch : 1, Loss : 185.12012314796448\n",
      "Epoch : 500, Loss : 48.07252990081906\n",
      "Epoch : 1000, Loss : 39.14392378553748\n",
      "Epoch : 1500, Loss : 33.231565453112125\n",
      "Epoch : 2000, Loss : 30.57665092870593\n",
      "accuracy : 0.9363,precision : 0.9364,recall : 0.9363,F1 : 0.9354\n",
      "Fold 6\n"
     ]
    },
    {
     "data": {
      "application/json": {
       "ascii": false,
       "bar_format": null,
       "colour": null,
       "elapsed": 0.010425329208374023,
       "initial": 0,
       "n": 0,
       "ncols": null,
       "nrows": null,
       "postfix": null,
       "prefix": "",
       "rate": null,
       "total": 2000,
       "unit": "it",
       "unit_divisor": 1000,
       "unit_scale": false
      },
      "application/vnd.jupyter.widget-view+json": {
       "model_id": "6aa021f063ad4d7a8a5cc09cd87dd245",
       "version_major": 2,
       "version_minor": 0
      },
      "text/plain": [
       "  0%|          | 0/2000 [00:00<?, ?it/s]"
      ]
     },
     "metadata": {},
     "output_type": "display_data"
    },
    {
     "name": "stdout",
     "output_type": "stream",
     "text": [
      "Epoch : 1, Loss : 184.37504637241364\n",
      "Epoch : 500, Loss : 50.309423703700304\n",
      "Epoch : 1000, Loss : 39.5692647062242\n",
      "Epoch : 1500, Loss : 34.71749028377235\n",
      "Epoch : 2000, Loss : 30.805623000487685\n",
      "accuracy : 0.9502,precision : 0.95,recall : 0.9502,F1 : 0.9499\n",
      "Fold 7\n"
     ]
    },
    {
     "data": {
      "application/json": {
       "ascii": false,
       "bar_format": null,
       "colour": null,
       "elapsed": 0.010333538055419922,
       "initial": 0,
       "n": 0,
       "ncols": null,
       "nrows": null,
       "postfix": null,
       "prefix": "",
       "rate": null,
       "total": 2000,
       "unit": "it",
       "unit_divisor": 1000,
       "unit_scale": false
      },
      "application/vnd.jupyter.widget-view+json": {
       "model_id": "059af5af7c6b4b4e88fc78c19400a065",
       "version_major": 2,
       "version_minor": 0
      },
      "text/plain": [
       "  0%|          | 0/2000 [00:00<?, ?it/s]"
      ]
     },
     "metadata": {},
     "output_type": "display_data"
    },
    {
     "name": "stdout",
     "output_type": "stream",
     "text": [
      "Epoch : 1, Loss : 186.1537243127823\n",
      "Epoch : 500, Loss : 50.9988139718771\n",
      "Epoch : 1000, Loss : 41.05166869610548\n",
      "Epoch : 1500, Loss : 35.60792816616595\n",
      "Epoch : 2000, Loss : 32.296660240739584\n",
      "accuracy : 0.9521,precision : 0.9519,recall : 0.9521,F1 : 0.9518\n",
      "Fold 8\n"
     ]
    },
    {
     "data": {
      "application/json": {
       "ascii": false,
       "bar_format": null,
       "colour": null,
       "elapsed": 0.010560035705566406,
       "initial": 0,
       "n": 0,
       "ncols": null,
       "nrows": null,
       "postfix": null,
       "prefix": "",
       "rate": null,
       "total": 2000,
       "unit": "it",
       "unit_divisor": 1000,
       "unit_scale": false
      },
      "application/vnd.jupyter.widget-view+json": {
       "model_id": "3e225a6fa6e844259ba90e5efd0ed756",
       "version_major": 2,
       "version_minor": 0
      },
      "text/plain": [
       "  0%|          | 0/2000 [00:00<?, ?it/s]"
      ]
     },
     "metadata": {},
     "output_type": "display_data"
    },
    {
     "name": "stdout",
     "output_type": "stream",
     "text": [
      "Epoch : 1, Loss : 185.7648901939392\n",
      "Epoch : 500, Loss : 53.82452192157507\n",
      "Epoch : 1000, Loss : 44.096055671572685\n",
      "Epoch : 1500, Loss : 38.827472327277064\n",
      "Epoch : 2000, Loss : 35.080506179481745\n",
      "accuracy : 0.9454,precision : 0.9457,recall : 0.9454,F1 : 0.9455\n",
      "Fold 9\n"
     ]
    },
    {
     "data": {
      "application/json": {
       "ascii": false,
       "bar_format": null,
       "colour": null,
       "elapsed": 0.01033639907836914,
       "initial": 0,
       "n": 0,
       "ncols": null,
       "nrows": null,
       "postfix": null,
       "prefix": "",
       "rate": null,
       "total": 2000,
       "unit": "it",
       "unit_divisor": 1000,
       "unit_scale": false
      },
      "application/vnd.jupyter.widget-view+json": {
       "model_id": "348c2ce1be5b430a9218a434d03062d4",
       "version_major": 2,
       "version_minor": 0
      },
      "text/plain": [
       "  0%|          | 0/2000 [00:00<?, ?it/s]"
      ]
     },
     "metadata": {},
     "output_type": "display_data"
    },
    {
     "name": "stdout",
     "output_type": "stream",
     "text": [
      "Epoch : 1, Loss : 184.47714626789093\n",
      "Epoch : 500, Loss : 52.68816854804754\n",
      "Epoch : 1000, Loss : 42.93741064891219\n",
      "Epoch : 1500, Loss : 37.21925011277199\n",
      "Epoch : 2000, Loss : 34.23794085904956\n",
      "accuracy : 0.9334,precision : 0.9368,recall : 0.9334,F1 : 0.9342\n"
     ]
    }
   ],
   "source": [
    "comp_gfa, y_gfa,p = alt_read_gfa_dataset()\n",
    "#types = ['atomic','pettifor','mod_pettifor','random','dense']\n",
    "types = ['mod_pettifor','random']\n",
    "order_dict = {}\n",
    "sup_metrics_dict = {}\n",
    "y_all = np.array(y_gfa).reshape(-1,1).astype('float32')\n",
    "p_all = np.array(p).reshape(-1,1).astype('float32')\n",
    "for i,k in enumerate(types):\n",
    "    metrics_list = {}\n",
    "    print('Representation : {}'.format(k))\n",
    "    if k == 'atomic':\n",
    "        comp, at_order  = get_atomic_number_features(comp_gfa)\n",
    "        order_dict['atomic'] = at_order\n",
    "    elif k == 'pettifor':\n",
    "        comp, _  = get_pettifor_features(comp_gfa)\n",
    "        order_dict['pettifor'] = pettifor_order\n",
    "    elif k == 'mod_pettifor':\n",
    "        comp, _  = get_modified_pettifor_features(comp_gfa)\n",
    "        order_dict['mod_pettifor'] = modified_pettifor_order\n",
    "    elif k == 'random':\n",
    "        comp,_ = get_random_features(comp_gfa, random_order)\n",
    "        order_dict['random'] = random_order\n",
    "    elif k == 'dense':\n",
    "        comp,_ = get_random_features_dense(comp_gfa, random_order)\n",
    "        order_dict['random'] = random_order\n",
    "    X_all = comp.astype('float32')\n",
    "    \n",
    "    for fold in range(folds):\n",
    "        print('Fold {}'.format(fold))\n",
    "        i_tr= fold_dict[fold]['train_inds']\n",
    "        i_te= fold_dict[fold]['test_inds']\n",
    "        X_train, X_test = X_all[i_tr], X_all[i_te]\n",
    "        y_train, y_test = y_all[i_tr], y_all[i_te]\n",
    "        p_train, p_test = p_all[i_tr], p_all[i_te]\n",
    "        batch = 64\n",
    "        Xy = [(X_train[i],y_train[i],p_train[i]) for i in range(len(y_train))]\n",
    "        train_loader = DataLoader(Xy, batch_size = batch , shuffle=True)\n",
    "        if k!= 'dense':\n",
    "            encoder1D = Encoder1D(1,1)\n",
    "        else:\n",
    "            encoder1D = EncoderDNN(X_train.shape[-1],3,42,1)\n",
    "        e_optimizer = optim.Adam(encoder1D.parameters(),lr = 2e-4)\n",
    "        num_iterations = 2000\n",
    "        cuda = check_cuda()\n",
    "        if cuda:\n",
    "            encoder1D = encoder1D.cuda()\n",
    "        log_interval = int(5e2)\n",
    "        for iter in tqdm.notebook.tqdm(range(num_iterations)):\n",
    "            train_loss = 0.0\n",
    "            for data in train_loader:\n",
    "                X,y,p = data\n",
    "                if cuda:\n",
    "                    X = X.cuda()\n",
    "                    y = y.cuda()\n",
    "                    p = p.cuda()\n",
    "                e_optimizer.zero_grad()\n",
    "                target = encoder1D(X,p)\n",
    "                if cuda:\n",
    "                    target = target.cuda()\n",
    "                e_error = torch.nn.BCELoss()(target,y)\n",
    "                e_error.backward(retain_graph=True)\n",
    "                e_optimizer.step()\n",
    "                train_loss += e_error.cpu().item()\n",
    "            if iter == 0 or (iter + 1) % log_interval == 0:  \n",
    "                print('Epoch : {}, Loss : {}'.format(iter+1,train_loss))\n",
    "        spec_saveloc = os.path.join(saveloc,k)\n",
    "        if not os.path.exists(spec_saveloc):\n",
    "            os.makedirs(f'{spec_saveloc}')\n",
    "        model_scripted = torch.jit.script(encoder1D.cpu())\n",
    "        model_scripted.save(os.path.join(spec_saveloc,'Encoder1D_{}_fold{}.pt'.format(k,fold)))\n",
    "        if X_test.dtype != torch.float32:\n",
    "            X_test = torch.from_numpy(X_test)\n",
    "        if p_test.dtype != torch.float32:\n",
    "            p_test = torch.from_numpy(p_test)\n",
    "        if cuda:\n",
    "            X_test =  X_test.cuda()\n",
    "            p_test = p_test.cuda()\n",
    "        y_predict = (encoder1D(X_test,p_test)).to('cpu').detach().numpy()\n",
    "        metrics = get_metrics(y_test,np.round(y_predict))\n",
    "        metrics_list[fold] = metrics\n",
    "        print('accuracy : {},precision : {},recall : {},F1 : {}'.format(metrics[0],metrics[1],metrics[2],metrics[3]))\n",
    "    sup_metrics_dict[k] = metrics_list\n",
    "    updated_file = data_file|sup_metrics_dict\n",
    "    with open('results/representation_stats.json','w') as f:\n",
    "        json.dump(updated_file,f)"
   ]
  },
  {
   "cell_type": "code",
   "execution_count": 14,
   "metadata": {},
   "outputs": [
    {
     "name": "stdout",
     "output_type": "stream",
     "text": [
      "ptr \n",
      "Accuracy : 0.949+/-0.005, \n",
      "Precision : 0.950+/-0.005, \n",
      "Recall : 0.949+/-0.005, \n",
      "F1 Score : 0.949+/-0.005\n",
      "atomic \n",
      "Accuracy : 0.950+/-0.005, \n",
      "Precision : 0.951+/-0.005, \n",
      "Recall : 0.950+/-0.005, \n",
      "F1 Score : 0.950+/-0.005\n",
      "pettifor \n",
      "Accuracy : 0.945+/-0.008, \n",
      "Precision : 0.946+/-0.008, \n",
      "Recall : 0.945+/-0.008, \n",
      "F1 Score : 0.945+/-0.008\n",
      "mod_pettifor \n",
      "Accuracy : 0.947+/-0.006, \n",
      "Precision : 0.948+/-0.006, \n",
      "Recall : 0.947+/-0.006, \n",
      "F1 Score : 0.948+/-0.006\n",
      "random \n",
      "Accuracy : 0.940+/-0.007, \n",
      "Precision : 0.941+/-0.007, \n",
      "Recall : 0.940+/-0.007, \n",
      "F1 Score : 0.940+/-0.007\n",
      "dense \n",
      "Accuracy : 0.947+/-0.006, \n",
      "Precision : 0.948+/-0.006, \n",
      "Recall : 0.947+/-0.006, \n",
      "F1 Score : 0.947+/-0.006\n"
     ]
    }
   ],
   "source": [
    "for key in updated_file.keys():\n",
    "    specific_dict = updated_file[key]\n",
    "    col_names = ['Accuracy','Precision','Recall','F1 Score']\n",
    "    stat_df = pd.DataFrame.from_dict(specific_dict,orient='index',columns=col_names)\n",
    "    mean_stats, std_stats = stat_df.values.mean(axis=0), stat_df.values.std(axis=0)\n",
    "    best_ind = np.argwhere(stat_df['F1 Score'].values == np.max(stat_df['F1 Score'])).item()\n",
    "    vals = [ufloat(np.round(mean_stats[i],3), np.round(std_stats[i],3)) for i in range(len(mean_stats))]\n",
    "    print('{} \\nAccuracy : {}, \\nPrecision : {}, \\nRecall : {}, \\nF1 Score : {}'.format(key,vals[0],vals[1],vals[2],vals[3]))"
   ]
  },
  {
   "cell_type": "code",
   "execution_count": 7,
   "metadata": {},
   "outputs": [],
   "source": [
    "with open('results/representation_stats.json','r') as f:\n",
    "        sup_metrics_dict = json.load(f)"
   ]
  },
  {
   "cell_type": "code",
   "execution_count": 13,
   "metadata": {},
   "outputs": [],
   "source": [
    "import shutil\n",
    "saveloc = 'saved_models/Encoders'\n",
    "best_model_loc = 'saved_models/best_models'\n",
    "if not os.path.exists(best_model_loc):\n",
    "    os.makedirs(f'{best_model_loc}')\n",
    "for key in list(sup_metrics_dict.keys()):\n",
    "    if key != 'ptr':\n",
    "        col_names = ['Accuracy','Precision','Recall','F1 Score']\n",
    "        stat_df = pd.DataFrame.from_dict(sup_metrics_dict[key],orient='index',columns=col_names)\n",
    "        spec_saveloc = os.path.join(saveloc,key)\n",
    "        best_ind = np.argwhere(stat_df['F1 Score'].values == np.max(stat_df['F1 Score'])).item()\n",
    "        best_model_name = sorted(os.listdir(spec_saveloc))[best_ind]\n",
    "        shutil.copy(os.path.join(spec_saveloc,best_model_name), os.path.join(best_model_loc,'1DEncoder_{}.pt'.format(key))) "
   ]
  },
  {
   "cell_type": "code",
   "execution_count": 9,
   "metadata": {},
   "outputs": [
    {
     "data": {
      "text/plain": [
       "dict_keys(['ptr', 'atomic', 'pettifor', 'mod_pettifor', 'random', 'dense'])"
      ]
     },
     "execution_count": 9,
     "metadata": {},
     "output_type": "execute_result"
    }
   ],
   "source": []
  },
  {
   "cell_type": "code",
   "execution_count": 14,
   "metadata": {},
   "outputs": [
    {
     "name": "stderr",
     "output_type": "stream",
     "text": [
      "/tmp/ipykernel_99254/1136039384.py:19: UserWarning: FixedFormatter should only be used together with FixedLocator\n",
      "  ax[i].set_xticklabels(names, rotation=45)\n",
      "/tmp/ipykernel_99254/1136039384.py:19: UserWarning: FixedFormatter should only be used together with FixedLocator\n",
      "  ax[i].set_xticklabels(names, rotation=45)\n",
      "/tmp/ipykernel_99254/1136039384.py:19: UserWarning: FixedFormatter should only be used together with FixedLocator\n",
      "  ax[i].set_xticklabels(names, rotation=45)\n",
      "/tmp/ipykernel_99254/1136039384.py:19: UserWarning: FixedFormatter should only be used together with FixedLocator\n",
      "  ax[i].set_xticklabels(names, rotation=45)\n"
     ]
    },
    {
     "data": {
      "image/png": "[encoded data removed]",
      "text/plain": [
       "<Figure size 720x720 with 4 Axes>"
      ]
     },
     "metadata": {
      "needs_background": "light"
     },
     "output_type": "display_data"
    }
   ],
   "source": [
    "col_names = ['Accuracy','Precision','Recall','F1 Score']\n",
    "methods = ['dense','atomic','random','pettifor','mod_pettifor','ptr']\n",
    "names = ['DNN','CNN1-atom','CNN1-rand','CNN1-pet','CNN1-modpet','CNN2-PTR']\n",
    "with open('results/representation_stats.json','rb') as fid:\n",
    "        data_file = json.load(fid)\n",
    "mean_list = []\n",
    "std_list = []\n",
    "for i, k in enumerate(methods):\n",
    "        stat_arr = np.array(list(data_file[k].values()))\n",
    "        mean_list.append(stat_arr.mean(axis=0))\n",
    "        std_list.append(stat_arr.std(axis=0))\n",
    "mean_list = np.array(mean_list).T\n",
    "std_list = np.array(std_list).T\n",
    "fig, ax = plt.subplots(2,2,figsize=(10,10))\n",
    "ax = ax.ravel()\n",
    "for i, k in enumerate(col_names):\n",
    "        ax[i].bar(methods, mean_list[i], yerr = std_list[i],align='center', alpha=0.5, ecolor='black', capsize=10)\n",
    "        ax[i].set_title('Average {}'.format(k))\n",
    "        ax[i].set_xticklabels(names, rotation=45)\n",
    "\n",
    "fig.suptitle('10-fold CV on GFA dataset', fontsize = 14)\n",
    "plt.tight_layout()"
   ]
  },
  {
   "cell_type": "code",
   "execution_count": null,
   "metadata": {},
   "outputs": [],
   "source": []
  }
 ],
 "metadata": {
  "kernelspec": {
   "display_name": "Python 3.10.4 ('representations': conda)",
   "language": "python",
   "name": "python3"
  },
  "language_info": {
   "codemirror_mode": {
    "name": "ipython",
    "version": 3
   },
   "file_extension": ".py",
   "mimetype": "text/x-python",
   "name": "python",
   "nbconvert_exporter": "python",
   "pygments_lexer": "ipython3",
   "version": "3.10.4"
  },
  "orig_nbformat": 4,
  "vscode": {
   "interpreter": {
    "hash": "5d6d4f329abd04bfe6379b099819ba9ed35c0bee691259b7aa14222222f8ecb9"
   }
  }
 },
 "nbformat": 4,
 "nbformat_minor": 2
}
