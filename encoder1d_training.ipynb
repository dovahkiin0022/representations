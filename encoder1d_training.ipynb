{
 "cells": [
  {
   "cell_type": "code",
   "execution_count": 1,
   "metadata": {},
   "outputs": [],
   "source": [
    "import pandas as pd\n",
    "import numpy as np\n",
    "import json\n",
    "import pickle\n",
    "import glob\n",
    "from collections import defaultdict\n",
    "import torch\n",
    "from pymatgen import core as mg\n",
    "from sklearn.model_selection import train_test_split\n",
    "from torch.utils.data import DataLoader\n",
    "import torch.optim as optim\n",
    "import tqdm\n",
    "import os\n",
    "import joblib\n",
    "from sklearn.metrics import classification_report\n",
    "import seaborn as sns\n",
    "import matplotlib.pyplot as plt\n",
    "from modules.function import pymatgen_comp, data_generator_vec, check_cuda\n",
    "from modules.encoder import Encoder1D\n",
    "from modules.representation_schemes import get_PTR_features, properties_from_comp, get_vectorized_featues, get_atomic_number_features, get_pettifor_features, get_modified_pettifor_features"
   ]
  },
  {
   "cell_type": "code",
   "execution_count": 2,
   "metadata": {},
   "outputs": [
    {
     "name": "stdout",
     "output_type": "stream",
     "text": [
      "Enabling notebook extension jupyter-js-widgets/extension...\n",
      "      - Validating: \u001b[32mOK\u001b[0m\n"
     ]
    }
   ],
   "source": [
    "!jupyter nbextension enable --py widgetsnbextension"
   ]
  },
  {
   "cell_type": "code",
   "execution_count": 3,
   "metadata": {},
   "outputs": [],
   "source": [
    "alternate_orders_file = 'dataset/alternate_orders.pkl'\n",
    "with open(alternate_orders_file,'rb') as fid:\n",
    "    alternate_order_dict = pickle.load(fid)\n",
    "pettifor_order = alternate_order_dict['pettifor']\n",
    "modified_pettifor_order = alternate_order_dict['modified_pettifor']"
   ]
  },
  {
   "cell_type": "code",
   "execution_count": 5,
   "metadata": {},
   "outputs": [],
   "source": [
    "gfa_dataset_file = 'gfa_dataset.txt'\n",
    "z_row_column_file = 'Z_row_column.txt'\n",
    "element_property_file = 'element_property.txt'\n",
    "common_path = \"Files_from_GTDL_paper/{}\" \n",
    "gfa_dataset = pickle.load(open(common_path.format(gfa_dataset_file), 'rb'))  \n",
    "RC = pickle.load(open(common_path.format(z_row_column_file), 'rb')) \n",
    "new_index=[int(i[4]) for i in RC]#new order \n",
    "Z_row_column = pickle.load(open(common_path.format(z_row_column_file), 'rb'))\n",
    "[property_name_list,property_list,element_name,_]=pickle.load(open(common_path.format(element_property_file), 'rb'))"
   ]
  },
  {
   "cell_type": "code",
   "execution_count": 6,
   "metadata": {},
   "outputs": [],
   "source": [
    "import re\n",
    "\n",
    "to_discard = ['Rf','Db','Sg','Bh','Hs']\n",
    "\n",
    "def alt_read_gfa_dataset(dataset = gfa_dataset):\n",
    "    str_comp = []\n",
    "    Y = []\n",
    "    for i in  gfa_dataset:\n",
    "        gfa=re.findall('\\[[a-c]?\\]',i)[0]\n",
    "        tx1_element=re.findall('[A-Z][a-z]?', i)#[B, Fe, P,No]\n",
    "        tx2_temp=re.findall('\\$_{[0-9.]+}\\$', i)#[$_{[50]}$, ] [50 30 20]\n",
    "        tx2_value=[float(re.findall('[0-9.]+', i_tx2)[0]) for i_tx2 in tx2_temp]\n",
    "        test = ''.join([x+str(y) for x,y in zip(tx1_element,tx2_value)])\n",
    "        if gfa=='[c]':\n",
    "            y= 0 \n",
    "        if gfa=='[b]' or gfa == '[a]': \n",
    "            y= 1\n",
    "        if len(set(tx1_element).intersection(set(to_discard))) == 0:\n",
    "            str_comp.append(test)\n",
    "            Y.append(y)\n",
    "    return pymatgen_comp(str_comp),Y "
   ]
  },
  {
   "cell_type": "code",
   "execution_count": 7,
   "metadata": {},
   "outputs": [],
   "source": [
    "saveloc = 'saved_models/Encoders'\n",
    "if not os.path.exists(saveloc):\n",
    "    os.makedirs(f'{saveloc}')"
   ]
  },
  {
   "cell_type": "code",
   "execution_count": 36,
   "metadata": {},
   "outputs": [
    {
     "name": "stdout",
     "output_type": "stream",
     "text": [
      "Representation : atomic\n"
     ]
    },
    {
     "data": {
      "application/json": {
       "ascii": false,
       "bar_format": null,
       "colour": null,
       "elapsed": 0.01030731201171875,
       "initial": 0,
       "n": 0,
       "ncols": null,
       "nrows": null,
       "postfix": null,
       "prefix": "",
       "rate": null,
       "total": 2000,
       "unit": "it",
       "unit_divisor": 1000,
       "unit_scale": false
      },
      "application/vnd.jupyter.widget-view+json": {
       "model_id": "451a0911b76243e293bd8065ed8a6ebc",
       "version_major": 2,
       "version_minor": 0
      },
      "text/plain": [
       "  0%|          | 0/2000 [00:00<?, ?it/s]"
      ]
     },
     "metadata": {},
     "output_type": "display_data"
    },
    {
     "name": "stdout",
     "output_type": "stream",
     "text": [
      "Epoch : 1, Loss : 88.40683799982071\n",
      "Epoch : 50, Loss : 40.118571907281876\n",
      "Epoch : 100, Loss : 36.38038881123066\n",
      "Epoch : 150, Loss : 33.54350030422211\n",
      "Epoch : 200, Loss : 31.447614453732967\n",
      "Epoch : 250, Loss : 29.733502060174942\n",
      "Epoch : 300, Loss : 28.21218527108431\n",
      "Epoch : 350, Loss : 27.39868402481079\n",
      "Epoch : 400, Loss : 26.514958940446377\n",
      "Epoch : 450, Loss : 25.374690130352974\n",
      "Epoch : 500, Loss : 24.86833392083645\n",
      "Epoch : 550, Loss : 24.323177494108677\n",
      "Epoch : 600, Loss : 23.573110841214657\n",
      "Epoch : 650, Loss : 23.745235446840525\n",
      "Epoch : 700, Loss : 22.672374546527863\n",
      "Epoch : 750, Loss : 22.971562914550304\n"
     ]
    }
   ],
   "source": [
    "comp_gfa, y_gfa = alt_read_gfa_dataset()\n",
    "types = ['atomic','pettifor','mod_pettifor']\n",
    "order_dict = {}\n",
    "for i,k in enumerate(types):\n",
    "    print('Representation : {}'.format(k))\n",
    "    if k == 'atomic':\n",
    "        comp, at_order  = get_atomic_number_features(comp_gfa)\n",
    "        order_dict['atomic'] = at_order\n",
    "    elif k == 'pettifor':\n",
    "        comp, _  = get_atomic_number_features(comp_gfa, pettifor_order)\n",
    "        order_dict['pettifor'] = pettifor_order\n",
    "    elif k == 'mod_pettifor':\n",
    "        comp, _  = get_atomic_number_features(comp_gfa, modified_pettifor_order)\n",
    "        order_dict['mod_pettifor'] = modified_pettifor_order\n",
    "    X_all = comp.astype('float32')\n",
    "    y_all = np.array(y_gfa).reshape(-1,1).astype('float32')\n",
    "    X_train, X_test, y_train, y_test = train_test_split(X_all, y_all, test_size=0.20,random_state = 0)\n",
    "    batch = 64\n",
    "    Xy = [(X_train[i],y_train[i]) for i in range(len(y_train))]\n",
    "    train_loader = DataLoader(Xy, batch_size = batch , shuffle=True)\n",
    "    encoder1D = Encoder1D(1,1)\n",
    "    e_optimizer = optim.Adam(encoder1D.parameters(),lr = 1e-3)\n",
    "    num_iterations = 2000\n",
    "    cuda = check_cuda()\n",
    "    if cuda:\n",
    "        encoder1D = encoder1D.cuda()\n",
    "    log_interval = int(5e1)\n",
    "    for iter in tqdm.notebook.tqdm(range(num_iterations)):\n",
    "        train_loss = 0.0\n",
    "        for data in train_loader:\n",
    "            X,y = data\n",
    "            if cuda:\n",
    "                X = X.cuda()\n",
    "                y = y.cuda()\n",
    "            e_optimizer.zero_grad()\n",
    "            target = encoder1D(X)\n",
    "            if cuda:\n",
    "                target = target.cuda()\n",
    "            e_error = torch.nn.BCELoss()(target,y)\n",
    "            e_error.backward(retain_graph=True)\n",
    "            e_optimizer.step()\n",
    "            train_loss += e_error.cpu().item()\n",
    "        if iter == 0 or (iter + 1) % log_interval == 0:  \n",
    "                print('Epoch : {}, Loss : {}'.format(iter+1,train_loss))\n",
    "    joblib.dump(encoder1D,os.path.join(saveloc,'Encoder1D_{}.pt'.format(k)))"
   ]
  },
  {
   "cell_type": "code",
   "execution_count": 19,
   "metadata": {},
   "outputs": [
    {
     "name": "stdout",
     "output_type": "stream",
     "text": [
      "Representation : atomic\n",
      "Representation : pettifor\n",
      "Representation : mod_pettifor\n"
     ]
    },
    {
     "data": {
      "image/png": "[encoded data removed]",
      "text/plain": [
       "<Figure size 1440x360 with 3 Axes>"
      ]
     },
     "metadata": {
      "needs_background": "light"
     },
     "output_type": "display_data"
    }
   ],
   "source": [
    "cuda = check_cuda()\n",
    "comp_gfa, y_gfa = alt_read_gfa_dataset()\n",
    "types = ['atomic','pettifor','mod_pettifor']\n",
    "order_dict = {}\n",
    "fig,ax = plt.subplots(1,3,figsize = (20,5))\n",
    "ax = ax.ravel()\n",
    "for i,k in enumerate(types):\n",
    "    print('Representation : {}'.format(k))\n",
    "    if k == 'atomic':\n",
    "        comp, at_order  = get_atomic_number_features(comp_gfa)\n",
    "        order_dict['atomic'] = at_order\n",
    "    elif k == 'pettifor':\n",
    "        comp, _  = get_atomic_number_features(comp_gfa, pettifor_order)\n",
    "        order_dict['pettifor'] = pettifor_order\n",
    "    elif k == 'mod_pettifor':\n",
    "        comp, _  = get_atomic_number_features(comp_gfa, modified_pettifor_order)\n",
    "        order_dict['mod_pettifor'] = modified_pettifor_order\n",
    "    encoder1D = joblib.load(os.path.join(saveloc,'Encoder1D_{}.pt'.format(k)))\n",
    "    if cuda:\n",
    "        encoder1D = encoder1D.cuda()\n",
    "    X_all = comp.astype('float32')\n",
    "    y_all = np.array(y_gfa).reshape(-1,1).astype('float32')\n",
    "    X_train, X_test, y_train, y_test = train_test_split(X_all, y_all, test_size=0.20,random_state = 0)\n",
    "    if X_test.dtype != torch.float32:\n",
    "        X_test = torch.from_numpy(X_test)\n",
    "    if cuda:\n",
    "        X_test =  X_test.cuda()\n",
    "    y_predict = (encoder1D(X_test)).to('cpu').detach().numpy()\n",
    "    target_names = ['Crystalline','Amorphous']\n",
    "    clf = classification_report(y_test, np.round(y_predict), target_names=target_names,output_dict=True)\n",
    "    \n",
    "\n",
    "    g = sns.heatmap(pd.DataFrame(clf).iloc[:-1, :2].T, annot=True, vmax=1,vmin=0.9,cmap = 'GnBu', cbar=False, ax=ax[i])\n",
    "    ax[i].set_yticklabels(labels = ['Crystalline','Amorphous'],fontsize=12)\n",
    "    ax[i].set_xticklabels(labels = ['Precision','Recall','f1-score'],fontsize=12)\n",
    "    ax[i].set_title('Classification report_{}'.format(types[i]),fontsize=14)\n",
    "plt.tight_layout()"
   ]
  },
  {
   "cell_type": "code",
   "execution_count": null,
   "metadata": {},
   "outputs": [],
   "source": []
  }
 ],
 "metadata": {
  "kernelspec": {
   "display_name": "Python 3.10.4 ('representations': conda)",
   "language": "python",
   "name": "python3"
  },
  "language_info": {
   "codemirror_mode": {
    "name": "ipython",
    "version": 3
   },
   "file_extension": ".py",
   "mimetype": "text/x-python",
   "name": "python",
   "nbconvert_exporter": "python",
   "pygments_lexer": "ipython3",
   "version": "3.10.4"
  },
  "orig_nbformat": 4,
  "vscode": {
   "interpreter": {
    "hash": "5d6d4f329abd04bfe6379b099819ba9ed35c0bee691259b7aa14222222f8ecb9"
   }
  }
 },
 "nbformat": 4,
 "nbformat_minor": 2
}
