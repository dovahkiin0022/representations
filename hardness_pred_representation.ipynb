{
 "cells": [
  {
   "cell_type": "code",
   "execution_count": 1,
   "metadata": {},
   "outputs": [
    {
     "name": "stderr",
     "output_type": "stream",
     "text": [
      "/noether/s0/aqd5773/anaconda3/envs/representations/lib/python3.10/site-packages/tqdm/auto.py:22: TqdmWarning: IProgress not found. Please update jupyter and ipywidgets. See https://ipywidgets.readthedocs.io/en/stable/user_install.html\n",
      "  from .autonotebook import tqdm as notebook_tqdm\n"
     ]
    }
   ],
   "source": [
    "import pandas as pd\n",
    "import numpy as np\n",
    "import json\n",
    "import pickle\n",
    "import glob\n",
    "from collections import defaultdict\n",
    "from pymatgen import core as mg\n",
    "from modules.rom import properties_from_comp"
   ]
  },
  {
   "cell_type": "code",
   "execution_count": 2,
   "metadata": {},
   "outputs": [],
   "source": [
    "hardness_file_path = 'dataset/paper_hardness.csv'\n",
    "hardness_df = pd.read_csv(hardness_file_path,index_col = 0)\n",
    "hardness_df.reset_index(inplace=True)\n",
    "comps = hardness_df['Composition']\n",
    "hardness_vickers = hardness_df['HV']"
   ]
  },
  {
   "cell_type": "code",
   "execution_count": 4,
   "metadata": {},
   "outputs": [
    {
     "data": {
      "text/plain": [
       "(array([[ 12.49717807,   5.28885621,   0.42705301, ..., 192.993331  ,\n",
       "         302.00528595,   8.60787378],\n",
       "        [ 12.1449578 ,   5.32290647,   0.773032  , ..., 181.126998  ,\n",
       "         285.71028374,   7.80557185],\n",
       "        [ 14.00047618,   5.91607978,   1.03535143, ..., 167.214998  ,\n",
       "         285.71028374,   7.04335768],\n",
       "        ...,\n",
       "        [ 12.77887949,   7.65898166,   1.13626792, ..., 136.070631  ,\n",
       "         300.45504586,   6.40856243],\n",
       "        [ 13.71422619,   6.06630036,   1.14732759, ..., 162.015998  ,\n",
       "         299.57322736,   6.83276267],\n",
       "        [ 11.85729507,   6.24232863,   1.08462246, ..., 153.52611   ,\n",
       "         282.10395369,   6.34263613]]),\n",
       " ['Atomic wt. dev.',\n",
       "  'Column dev.',\n",
       "  'Specific dens. dev.',\n",
       "  'VEC',\n",
       "  'Melt. T.',\n",
       "  'Bulk mod.',\n",
       "  'Delta S',\n",
       "  'Density'])"
      ]
     },
     "execution_count": 4,
     "metadata": {},
     "output_type": "execute_result"
    }
   ],
   "source": [
    "properties_from_comp(comps)"
   ]
  },
  {
   "cell_type": "code",
   "execution_count": null,
   "metadata": {},
   "outputs": [],
   "source": []
  }
 ],
 "metadata": {
  "kernelspec": {
   "display_name": "Python 3.10.4 ('representations': conda)",
   "language": "python",
   "name": "python3"
  },
  "language_info": {
   "codemirror_mode": {
    "name": "ipython",
    "version": 3
   },
   "file_extension": ".py",
   "mimetype": "text/x-python",
   "name": "python",
   "nbconvert_exporter": "python",
   "pygments_lexer": "ipython3",
   "version": "3.10.4"
  },
  "orig_nbformat": 4,
  "vscode": {
   "interpreter": {
    "hash": "5d6d4f329abd04bfe6379b099819ba9ed35c0bee691259b7aa14222222f8ecb9"
   }
  }
 },
 "nbformat": 4,
 "nbformat_minor": 2
}
